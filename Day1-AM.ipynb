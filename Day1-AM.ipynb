{
 "cells": [
  {
   "cell_type": "markdown",
   "id": "742ee97a",
   "metadata": {},
   "source": [
    "# Python 실습 환경"
   ]
  },
  {
   "cell_type": "code",
   "execution_count": 1,
   "id": "5954ee7b-652e-47b9-9a3f-49e289bd5b8a",
   "metadata": {},
   "outputs": [
    {
     "name": "stdout",
     "output_type": "stream",
     "text": [
      "python 버전 : 3.10.11 (tags/v3.10.11:7d4cc5a, Apr  5 2023, 00:38:17) [MSC v.1929 64 bit (AMD64)]\n",
      "numpy 버전 : 1.26.2\n",
      "pandas 버전 : 2.1.3\n"
     ]
    }
   ],
   "source": [
    "import sys\n",
    "print(\"python 버전 : {}\".format(sys.version))\n",
    "\n",
    "import numpy as np\n",
    "print(\"numpy 버전 : {}\".format(np.__version__))\n",
    "\n",
    "import pandas as pd\n",
    "print(\"pandas 버전 : {}\".format(pd.__version__))"
   ]
  },
  {
   "cell_type": "code",
   "execution_count": 2,
   "id": "5422afa8",
   "metadata": {},
   "outputs": [
    {
     "data": {
      "text/plain": [
       "'c:\\\\DEV'"
      ]
     },
     "execution_count": 2,
     "metadata": {},
     "output_type": "execute_result"
    }
   ],
   "source": [
    "import os\n",
    "os.getcwd()"
   ]
  },
  {
   "cell_type": "code",
   "execution_count": 3,
   "id": "f84af09c",
   "metadata": {},
   "outputs": [
    {
     "data": {
      "text/plain": [
       "'c:\\\\'"
      ]
     },
     "execution_count": 3,
     "metadata": {},
     "output_type": "execute_result"
    }
   ],
   "source": [
    "os.chdir(\"..\")\n",
    "os.getcwd()"
   ]
  },
  {
   "cell_type": "code",
   "execution_count": 4,
   "id": "5fb342ef",
   "metadata": {},
   "outputs": [
    {
     "data": {
      "text/plain": [
       "'c:\\\\'"
      ]
     },
     "execution_count": 4,
     "metadata": {},
     "output_type": "execute_result"
    }
   ],
   "source": [
    "%pwd"
   ]
  },
  {
   "cell_type": "code",
   "execution_count": 5,
   "id": "469cc410",
   "metadata": {},
   "outputs": [
    {
     "name": "stdout",
     "output_type": "stream",
     "text": [
      " Volume in drive C is Windows\n",
      " Volume Serial Number is 24A6-A8B5\n",
      "\n",
      " Directory of c:\\\n",
      "\n",
      "12/06/2023  08:58 PM    <DIR>          DEV\n",
      "05/07/2022  02:24 PM    <DIR>          PerfLogs\n",
      "12/04/2023  08:31 PM    <DIR>          Program Files\n",
      "12/04/2023  08:30 PM    <DIR>          Program Files (x86)\n",
      "12/04/2023  08:09 PM    <DIR>          Users\n",
      "12/04/2023  08:10 PM             1,548 vboxpostinstall.log\n",
      "12/04/2023  09:04 PM    <DIR>          Windows\n",
      "               1 File(s)          1,548 bytes\n",
      "               6 Dir(s)  73,374,683,136 bytes free\n"
     ]
    }
   ],
   "source": [
    "!dir"
   ]
  },
  {
   "cell_type": "code",
   "execution_count": 6,
   "id": "31a667d2",
   "metadata": {},
   "outputs": [
    {
     "data": {
      "text/plain": [
       "'c:\\\\DEV\\\\adspenv'"
      ]
     },
     "execution_count": 6,
     "metadata": {},
     "output_type": "execute_result"
    }
   ],
   "source": [
    "os.chdir(\"DEV/adspenv\")\n",
    "os.getcwd()"
   ]
  },
  {
   "cell_type": "markdown",
   "id": "54771099",
   "metadata": {},
   "source": [
    "# 『2과목』 Python에서 데이터 구조화 하기"
   ]
  },
  {
   "cell_type": "markdown",
   "id": "0de71023",
   "metadata": {},
   "source": [
    "## 파이썬 연산처리"
   ]
  },
  {
   "cell_type": "code",
   "execution_count": 7,
   "id": "48086410",
   "metadata": {},
   "outputs": [
    {
     "name": "stdout",
     "output_type": "stream",
     "text": [
      "11\n",
      "3\n",
      "28\n",
      "1\n",
      "1.75\n",
      "3\n",
      "2401\n",
      "0.00041649312786339027\n",
      "1\n"
     ]
    }
   ],
   "source": [
    "print(7 + 4)  # 7 더하기 4는 11\n",
    "\n",
    "print(7 - 4) # 7 빼기 4는 3\n",
    "\n",
    "print(7 * 4) # 7 곱하기 4는 28\n",
    "\n",
    "print(7 // 4) # 7을 4로 나눈 몫은 1\n",
    "\n",
    "print(7 / 4) # 7을 4로 나누기  1.75\n",
    "\n",
    "print(7 % 4) # 7을 4로 나눈 나머지는 3\n",
    "\n",
    "print(7 ** 4) # 네제곱 2401\n",
    "\n",
    "print(7 ** -4) # 음수 제곱은 역수 7^(-4)\n",
    "\n",
    "print(7 ** 0) # 모든 수의 0 제곱은 1"
   ]
  },
  {
   "cell_type": "code",
   "execution_count": 8,
   "id": "6bf33bc9",
   "metadata": {},
   "outputs": [
    {
     "name": "stdout",
     "output_type": "stream",
     "text": [
      "5000\n",
      "120\n",
      "41\n",
      "5000원으로 120원짜리 사탕을 최대한 살 수 있는 갯수 = 41\n",
      "80\n",
      "5000원으로 120원짜리 사탕을 사고 남은 돈은 = 80\n"
     ]
    }
   ],
   "source": [
    "myMoney = 5000;\n",
    "print(myMoney)\n",
    "candyPrice = 120;\n",
    "print(candyPrice)\n",
    "#최대한 살 수 있는 사탕 수 계산식? 갖고 있는 돈 // 사탕 가격\n",
    "numCandies = myMoney // candyPrice\n",
    "print(numCandies)\n",
    "print('5000원으로 120원짜리 사탕을 최대한 살 수 있는 갯수 =', numCandies)\n",
    "#그렇다면, 남은 돈은 얼마일까?\n",
    "change = myMoney % candyPrice;\n",
    "print(change)\n",
    "print(\"5000원으로 120원짜리 사탕을 사고 남은 돈은 =\", change)"
   ]
  },
  {
   "cell_type": "markdown",
   "id": "74486e82",
   "metadata": {},
   "source": [
    "## 파이썬 원소와 자료형"
   ]
  },
  {
   "cell_type": "code",
   "execution_count": 9,
   "id": "563dc636",
   "metadata": {
    "scrolled": true
   },
   "outputs": [
    {
     "name": "stdout",
     "output_type": "stream",
     "text": [
      "123000.0\n"
     ]
    }
   ],
   "source": [
    "print(123e3)"
   ]
  },
  {
   "cell_type": "code",
   "execution_count": 10,
   "id": "3759e562",
   "metadata": {},
   "outputs": [
    {
     "name": "stdout",
     "output_type": "stream",
     "text": [
      "0.0123\n"
     ]
    }
   ],
   "source": [
    "print(123e-4)"
   ]
  },
  {
   "cell_type": "code",
   "execution_count": 11,
   "id": "09a0f596",
   "metadata": {},
   "outputs": [
    {
     "name": "stdin",
     "output_type": "stream",
     "text": [
      "나이:  24\n"
     ]
    }
   ],
   "source": [
    "age = input('나이: ')"
   ]
  },
  {
   "cell_type": "code",
   "execution_count": 12,
   "id": "28e879a2",
   "metadata": {},
   "outputs": [
    {
     "name": "stdout",
     "output_type": "stream",
     "text": [
      "34\n"
     ]
    }
   ],
   "source": [
    "print(int(age) + 10)"
   ]
  },
  {
   "cell_type": "code",
   "execution_count": 13,
   "id": "ace77b14",
   "metadata": {},
   "outputs": [
    {
     "name": "stdout",
     "output_type": "stream",
     "text": [
      "abc\n"
     ]
    }
   ],
   "source": [
    "print('abc')"
   ]
  },
  {
   "cell_type": "code",
   "execution_count": 14,
   "id": "046272c7",
   "metadata": {},
   "outputs": [
    {
     "name": "stdout",
     "output_type": "stream",
     "text": [
      "abc\n"
     ]
    }
   ],
   "source": [
    "print(\"abc\")"
   ]
  },
  {
   "cell_type": "code",
   "execution_count": 15,
   "id": "783f5993",
   "metadata": {},
   "outputs": [
    {
     "name": "stdout",
     "output_type": "stream",
     "text": [
      "'a'bc\n"
     ]
    }
   ],
   "source": [
    "print(\"'a'bc\")"
   ]
  },
  {
   "cell_type": "code",
   "execution_count": 16,
   "id": "982052f6",
   "metadata": {},
   "outputs": [
    {
     "name": "stdout",
     "output_type": "stream",
     "text": [
      "\"a\"bc\n"
     ]
    }
   ],
   "source": [
    "print('\"a\"bc')"
   ]
  },
  {
   "cell_type": "code",
   "execution_count": 17,
   "id": "844629b7",
   "metadata": {},
   "outputs": [
    {
     "name": "stdout",
     "output_type": "stream",
     "text": [
      "'a'bc\n",
      "\"a\"bc\n"
     ]
    }
   ],
   "source": [
    "print('\\'a\\'bc')\n",
    "\n",
    "print(\"\\\"a\\\"bc\")"
   ]
  },
  {
   "cell_type": "code",
   "execution_count": 18,
   "id": "a00b1ade",
   "metadata": {},
   "outputs": [
    {
     "name": "stdout",
     "output_type": "stream",
     "text": [
      "abc\n",
      "abc\n",
      "\"a\"bc\n",
      "'a'bc\n"
     ]
    }
   ],
   "source": [
    "print('''abc''')\n",
    "\n",
    "print(\"\"\"abc\"\"\")\n",
    "\n",
    "print(\"\"\"\"a\"bc\"\"\")\n",
    "\n",
    "print(\"\"\"'a'bc\"\"\")"
   ]
  },
  {
   "cell_type": "code",
   "execution_count": 19,
   "id": "56b4483c",
   "metadata": {},
   "outputs": [
    {
     "name": "stdout",
     "output_type": "stream",
     "text": [
      "p\n",
      "n\n",
      "yth\n",
      "yth\n"
     ]
    }
   ],
   "source": [
    "print('python'[0])\n",
    "print('python'[5])\n",
    "print('python'[1:4])\n",
    "print('python'[1:4])"
   ]
  },
  {
   "cell_type": "code",
   "execution_count": 20,
   "id": "c739c928",
   "metadata": {},
   "outputs": [
    {
     "name": "stdout",
     "output_type": "stream",
     "text": [
      "H\n",
      "W\n",
      "!\n"
     ]
    }
   ],
   "source": [
    "my_string = \"Hello, World!\"\n",
    "\n",
    "# 문자열에서 특정 인덱스의 문자 가져오기\n",
    "print(my_string[0])   # 'H'\n",
    "print(my_string[7])   # 'W'\n",
    "print(my_string[-1])  # '!'"
   ]
  },
  {
   "cell_type": "code",
   "execution_count": 21,
   "id": "badcfc78",
   "metadata": {},
   "outputs": [
    {
     "name": "stdout",
     "output_type": "stream",
     "text": [
      "Hello\n",
      "World!\n",
      "Hello\n",
      "Hlo ol!\n"
     ]
    }
   ],
   "source": [
    "my_string = \"Hello, World!\"\n",
    "\n",
    "# 문자열에서 일부분 추출하기\n",
    "print(my_string[0:5])    # 'Hello'\n",
    "print(my_string[7:])     # 'World!'\n",
    "print(my_string[:5])     # 'Hello'\n",
    "print(my_string[::2])    # 'Hlo ol!'"
   ]
  },
  {
   "cell_type": "code",
   "execution_count": 22,
   "id": "2660165b",
   "metadata": {},
   "outputs": [
    {
     "name": "stdout",
     "output_type": "stream",
     "text": [
      "!\n",
      "World\n"
     ]
    }
   ],
   "source": [
    "my_string = \"Hello, World!\"\n",
    "\n",
    "print(my_string[-1])     # '!'\n",
    "print(my_string[-6:-1])  # 'World'"
   ]
  },
  {
   "cell_type": "code",
   "execution_count": 23,
   "id": "4ef2f3e2",
   "metadata": {},
   "outputs": [
    {
     "name": "stdout",
     "output_type": "stream",
     "text": [
      "성별 : 1\n",
      "연 : 23\n",
      "월 : 01\n",
      "일 : 31\n",
      "생년월일 : 230131\n",
      "뒤 7자리 : 1234567\n"
     ]
    }
   ],
   "source": [
    "residentRegistrationNumber = \"230131-1234567\"\n",
    "\n",
    "print(\"성별 : \" + residentRegistrationNumber[7]) # 성별 : 1\n",
    "print(\"연 : \" + residentRegistrationNumber[0:2]) # 0 부터 2 직전까지 (0, 1) : 99 년\n",
    "print(\"월 : \" + residentRegistrationNumber[2:4]) # 2 부터 4 직전까지 (2, 3) : 01 월\n",
    "print(\"일 : \" + residentRegistrationNumber[4:6]) # 4 부터 6 직전까지 (4, 5) : 20 일\n",
    "\n",
    "print(\"생년월일 : \" + residentRegistrationNumber[:6]) # 처음부터 6 직전까지 -> jumin[0:6] 과 동일\n",
    "print(\"뒤 7자리 : \" + residentRegistrationNumber[7:]) # 7 부터 끝까지 -> jumin[7:14] 와 동일"
   ]
  },
  {
   "cell_type": "code",
   "execution_count": 24,
   "id": "f90d2131",
   "metadata": {},
   "outputs": [
    {
     "name": "stdout",
     "output_type": "stream",
     "text": [
      "a\n",
      "b\n",
      "c\n",
      "c\n"
     ]
    }
   ],
   "source": [
    "print(\"abc\"[0])\n",
    "\n",
    "print(\"abc\"[1])\n",
    "\n",
    "print(\"abc\"[2])\n",
    "\n",
    "print(\"abc\"[-1])"
   ]
  },
  {
   "cell_type": "code",
   "execution_count": 25,
   "id": "cbd72b31",
   "metadata": {},
   "outputs": [
    {
     "name": "stdout",
     "output_type": "stream",
     "text": [
      "ab\n",
      "bc\n"
     ]
    }
   ],
   "source": [
    "print(\"abc\"[:2])\n",
    "\n",
    "print(\"abc\"[-2:])"
   ]
  },
  {
   "cell_type": "code",
   "execution_count": 26,
   "id": "473d7ea4",
   "metadata": {},
   "outputs": [
    {
     "name": "stdin",
     "output_type": "stream",
     "text": [
      "참(1)/거짓(0):  0\n"
     ]
    }
   ],
   "source": [
    "flag = input('참(1)/거짓(0): ')"
   ]
  },
  {
   "cell_type": "code",
   "execution_count": 27,
   "id": "995b8c83",
   "metadata": {},
   "outputs": [
    {
     "name": "stdout",
     "output_type": "stream",
     "text": [
      "0\n"
     ]
    }
   ],
   "source": [
    "print(flag)"
   ]
  },
  {
   "cell_type": "code",
   "execution_count": 28,
   "id": "5ba6065d",
   "metadata": {},
   "outputs": [],
   "source": [
    "flag_i = int(flag)"
   ]
  },
  {
   "cell_type": "code",
   "execution_count": 29,
   "id": "a05d8dc5",
   "metadata": {},
   "outputs": [
    {
     "name": "stdout",
     "output_type": "stream",
     "text": [
      "False\n"
     ]
    }
   ],
   "source": [
    "print(bool(flag_i))"
   ]
  },
  {
   "cell_type": "code",
   "execution_count": 30,
   "id": "df5e3a85",
   "metadata": {},
   "outputs": [
    {
     "name": "stdin",
     "output_type": "stream",
     "text": [
      "당신은 성인입니까?[에(1)/아니오(0)\n",
      " 0\n"
     ]
    }
   ],
   "source": [
    "flag_a = input('당신은 성인입니까?[에(1)/아니오(0)\\n')"
   ]
  },
  {
   "cell_type": "code",
   "execution_count": 31,
   "id": "f2d0c46c",
   "metadata": {},
   "outputs": [
    {
     "name": "stdout",
     "output_type": "stream",
     "text": [
      "False\n"
     ]
    }
   ],
   "source": [
    "flag_a = int(flag_a)\n",
    "print(bool(flag_a))"
   ]
  },
  {
   "cell_type": "markdown",
   "id": "4c848454",
   "metadata": {},
   "source": [
    "## 파이썬에서 자료구조"
   ]
  },
  {
   "cell_type": "code",
   "execution_count": 32,
   "id": "a0008dc4",
   "metadata": {},
   "outputs": [
    {
     "name": "stdout",
     "output_type": "stream",
     "text": [
      "1\n",
      "String\n",
      "3\n"
     ]
    }
   ],
   "source": [
    "flist = [1, \"String\", 3]\n",
    "for i in flist:\n",
    "    print(i)"
   ]
  },
  {
   "cell_type": "markdown",
   "id": "78e2bad3",
   "metadata": {},
   "source": [
    "### Lists"
   ]
  },
  {
   "cell_type": "code",
   "execution_count": 33,
   "id": "3e1d5964",
   "metadata": {},
   "outputs": [
    {
     "name": "stdout",
     "output_type": "stream",
     "text": [
      "[]\n",
      "[1, 2, 3]\n",
      "['Life', 'is', 'too', 'short']\n",
      "[1, 2, 'Life', 'is']\n",
      "[1, 2, ['Life', 'is']]\n"
     ]
    }
   ],
   "source": [
    "a = []                   # 빈 리스트\n",
    "b = [1, 2, 3]            # 숫자로 이루어진 리스트\n",
    "c = ['Life', 'is', 'too', 'short']  # 문자열로 이루어진 리스트\n",
    "d = [1, 2, 'Life', 'is']  # 숫자와 문자열이 혼합된 리스트\n",
    "e = [1, 2, ['Life', 'is']]  # 리스트 내에 또 다른 리스트를 포함한 리스트\n",
    "\n",
    "print(a)  # []\n",
    "print(b)  # [1, 2, 3]\n",
    "print(c)  # ['Life', 'is', 'too', 'short']\n",
    "print(d)  # [1, 2, 'Life', 'is']\n",
    "print(e)  # [1, 2, ['Life', 'is']]"
   ]
  },
  {
   "cell_type": "code",
   "execution_count": 34,
   "id": "39a9cd0d",
   "metadata": {},
   "outputs": [
    {
     "name": "stdout",
     "output_type": "stream",
     "text": [
      "[1, 2, 3]\n",
      "1\n",
      "4\n",
      "3\n",
      "1\n",
      "['a', 'b', 'c']\n",
      "['a', 'b', 'c']\n",
      "a\n",
      "b\n",
      "Life\n"
     ]
    }
   ],
   "source": [
    "L1 = [ 1, 2, 3] # L1: 리스트 [1, 2, 3]을 정의하고, 인덱싱을 통해 요소를 출력합니다. L1[0]는 첫 번째 요소를, L1[-1]은 마지막 요소를 나타냅니다.\n",
    "print(L1)\n",
    "print(L1[0])\n",
    "print(L1[0] + L1[2])\n",
    "print(L1[-1])\n",
    "L2 = [ 1, 2, 3, ['a', 'b', 'c']] # L2: 리스트 [1, 2, 3, ['a', 'b', 'c']]를 정의하고, 인덱싱을 통해 요소를 출력합니다. L2[-1][0]과 L2[-1][1]은 리스트 내에 있는 내부 리스트의 첫 번째와 두 번째 요소를 나타냅니다.\n",
    "print(L2[0])\n",
    "print(L2[-1])\n",
    "print(L2[3])\n",
    "print(L2[-1][0])\n",
    "print(L2[-1][1])\n",
    "L3 = [1, 2, ['a', 'b', ['Life', 'is']]] # L3: 리스트 [1, 2, ['a', 'b', ['Life', 'is']]]를 정의하고, 인덱싱을 통해 요소를 출력합니다. L3[2][2][0]은 리스트 내에 중첩된 내부 리스트에서 'Life'라는 문자열을 나타냅니다.\n",
    "print(L3[2][2][0])"
   ]
  },
  {
   "cell_type": "code",
   "execution_count": 35,
   "id": "fc3949ad",
   "metadata": {},
   "outputs": [
    {
     "name": "stdout",
     "output_type": "stream",
     "text": [
      "[[1, 2, 3], [4, 5, 6]]\n",
      "4\n"
     ]
    }
   ],
   "source": [
    "L1 = [\n",
    "    [1,2,3],\n",
    "    [4,5,6]\n",
    "]                  # L1: 2차원 리스트로 각각의 요소가 리스트인 리스트입니다. [1, 2, 3]과 [4, 5, 6] 두 개의 리스트가 포함되어 있습니다.\n",
    "\n",
    "print(L1)\n",
    "print(L1[1][0]) # L1[1][0]: L1의 두 번째 리스트(인덱스 1)에서 첫 번째 요소(인덱스 0)를 가져옵니다. 따라서 출력 결과는 4가 됩니다."
   ]
  },
  {
   "cell_type": "code",
   "execution_count": 36,
   "id": "9fe6eccc",
   "metadata": {},
   "outputs": [
    {
     "name": "stdout",
     "output_type": "stream",
     "text": [
      "[1, 2]\n",
      "12\n",
      "[1, 2]\n",
      "[3, 4, 5]\n",
      "[3, ['a', 'b', 'c'], 4]\n",
      "['a', 'b']\n"
     ]
    }
   ],
   "source": [
    "L1 = [1, 2, 3, 4, 5]\n",
    "print(L1[0:2])         # L1[0:2]는 리스트 L1에서 인덱스 0부터 1까지의 요소를 추출합니다.\n",
    "L2 = \"12345\"\n",
    "print(L2[0:2])         # L2[0:2]는 문자열 L2에서 인덱스 0부터 1까지의 문자열을 추출합니다.\n",
    "L3 = [1, 2, 3, 4, 5]\n",
    "L4 = L3[:2]                # L3[:2]는 리스트 L3에서 처음부터 인덱스 1까지의 요소를 추출합니다.\n",
    "L5 = L3[2:]                # L3[2:]는 리스트 L3에서 인덱스 2부터 마지막 요소까지를 추출합니다.\n",
    "print(L4)\n",
    "print(L5)\n",
    "L6 = [1, 2, 3, ['a', 'b', 'c'], 4, 5]\n",
    "print(L6[2:5])          # L6[2:5]는 리스트 L6에서 인덱스 2부터 4까지의 요소를 추출합니다.\n",
    "print(L6[3][:2])       # L6[3][:2]는 리스트 L6에서 인덱스 3의 리스트에서 처음부터 인덱스 1까지의 요소를 추출합니다."
   ]
  },
  {
   "cell_type": "code",
   "execution_count": 37,
   "id": "4695da23",
   "metadata": {},
   "outputs": [
    {
     "name": "stdout",
     "output_type": "stream",
     "text": [
      "[1, 2, 3, 4, 5, 6]\n",
      "[1, 2, 3, 1, 2, 3, 1, 2, 3]\n"
     ]
    }
   ],
   "source": [
    "L1 = [1, 2, 3]\n",
    "L2 = [4, 5, 6]\n",
    "print(L1 + L2)  # L1 + L2: 두 개의 리스트 L1과 L2를 연결하여 하나의 새로운 리스트를 만듭니다.\n",
    "print(L1 * 3)      # L1 * 3: 리스트 L1을 세 번 반복하여 하나의 새로운 리스트를 만듭니다."
   ]
  },
  {
   "cell_type": "code",
   "execution_count": 38,
   "id": "18573f23",
   "metadata": {},
   "outputs": [
    {
     "name": "stdout",
     "output_type": "stream",
     "text": [
      "[1, 2, 3]\n",
      "[1, 2, 4]\n",
      "[2]\n",
      "[1, 'a', 'b', 'c', 4]\n",
      "[1, 'c', 4]\n",
      "[1, 4]\n"
     ]
    }
   ],
   "source": [
    "L1 = [1, 2, 3]\n",
    "print(L1)\n",
    "L1[2] = 4     # L1[2] = 4: 리스트 L1의 인덱스 2 위치의 값을 4로 변경합니다.\n",
    "print(L1)\n",
    "print(L1[1:2]) # L1[1:2] = ['a', 'b', 'c']: 리스트 L1에서 인덱스 1부터 인덱스 2 전까지의 범위에 해당하는 요소를 'a', 'b', 'c'로 대체합니다.\n",
    "L1[1:2] = ['a', 'b', 'c']\n",
    "print(L1)\n",
    "L1[1:3] = [] # L1[1:3] = []: 리스트 L1에서 인덱스 1부터 인덱스 2까지의 범위에 해당하는 요소를 삭제합니다.\n",
    "print(L1)\n",
    "del L1[1]     # del L1[1]: 리스트 L1에서 인덱스 1의 요소를 삭제합니다.\n",
    "print(L1)"
   ]
  },
  {
   "cell_type": "code",
   "execution_count": 39,
   "id": "704296e9",
   "metadata": {},
   "outputs": [
    {
     "name": "stdout",
     "output_type": "stream",
     "text": [
      "True\n",
      "False\n",
      "False\n",
      "True\n"
     ]
    }
   ],
   "source": [
    "L1 = [1, 2, 3]\n",
    "\n",
    "print(2 in L1)    # True - 2는 리스트 L1 안에 존재합니다.\n",
    "print(4 in L1)    # False - 4는 리스트 L1 안에 존재하지 않습니다.\n",
    "print(2 not in L1)  # False - 2는 리스트 L1 안에 존재합니다. 따라서 \"not in\" 연산자는 False를 반환합니다.\n",
    "print(4 not in L1)  # True - 4는 리스트 L1 안에 존재하지 않습니다. 따라서 \"not in\" 연산자는 True를 반환합니다."
   ]
  },
  {
   "cell_type": "code",
   "execution_count": 40,
   "id": "efdab32e",
   "metadata": {},
   "outputs": [
    {
     "data": {
      "text/plain": [
       "['__add__',\n",
       " '__class__',\n",
       " '__class_getitem__',\n",
       " '__contains__',\n",
       " '__delattr__',\n",
       " '__delitem__',\n",
       " '__dir__',\n",
       " '__doc__',\n",
       " '__eq__',\n",
       " '__format__',\n",
       " '__ge__',\n",
       " '__getattribute__',\n",
       " '__getitem__',\n",
       " '__gt__',\n",
       " '__hash__',\n",
       " '__iadd__',\n",
       " '__imul__',\n",
       " '__init__',\n",
       " '__init_subclass__',\n",
       " '__iter__',\n",
       " '__le__',\n",
       " '__len__',\n",
       " '__lt__',\n",
       " '__mul__',\n",
       " '__ne__',\n",
       " '__new__',\n",
       " '__reduce__',\n",
       " '__reduce_ex__',\n",
       " '__repr__',\n",
       " '__reversed__',\n",
       " '__rmul__',\n",
       " '__setattr__',\n",
       " '__setitem__',\n",
       " '__sizeof__',\n",
       " '__str__',\n",
       " '__subclasshook__',\n",
       " 'append',\n",
       " 'clear',\n",
       " 'copy',\n",
       " 'count',\n",
       " 'extend',\n",
       " 'index',\n",
       " 'insert',\n",
       " 'pop',\n",
       " 'remove',\n",
       " 'reverse',\n",
       " 'sort']"
      ]
     },
     "execution_count": 40,
     "metadata": {},
     "output_type": "execute_result"
    }
   ],
   "source": [
    "L1 = [1, 2, 3]\n",
    "\n",
    "dir(L1)"
   ]
  },
  {
   "cell_type": "code",
   "execution_count": 41,
   "id": "e26be14c",
   "metadata": {},
   "outputs": [
    {
     "name": "stdout",
     "output_type": "stream",
     "text": [
      "Output #83: [1, 2, 3, 4, 5, 6]\n",
      "Output #84: [1, 2, 3, 4, 6]\n",
      "Output #85: [1, 2, 3]\n"
     ]
    }
   ],
   "source": [
    "L1 = [1, 2, 3]\n",
    "\n",
    "L1.append(4)    # 리스트 끝에 요소 4를 추가합니다.\n",
    "L1.append(5)    # 리스트 끝에 요소 5를 추가합니다.\n",
    "L1.append(6)    # 리스트 끝에 요소 6을 추가합니다.\n",
    "print(\"Output #83: {}\".format(L1))  # [1, 2, 3, 4, 5, 6]\n",
    "\n",
    "L1.remove(5)    # 리스트에서 값이 5인 첫 번째 요소를 제거합니다.\n",
    "print(\"Output #84: {}\".format(L1))  # [1, 2, 3, 4, 6]\n",
    "\n",
    "L1.pop()        # 리스트의 마지막 요소를 제거합니다.\n",
    "L1.pop()        # 리스트의 마지막 요소를 한 번 더 제거합니다.\n",
    "print(\"Output #85: {}\".format(L1))  # [1, 2, 3]"
   ]
  },
  {
   "cell_type": "code",
   "execution_count": 42,
   "id": "cd0deccb",
   "metadata": {},
   "outputs": [
    {
     "name": "stdout",
     "output_type": "stream",
     "text": [
      "Output : [3, 5, 1, 7, 2, 8, 4, 9, 0, 6]\n",
      "Output #89: [0, 1, 2, 3, 4, 5, 6, 7, 8, 9]\n"
     ]
    }
   ],
   "source": [
    "unordered_list = [3, 5, 1, 7, 2, 8, 4, 9, 0, 6]\n",
    "print(\"Output : {}\".format(unordered_list))\n",
    "list_copy = unordered_list[:]  #list_copy = unordered_list[:]: [:]를 사용하여 리스트 unordered_list를 복사하여 새로운 리스트 list_copy를 생성합니다.\n",
    "list_copy.sort() # list_copy.sort(): sort() 메서드를 사용하여 list_copy 리스트를 오름차순으로 정렬합니다.\n",
    "print(\"Output #89: {}\".format(list_copy))"
   ]
  },
  {
   "cell_type": "code",
   "execution_count": 43,
   "id": "ca932d4f",
   "metadata": {},
   "outputs": [
    {
     "name": "stdout",
     "output_type": "stream",
     "text": [
      "[4, 5]\n"
     ]
    }
   ],
   "source": [
    "my_list = [1, 2, 3, 4, 5]\n",
    "new_list = [x for x in my_list if x > 3]\n",
    "print(new_list)"
   ]
  },
  {
   "cell_type": "code",
   "execution_count": 44,
   "id": "6ce51fca",
   "metadata": {},
   "outputs": [
    {
     "name": "stdout",
     "output_type": "stream",
     "text": [
      "['SumatraMandheling', 'Santos']\n"
     ]
    }
   ],
   "source": [
    "CoffeeBean = [\"JamaicanBlueMountain\", \"KenyaAA\", \"SumatraMandheling\",\"ColombianMilds\",\"Santos\"]\n",
    "recall = [ ] # 리콜 대상 제품 리스트\n",
    "for p in CoffeeBean:\n",
    "    if p.startswith(\"S\"): # CoffeeBean이 S 로 시작하는가?\n",
    "        recall.append(p)\n",
    "print(recall)"
   ]
  },
  {
   "cell_type": "code",
   "execution_count": 45,
   "id": "79738cce",
   "metadata": {},
   "outputs": [
    {
     "name": "stdout",
     "output_type": "stream",
     "text": [
      "['SumatraMandheling', 'Santos']\n"
     ]
    }
   ],
   "source": [
    "CoffeeBean = [\"JamaicanBlueMountain\", \"KenyaAA\", \"SumatraMandheling\",\"ColombianMilds\",\"Santos\"]\n",
    "recall = [p for p in CoffeeBean if p.startswith(\"S\")]\n",
    "print(recall)"
   ]
  },
  {
   "cell_type": "code",
   "execution_count": 46,
   "id": "8bf6568b",
   "metadata": {},
   "outputs": [
    {
     "name": "stdout",
     "output_type": "stream",
     "text": [
      "['JamaicanBlueMountainSE', 'KenyaAASE', 'SumatraMandhelingSE', 'ColombianMildsSE', 'SantosSE']\n",
      "['jamaicanbluemountain', 'kenyaaa', 'sumatramandheling', 'colombianmilds', 'santos']\n",
      "['ColombianMilds - New 2023', 'Santos - New 2023']\n"
     ]
    }
   ],
   "source": [
    "CoffeeBean = [\"JamaicanBlueMountain\", \"KenyaAA\", \"SumatraMandheling\",\"ColombianMilds\",\"Santos\"]\n",
    "# 모든 CoffeeBean 뒤에 SE (Special Edition) 을 붙인다\n",
    "CoffeeBean_se = [p + \"SE\" for p in CoffeeBean]\n",
    "print(CoffeeBean_se)\n",
    "\n",
    "# 모든 CoffeeBean을 소문자로 바꾼다\n",
    "CoffeeBean_lower = [p.lower() for p in CoffeeBean]\n",
    "print(CoffeeBean_lower)\n",
    "\n",
    "# \"S\"자가 있는 CoffeeBean만 뽑는데 뒤에 (최신형) 이라는 글자를 붙인다\n",
    "CoffeeBean_new = [p+\" - New 2023\" for p in CoffeeBean if p.endswith(\"s\")]\n",
    "print(CoffeeBean_new)"
   ]
  },
  {
   "cell_type": "code",
   "execution_count": 47,
   "id": "9b6e3141",
   "metadata": {},
   "outputs": [
    {
     "data": {
      "text/plain": [
       "[100, 200, 300]"
      ]
     },
     "execution_count": 47,
     "metadata": {},
     "output_type": "execute_result"
    }
   ],
   "source": [
    "L11 = [100, 200, 300]\n",
    "L11"
   ]
  },
  {
   "cell_type": "code",
   "execution_count": 48,
   "id": "8009ee93",
   "metadata": {},
   "outputs": [
    {
     "name": "stdout",
     "output_type": "stream",
     "text": [
      "[100, 200, 300]\n"
     ]
    }
   ],
   "source": [
    "print(L11)"
   ]
  },
  {
   "cell_type": "code",
   "execution_count": 49,
   "id": "d3ec03c0",
   "metadata": {},
   "outputs": [
    {
     "name": "stdout",
     "output_type": "stream",
     "text": [
      "100\n",
      "200\n",
      "300\n",
      "[100, 200]\n",
      "[100, 200]\n",
      "[100, 200, 300]\n",
      "[100, 200, 300]\n",
      "[100, 200, 300]\n",
      "[100, 200, 300]\n",
      "300\n",
      "[200, 300]\n"
     ]
    }
   ],
   "source": [
    "print(L11[0])\n",
    "print(L11[1])\n",
    "print(L11[2])\n",
    "print(L11[0:2])\n",
    "print(L11[:2])\n",
    "print(L11[0:3])\n",
    "print(L11[0:])\n",
    "print(L11[:3])\n",
    "print(L11[:])\n",
    "print(L11[-1])\n",
    "print(L11[-2:])"
   ]
  },
  {
   "cell_type": "code",
   "execution_count": 50,
   "id": "0da6c64c",
   "metadata": {},
   "outputs": [
    {
     "name": "stdout",
     "output_type": "stream",
     "text": [
      "[-1, 200, 300]\n",
      "[-1, 700, 300]\n"
     ]
    }
   ],
   "source": [
    "L11[0] = -1\n",
    "print(L11)\n",
    "L11[1] = L11[1] + 500\n",
    "print(L11)"
   ]
  },
  {
   "cell_type": "code",
   "execution_count": 51,
   "id": "74644f81",
   "metadata": {},
   "outputs": [
    {
     "data": {
      "text/plain": [
       "[-1, 700, 300, 999]"
      ]
     },
     "execution_count": 51,
     "metadata": {},
     "output_type": "execute_result"
    }
   ],
   "source": [
    "L11.extend([999])\n",
    "L11"
   ]
  },
  {
   "cell_type": "code",
   "execution_count": 52,
   "id": "8d994cd6",
   "metadata": {},
   "outputs": [
    {
     "data": {
      "text/plain": [
       "[-1, 700, 300, 999, 3]"
      ]
     },
     "execution_count": 52,
     "metadata": {},
     "output_type": "execute_result"
    }
   ],
   "source": [
    "L11.append(3)\n",
    "L11"
   ]
  },
  {
   "cell_type": "code",
   "execution_count": 53,
   "id": "8e38fd00",
   "metadata": {},
   "outputs": [
    {
     "data": {
      "text/plain": [
       "1"
      ]
     },
     "execution_count": 53,
     "metadata": {},
     "output_type": "execute_result"
    }
   ],
   "source": [
    "L11.index(700)"
   ]
  },
  {
   "cell_type": "code",
   "execution_count": 54,
   "id": "eedbae47",
   "metadata": {},
   "outputs": [
    {
     "ename": "ValueError",
     "evalue": "0 is not in list",
     "output_type": "error",
     "traceback": [
      "\u001b[1;31m---------------------------------------------------------------------------\u001b[0m",
      "\u001b[1;31mValueError\u001b[0m                                Traceback (most recent call last)",
      "Cell \u001b[1;32mIn[54], line 1\u001b[0m\n\u001b[1;32m----> 1\u001b[0m \u001b[43mL11\u001b[49m\u001b[38;5;241;43m.\u001b[39;49m\u001b[43mindex\u001b[49m\u001b[43m(\u001b[49m\u001b[38;5;241;43m0\u001b[39;49m\u001b[43m)\u001b[49m\n",
      "\u001b[1;31mValueError\u001b[0m: 0 is not in list"
     ]
    }
   ],
   "source": [
    "L11.index(0)"
   ]
  },
  {
   "cell_type": "code",
   "execution_count": 55,
   "id": "09b915bf",
   "metadata": {},
   "outputs": [
    {
     "name": "stdout",
     "output_type": "stream",
     "text": [
      "['KOREA', 'FRANCE']\n"
     ]
    }
   ],
   "source": [
    "my_list = [\"korea\", \"English\", \"france\"]\n",
    "new_list = [x.upper() for x in my_list if \"a\" in x]\n",
    "print(new_list)  # ['KOREA', 'FRANCE']"
   ]
  },
  {
   "cell_type": "markdown",
   "id": "307d9857",
   "metadata": {},
   "source": [
    "### Tuples"
   ]
  },
  {
   "cell_type": "code",
   "execution_count": 56,
   "id": "e92a6770",
   "metadata": {},
   "outputs": [
    {
     "name": "stdout",
     "output_type": "stream",
     "text": [
      "()\n",
      "(1,)\n",
      "(1, 2, 3)\n",
      "(1, 2, 3)\n",
      "('a', 'b', ('ab', 'cd'))\n"
     ]
    },
    {
     "ename": "TypeError",
     "evalue": "'tuple' object does not support item assignment",
     "output_type": "error",
     "traceback": [
      "\u001b[1;31m---------------------------------------------------------------------------\u001b[0m",
      "\u001b[1;31mTypeError\u001b[0m                                 Traceback (most recent call last)",
      "Cell \u001b[1;32mIn[56], line 13\u001b[0m\n\u001b[0;32m     10\u001b[0m \u001b[38;5;28mprint\u001b[39m(T4)  \u001b[38;5;66;03m# (1, 2, 3)\u001b[39;00m\n\u001b[0;32m     11\u001b[0m \u001b[38;5;28mprint\u001b[39m(T5)  \u001b[38;5;66;03m# ('a', 'b', ('ab', 'cd'))\u001b[39;00m\n\u001b[1;32m---> 13\u001b[0m \u001b[43mT3\u001b[49m\u001b[43m[\u001b[49m\u001b[38;5;241;43m0\u001b[39;49m\u001b[43m]\u001b[49m \u001b[38;5;241m=\u001b[39m \u001b[38;5;241m100\u001b[39m  \u001b[38;5;66;03m# 튜플의 값을 변경하려고 시도함 (튜플은 변경 불가능한 자료형)\u001b[39;00m\n",
      "\u001b[1;31mTypeError\u001b[0m: 'tuple' object does not support item assignment"
     ]
    }
   ],
   "source": [
    "T1 = ()                # 빈 튜플\n",
    "T2 = (1,)              # 요소가 하나인 튜플 (마지막 쉼표는 튜플을 나타내기 위함)\n",
    "T3 = (1, 2, 3)         # 요소가 세 개인 튜플\n",
    "T4 = 1, 2, 3           # 괄호 없이 요소가 세 개인 튜플 (괄호 생략 가능)\n",
    "T5 = ('a', 'b', ('ab', 'cd'))  # 중첩된 튜플\n",
    "\n",
    "print(T1)  # ()\n",
    "print(T2)  # (1,)\n",
    "print(T3)  # (1, 2, 3)\n",
    "print(T4)  # (1, 2, 3)\n",
    "print(T5)  # ('a', 'b', ('ab', 'cd'))\n",
    "\n",
    "T3[0] = 100  # 튜플의 값을 변경하려고 시도함 (튜플은 변경 불가능한 자료형)"
   ]
  },
  {
   "cell_type": "code",
   "execution_count": 57,
   "id": "c6e49d9c",
   "metadata": {},
   "outputs": [
    {
     "name": "stdout",
     "output_type": "stream",
     "text": [
      "Output #1: ('x', 'y', 'z')\n",
      "Output #2: my_tuple has 3 elements\n",
      "Output #3: y\n",
      "Output #4: ('x', 'y', 'z', 'x', 'y', 'z')\n"
     ]
    }
   ],
   "source": [
    "my_tuple = ('x', 'y', 'z')\n",
    "print(\"Output #1: {}\".format(my_tuple))\n",
    "print(\"Output #2: my_tuple has {} elements\".format(len(my_tuple))) # len(my_tuple)은 튜플 my_tuple의 요소 개수를 반환합니다.\n",
    "print(\"Output #3: {}\".format(my_tuple[1])) # my_tuple[1]은 인덱스 1에 해당하는 두 번째 요소를 반환합니다.\n",
    "longer_tuple = my_tuple + my_tuple # my_tuple + my_tuple은 두 개의 튜플을 합쳐서 새로운 튜플인 longer_tuple을 생성합니다.\n",
    "print(\"Output #4: {}\".format(longer_tuple))"
   ]
  },
  {
   "cell_type": "code",
   "execution_count": 58,
   "id": "7f5af924",
   "metadata": {},
   "outputs": [
    {
     "name": "stdout",
     "output_type": "stream",
     "text": [
      "Output #1: x y z\n",
      "Output #2: red robin\n",
      "Output #3: robin red\n"
     ]
    }
   ],
   "source": [
    "my_tuple = ('x', 'y', 'z')    # my_tuple = ('x', 'y', 'z'): 튜플 my_tuple의 값을 ('x', 'y', 'z')로 설정합니다.\n",
    "one, two, three = my_tuple # one, two, three = my_tuple: 튜플의 값들을 변수 one, two, three에 순서대로 언패킹하여 할당합니다.\n",
    "print(\"Output #1: {0} {1} {2}\".format(one, two, three))\n",
    "var1 = 'red'\n",
    "var2 = 'robin'\n",
    "print(\"Output #2: {} {}\".format(var1, var2))\n",
    "# 변수 var1, var2 = var2, var1 간의 값 교환\n",
    "var1, var2 = var2, var1  # var1, var2 = var2, var1: 이 코드는 var1과 var2의 값을 서로 바꾸는 방법으로, 파이썬의 특징인 튜플 패킹과 언패킹을 이용합니다. (var2, var1)은 튜플을 형성하고 이를 var1과 var2로 언패킹하여 서로의 값을 교환합니다.\n",
    "print(\"Output #3: {} {}\".format(var1, var2))"
   ]
  },
  {
   "cell_type": "code",
   "execution_count": 59,
   "id": "01790620",
   "metadata": {},
   "outputs": [
    {
     "name": "stdout",
     "output_type": "stream",
     "text": [
      "Output #1: (1, 2, 3)\n",
      "<class 'list'>\n",
      "<class 'tuple'>\n",
      "Output #2: ['x', 'y', 'z']\n",
      "<class 'tuple'>\n",
      "<class 'list'>\n"
     ]
    }
   ],
   "source": [
    "my_list = [1, 2, 3]\n",
    "my_tuple = ('x', 'y', 'z')\n",
    "\n",
    "# 리스트를 튜플로 변환하여 출력\n",
    "print(\"Output #1: {}\".format(tuple(my_list)))  # tuple(my_list): 리스트 my_list를 튜플로 변환합니다.\n",
    "print(type(my_list))  # 출력: <class 'list'>\n",
    "\n",
    "# 리스트를 튜플로 변환한 결과의 자료형 출력\n",
    "my_list_t = tuple(my_list)\n",
    "print(type(my_list_t))  # 출력: <class 'tuple'>\n",
    "\n",
    "# 튜플을 리스트로 변환하여 출력\n",
    "print(\"Output #2: {}\".format(list(my_tuple)))  # list(my_tuple): 튜플 my_tuple을 리스트로 변환합니다.\n",
    "print(type(my_tuple))  # 출력: <class 'tuple'>\n",
    "\n",
    "# 튜플을 리스트로 변환한 결과의 자료형 출력\n",
    "my_tuple_l = list(my_tuple)\n",
    "print(type(my_tuple_l))  # 출력: <class 'list'>"
   ]
  },
  {
   "cell_type": "code",
   "execution_count": 60,
   "id": "ed9db236",
   "metadata": {},
   "outputs": [
    {
     "data": {
      "text/plain": [
       "(444,)"
      ]
     },
     "execution_count": 60,
     "metadata": {},
     "output_type": "execute_result"
    }
   ],
   "source": [
    "T444 = (444,)\n",
    "T444"
   ]
  },
  {
   "cell_type": "code",
   "execution_count": 61,
   "id": "f3cec19e",
   "metadata": {},
   "outputs": [
    {
     "data": {
      "text/plain": [
       "tuple"
      ]
     },
     "execution_count": 61,
     "metadata": {},
     "output_type": "execute_result"
    }
   ],
   "source": [
    "type(T444)"
   ]
  },
  {
   "cell_type": "code",
   "execution_count": 62,
   "id": "3d9b22bd",
   "metadata": {},
   "outputs": [
    {
     "data": {
      "text/plain": [
       "444"
      ]
     },
     "execution_count": 62,
     "metadata": {},
     "output_type": "execute_result"
    }
   ],
   "source": [
    "T444 = (444)\n",
    "T444"
   ]
  },
  {
   "cell_type": "code",
   "execution_count": 63,
   "id": "f93c635c",
   "metadata": {},
   "outputs": [
    {
     "data": {
      "text/plain": [
       "int"
      ]
     },
     "execution_count": 63,
     "metadata": {},
     "output_type": "execute_result"
    }
   ],
   "source": [
    "type(T444)"
   ]
  },
  {
   "cell_type": "code",
   "execution_count": 64,
   "id": "23d3beac",
   "metadata": {},
   "outputs": [
    {
     "data": {
      "text/plain": [
       "(100, 200, [300, 5, 6])"
      ]
     },
     "execution_count": 64,
     "metadata": {},
     "output_type": "execute_result"
    }
   ],
   "source": [
    "T300 = (100, 200, [4, 5, 6])\n",
    "T300[2][0] = 300\n",
    "T300"
   ]
  },
  {
   "cell_type": "markdown",
   "id": "a6c68dbb",
   "metadata": {},
   "source": [
    "### Dictionaries"
   ]
  },
  {
   "cell_type": "code",
   "execution_count": 65,
   "id": "568690db",
   "metadata": {},
   "outputs": [
    {
     "name": "stdout",
     "output_type": "stream",
     "text": [
      "Output #1: {'one': 1, 'two': 2, 'three': 3}\n",
      "Output #2: a_dict has 3 elements\n",
      "Output #3: {'x': 'printer', 'y': 5, 'z': ['star', 'circle', 9]}\n",
      "Output #4: another_dict also has 3 elements\n"
     ]
    }
   ],
   "source": [
    "empty_dict = { }   # {}는 빈 딕셔너리를 나타냅니다.\n",
    "a_dict = {'one':1, 'two':2, 'three':3}   # {'one': 1, 'two': 2, 'three': 3}와 같은 형태는 키-값(key-value) 쌍으로 이루어진 딕셔너리를 나타냅니다.\n",
    "print(\"Output #1: {}\".format(a_dict))\n",
    "print(\"Output #2: a_dict has {!s} elements\".format(len(a_dict)))   # len() 함수를 사용하여 딕셔너리의 요소 개수를 확인할 수 있습니다.\n",
    "another_dict = {'x':'printer', 'y':5, 'z':['star', 'circle', 9]}\n",
    "print(\"Output #3: {}\".format(another_dict))\n",
    "print(\"Output #4: another_dict also has {!s} elements\".format(len(another_dict)))"
   ]
  },
  {
   "cell_type": "code",
   "execution_count": 66,
   "id": "840632b5",
   "metadata": {},
   "outputs": [
    {
     "name": "stdout",
     "output_type": "stream",
     "text": [
      "Output #..: 2\n",
      "Output #5: ['star', 'circle', 9]\n",
      "Output #6: star\n",
      "Output #7: ['circle', 9]\n"
     ]
    }
   ],
   "source": [
    "print(\"Output #..: {}\".format(a_dict['two']))\n",
    "\n",
    "print(\"Output #5: {}\".format(another_dict['z']))\n",
    "print(\"Output #6: {}\".format(another_dict['z'][0]))\n",
    "print(\"Output #7: {}\".format(another_dict['z'][1:]))"
   ]
  },
  {
   "cell_type": "code",
   "execution_count": 67,
   "id": "95f47be3",
   "metadata": {},
   "outputs": [
    {
     "name": "stdout",
     "output_type": "stream",
     "text": [
      "Output #8: dict_keys(['one', 'two', 'three'])\n",
      "Output #9: dict_values([1, 2, 3])\n",
      "Output #10: dict_items([('one', 1), ('two', 2), ('three', 3)])\n"
     ]
    }
   ],
   "source": [
    "a_dict_keys = a_dict.keys()\n",
    "print(\"Output #8: {}\".format(a_dict_keys))\n",
    "print(\"Output #9: {}\".format(a_dict.values()))\n",
    "print(\"Output #10: {}\".format(a_dict.items()))"
   ]
  },
  {
   "cell_type": "code",
   "execution_count": 68,
   "id": "eb3866e4",
   "metadata": {},
   "outputs": [
    {
     "name": "stdout",
     "output_type": "stream",
     "text": [
      "Output #11: {'one': 1, 'two': 2, 'three': 3}\n"
     ]
    }
   ],
   "source": [
    "a_new_dict = a_dict.copy()\n",
    "print(\"Output #11: {}\".format(a_new_dict))"
   ]
  },
  {
   "cell_type": "code",
   "execution_count": 69,
   "id": "5f822ca6",
   "metadata": {},
   "outputs": [
    {
     "name": "stdout",
     "output_type": "stream",
     "text": [
      "Output #1: y is a key in another_dict: dict_keys(['x', 'y', 'z']).\n",
      "Output #2: c is not a key in another_dict: dict_keys(['x', 'y', 'z']).\n",
      "Output #3: 3\n",
      "Output #3: 3\n",
      "Output #4: None\n",
      "Output #5: Not in dict\n"
     ]
    }
   ],
   "source": [
    "a_dict = {'one': 1, 'two': 2, 'three': 3}\n",
    "another_dict = {'x': 'printer', 'y': 5, 'z': ['star', 'circle', 9]}\n",
    "\n",
    "if 'y' in another_dict:   # 'y' 키가 another_dict에 있는지 확인합니다.\n",
    "    print(\"Output #1: y is a key in another_dict: {}.\".format(another_dict.keys()))\n",
    "\n",
    "if 'c' not in another_dict:   # c' 키가 another_dict에 없는지 확인합니다.\n",
    "    print(\"Output #2: c is not a key in another_dict: {}.\".format(another_dict.keys()))\n",
    "\n",
    "# 딕셔너리에서 특정 키에 대한 값을 가져오는 방법 -a_dict['three']와 a_dict.get('three')는 딕셔너리에서 'three' 키에 해당하는 값을 가져옵니다.\n",
    "print(\"Output #3: {!s}\".format(a_dict['three']))  # Output #3: 3\n",
    "print(\"Output #3: {!s}\".format(a_dict.get('three')))  # Output #3: 3\n",
    "\n",
    "# 존재하지 않는 키에 대한 값 가져오기 - KeyError 발생\n",
    "# print(\"Output #3: {!s}\".format(a_dict['four']))\n",
    "\n",
    "# a_dict.get('four')와 a_dict.get('four', 'Not in dict')는 존재하지 않는 'four' 키에 대한 값을 가져옵니다. KeyError가 발생하지 않고 get() 메서드를 사용할 때 기본값으로 None을 반환합니다. 추가적으로, get() 메서드의 두 번째 매개변수를 사용하여 기본값을 설정할 수 있습니다.\n",
    "# 존재하지 않는 키에 대한 값 가져오기 - get() 메서드 사용하여 기본값 반환\n",
    "print(\"Output #4: {!s}\".format(a_dict.get('four')))  # Output #4: None\n",
    "\n",
    "# get() 메서드를 사용하면 존재하지 않는 키일 때 기본값을 지정할 수 있음\n",
    "print(\"Output #5: {!s}\".format(a_dict.get('four', 'Not in dict')))  # Output #5: Not in dict"
   ]
  },
  {
   "cell_type": "code",
   "execution_count": 70,
   "id": "e33c2568",
   "metadata": {},
   "outputs": [
    {
     "data": {
      "text/plain": [
       "{'key1': [333, 444, 555], 'key2': (100, 200)}"
      ]
     },
     "execution_count": 70,
     "metadata": {},
     "output_type": "execute_result"
    }
   ],
   "source": [
    "D1 = {\n",
    "    \"key1\": [333, 444, 555],\n",
    "    \"key2\": (100, 200)\n",
    "}\n",
    "D1 "
   ]
  },
  {
   "cell_type": "code",
   "execution_count": 71,
   "id": "f8ba9bbf",
   "metadata": {},
   "outputs": [
    {
     "data": {
      "text/plain": [
       "[-999, 444, 555]"
      ]
     },
     "execution_count": 71,
     "metadata": {},
     "output_type": "execute_result"
    }
   ],
   "source": [
    "D1[\"key1\"][0] = -999\n",
    "D1[\"key1\"]"
   ]
  },
  {
   "cell_type": "code",
   "execution_count": 72,
   "id": "ca451689",
   "metadata": {
    "scrolled": true
   },
   "outputs": [
    {
     "data": {
      "text/plain": [
       "1234"
      ]
     },
     "execution_count": 72,
     "metadata": {},
     "output_type": "execute_result"
    }
   ],
   "source": [
    "D1[\"key2\"] = 1234\n",
    "D1[\"key2\"]"
   ]
  },
  {
   "cell_type": "markdown",
   "id": "77662ef8",
   "metadata": {},
   "source": [
    "### Set"
   ]
  },
  {
   "cell_type": "code",
   "execution_count": 73,
   "id": "d203293a",
   "metadata": {},
   "outputs": [
    {
     "name": "stdout",
     "output_type": "stream",
     "text": [
      "{'JamaicanBlueMountain'}\n",
      "{'JamaicanBlueMountain'}\n",
      "{'JamaicanBlueMountain', 'KenyaAA', 'Mocha', 'SumatraMandheling'}\n",
      "{'JamaicanBlueMountain', 'KenyaAA', 'Mocha', 'SumatraMandheling'}\n",
      "{'KenyaAA', 'SumatraMandheling'}\n",
      "{'KenyaAA', 'SumatraMandheling'}\n",
      "{'KenyaAA', 'Mocha', 'JamaicanBlueMountain'}\n",
      "{'JamaicanBlueMountain', 'SumatraMandheling'}\n"
     ]
    }
   ],
   "source": [
    "CompanyA = {\"JamaicanBlueMountain\", \"KenyaAA\", \"SumatraMandheling\"} # CompanyA CoffeeBeen 집합\n",
    "CompanyB = set([\"JamaicanBlueMountain\", \"Mocha\"]) # CompanyB CoffeeBeen 집합\n",
    "\n",
    "#교집합\n",
    "print(CompanyA & CompanyB) # {'JamaicanBlueMountain'}\n",
    "print(CompanyA.intersection(CompanyB)) # {'JamaicanBlueMountain'}\n",
    "\n",
    "#합집합\n",
    "print(CompanyA | CompanyB) # {'Mocha', 'JamaicanBlueMountain', 'KenyaAA', 'SumatraMandheling'}\n",
    "print(CompanyA.union(CompanyB)) # {'Mocha', 'JamaicanBlueMountain', 'KenyaAA', 'SumatraMandheling'}\n",
    "\n",
    "#차집합\n",
    "print(CompanyA - CompanyB) # {'SumatraMandheling', 'KenyaAA'}\n",
    "print(CompanyA.difference(CompanyB)) # {'SumatraMandheling', 'KenyaAA'}\n",
    "\n",
    "#추가\n",
    "CompanyB.add(\"KenyaAA\")\n",
    "print(CompanyB) # {'Mocha', 'JamaicanBlueMountain', 'KenyaAA'}\n",
    "\n",
    "#삭제\n",
    "CompanyA.remove(\"KenyaAA\")\n",
    "print(CompanyA) # {'JamaicanBlueMountain', 'SumatraMandheling'}"
   ]
  },
  {
   "cell_type": "code",
   "execution_count": 74,
   "id": "902dee4d",
   "metadata": {},
   "outputs": [
    {
     "data": {
      "text/plain": [
       "True"
      ]
     },
     "execution_count": 74,
     "metadata": {},
     "output_type": "execute_result"
    }
   ],
   "source": [
    "CompanyA.issubset({'JamaicanBlueMountain', 'SumatraMandheling'})"
   ]
  },
  {
   "cell_type": "code",
   "execution_count": 75,
   "id": "7e2fb24d",
   "metadata": {},
   "outputs": [
    {
     "data": {
      "text/plain": [
       "False"
      ]
     },
     "execution_count": 75,
     "metadata": {},
     "output_type": "execute_result"
    }
   ],
   "source": [
    "CompanyA.issubset({'KenyaAA'})"
   ]
  },
  {
   "cell_type": "markdown",
   "id": "b8b193c0",
   "metadata": {},
   "source": [
    "## Python’s Statement"
   ]
  },
  {
   "cell_type": "code",
   "execution_count": 76,
   "id": "9fa45f3f",
   "metadata": {},
   "outputs": [
    {
     "name": "stdout",
     "output_type": "stream",
     "text": [
      "big\n"
     ]
    }
   ],
   "source": [
    "iCnt = 100\n",
    "if iCnt > 50 :\n",
    " print(\"big\")\n",
    "else:\n",
    " print(\"small\")"
   ]
  },
  {
   "cell_type": "code",
   "execution_count": 77,
   "id": "19da8c61",
   "metadata": {},
   "outputs": [
    {
     "name": "stdout",
     "output_type": "stream",
     "text": [
      "big\n"
     ]
    }
   ],
   "source": [
    "iCnt = 70;\n",
    "if iCnt > 80 :\n",
    " print(\"very big\")\n",
    "elif iCnt > 50 :\n",
    " print(\"big\")\n",
    "else:\n",
    " print(\"small\")"
   ]
  },
  {
   "cell_type": "code",
   "execution_count": 78,
   "id": "bb314b74",
   "metadata": {},
   "outputs": [
    {
     "name": "stdin",
     "output_type": "stream",
     "text": [
      "첫번째 정수값 >>  19\n",
      "연산자 >>  +\n",
      "두번째 정수값 >>  40\n"
     ]
    },
    {
     "name": "stdout",
     "output_type": "stream",
     "text": [
      "==========================\n",
      "19 더하기 40을 계산합니다.\n",
      "==========================\n",
      "19 + 40 = 59입니다.\n"
     ]
    }
   ],
   "source": [
    "num1 = int(input(\"첫번째 정수값 >> \"))\n",
    "operator = input(\"연산자 >> \")\n",
    "num2 = int(input(\"두번째 정수값 >> \"))\n",
    "\n",
    "if operator == '+':\n",
    "    result = num1 + num2\n",
    "    operator_str = '더하기'\n",
    "elif operator == '-':\n",
    "    result = num1 - num2\n",
    "    operator_str = '빼기'\n",
    "elif operator == '*':\n",
    "    result = num1 * num2\n",
    "    operator_str = '곱하기'\n",
    "elif operator == '/':\n",
    "    result = num1 / num2\n",
    "    operator_str = '나누기'\n",
    "else:\n",
    "    print(\"잘못된 연산자입니다.\")\n",
    "    exit()\n",
    "\n",
    "print(\"==========================\")\n",
    "print(f\"{num1} {operator_str} {num2}을 계산합니다.\")\n",
    "print(\"==========================\")\n",
    "print(f\"{num1} {operator} {num2} = {result}입니다.\")"
   ]
  },
  {
   "cell_type": "code",
   "execution_count": 79,
   "id": "42f73258",
   "metadata": {},
   "outputs": [
    {
     "name": "stdout",
     "output_type": "stream",
     "text": [
      "key= 1 value= 1\n",
      "key= 2 value= 4\n",
      "key= 3 value= 9\n"
     ]
    }
   ],
   "source": [
    "dic = {1:1, 2:4, 3:9} \n",
    "for key in dic:\n",
    "    print('key=', key, 'value=', dic[key])"
   ]
  },
  {
   "cell_type": "code",
   "execution_count": 80,
   "id": "40b7f639",
   "metadata": {},
   "outputs": [
    {
     "name": "stdout",
     "output_type": "stream",
     "text": [
      "[ ] 1번째 손님 (소요시간 : 16분)\n",
      "[ ] 2번째 손님 (소요시간 : 50분)\n",
      "[O] 3번째 손님 (소요시간 : 13분)\n",
      "[ ] 4번째 손님 (소요시간 : 22분)\n",
      "[O] 5번째 손님 (소요시간 : 11분)\n",
      "[O] 6번째 손님 (소요시간 : 13분)\n",
      "[ ] 7번째 손님 (소요시간 : 35분)\n",
      "[O] 8번째 손님 (소요시간 : 5분)\n",
      "[ ] 9번째 손님 (소요시간 : 18분)\n",
      "[O] 10번째 손님 (소요시간 : 8분)\n",
      "[ ] 11번째 손님 (소요시간 : 18분)\n",
      "[ ] 12번째 손님 (소요시간 : 28분)\n",
      "[ ] 13번째 손님 (소요시간 : 48분)\n",
      "[O] 14번째 손님 (소요시간 : 11분)\n",
      "[ ] 15번째 손님 (소요시간 : 45분)\n",
      "[ ] 16번째 손님 (소요시간 : 45분)\n",
      "[ ] 17번째 손님 (소요시간 : 44분)\n",
      "[ ] 18번째 손님 (소요시간 : 43분)\n",
      "[ ] 19번째 손님 (소요시간 : 31분)\n",
      "[O] 20번째 손님 (소요시간 : 8분)\n",
      "[ ] 21번째 손님 (소요시간 : 39분)\n",
      "[O] 22번째 손님 (소요시간 : 5분)\n",
      "[ ] 23번째 손님 (소요시간 : 30분)\n",
      "[ ] 24번째 손님 (소요시간 : 38분)\n",
      "[O] 25번째 손님 (소요시간 : 11분)\n",
      "[O] 26번째 손님 (소요시간 : 6분)\n",
      "[ ] 27번째 손님 (소요시간 : 21분)\n",
      "[O] 28번째 손님 (소요시간 : 11분)\n",
      "[ ] 29번째 손님 (소요시간 : 44분)\n",
      "[O] 30번째 손님 (소요시간 : 6분)\n",
      "[ ] 31번째 손님 (소요시간 : 22분)\n",
      "[ ] 32번째 손님 (소요시간 : 25분)\n",
      "[O] 33번째 손님 (소요시간 : 11분)\n",
      "[O] 34번째 손님 (소요시간 : 6분)\n",
      "[ ] 35번째 손님 (소요시간 : 25분)\n",
      "[ ] 36번째 손님 (소요시간 : 18분)\n",
      "[O] 37번째 손님 (소요시간 : 10분)\n",
      "[ ] 38번째 손님 (소요시간 : 16분)\n",
      "[ ] 39번째 손님 (소요시간 : 29분)\n",
      "[ ] 40번째 손님 (소요시간 : 30분)\n",
      "[ ] 41번째 손님 (소요시간 : 34분)\n",
      "[ ] 42번째 손님 (소요시간 : 16분)\n",
      "[ ] 43번째 손님 (소요시간 : 21분)\n",
      "[ ] 44번째 손님 (소요시간 : 41분)\n",
      "[ ] 45번째 손님 (소요시간 : 37분)\n",
      "[ ] 46번째 손님 (소요시간 : 16분)\n",
      "[ ] 47번째 손님 (소요시간 : 31분)\n",
      "[ ] 48번째 손님 (소요시간 : 45분)\n",
      "[ ] 49번째 손님 (소요시간 : 42분)\n",
      "[ ] 50번째 손님 (소요시간 : 21분)\n",
      "총 탑승 승객 : 15분\n"
     ]
    }
   ],
   "source": [
    "from random import *\n",
    "\n",
    "cnt = 0 # 총 탑승 승객 수\n",
    "for i in range(1, 51): # 총 50분의 승객\n",
    "    time = randrange(5, 51) # 5분 ~ 50분 사이의 소요 시간\n",
    "    \n",
    "    if 5 <= time <= 15: # 5분 ~ 15분 사이의 손님의 경우 매칭 성공\n",
    "        print(\"[O] {0}번째 손님 (소요시간 : {1}분)\".format(i, time)) # 성공 정보 출력\n",
    "        cnt += 1 # 총 탑승 승객 수 증가 처리\n",
    "    else: # 매칭 실패한 경우\n",
    "        print(\"[ ] {0}번째 손님 (소요시간 : {1}분)\".format(i, time)) # 실패 정보 출력\n",
    "\n",
    "print(\"총 탑승 승객 : {0}분\".format(cnt))"
   ]
  },
  {
   "cell_type": "code",
   "execution_count": 81,
   "id": "3da15cf9",
   "metadata": {},
   "outputs": [
    {
     "name": "stdout",
     "output_type": "stream",
     "text": [
      "1, 번 손님!!!\n",
      "3, 번 손님!!!\n",
      "4, 번 손님!!!\n",
      "6, 번 손님!!!\n",
      "7, 번 손님!!!\n",
      "8, 번 손님!!!\n",
      "9, 번 손님!!!\n",
      "10, 번 손님!!!\n"
     ]
    }
   ],
   "source": [
    "Customer = [2, 5] # 자리를 뜬 손님\n",
    "\n",
    "for waitingNumber in range(1, 11): # 대기번호 1~10번\n",
    "    if waitingNumber in Customer: # 호출 손님이 자리를 떴을 경우, 다음 손님으로 이동\n",
    "        continue\n",
    "    print(\"{0}, 번 손님!!!\".format(waitingNumber))"
   ]
  },
  {
   "cell_type": "code",
   "execution_count": 82,
   "id": "2bc2aa98",
   "metadata": {},
   "outputs": [
    {
     "name": "stdout",
     "output_type": "stream",
     "text": [
      "1, 책을 읽어봐\n",
      "3, 책을 읽어봐\n",
      "4, 책을 읽어봐\n",
      "6, 책을 읽어봐\n",
      "오늘 수업 여기까지. 7는 교무실로 따라와\n"
     ]
    }
   ],
   "source": [
    "absent = [2, 5] # 결석한 학생 출석번호\n",
    "no_book = [7] # 책을 가져오지 않은 학생 출석번호\n",
    "\n",
    "for student in range(1, 11): # 출석번호 1~10번\n",
    "    if student in absent: # 결석했으면 책을 읽지 않고 다음 학생으로 넘어가기\n",
    "        continue\n",
    "    elif student in no_book: # 책을 가져오지 않았으면 바로 수업 종료 (반복문 탈출)\n",
    "        print(\"오늘 수업 여기까지. {0}는 교무실로 따라와\".format(student))\n",
    "        break\n",
    "    print(\"{0}, 책을 읽어봐\".format(student))"
   ]
  },
  {
   "cell_type": "markdown",
   "id": "6c5c9a74",
   "metadata": {},
   "source": [
    "## Python’s 함수"
   ]
  },
  {
   "cell_type": "code",
   "execution_count": 83,
   "id": "282cfb47",
   "metadata": {},
   "outputs": [
    {
     "name": "stdout",
     "output_type": "stream",
     "text": [
      "7\n"
     ]
    }
   ],
   "source": [
    "def sum(a,b):\n",
    "    return a+b\n",
    "\n",
    "print(sum(3,4))"
   ]
  },
  {
   "cell_type": "code",
   "execution_count": 84,
   "id": "1e49c9c2",
   "metadata": {},
   "outputs": [
    {
     "name": "stdout",
     "output_type": "stream",
     "text": [
      "hello\n"
     ]
    }
   ],
   "source": [
    "def say():\\\n",
    "    return 'hello'\n",
    "a = say()\n",
    "print(a)"
   ]
  },
  {
   "cell_type": "code",
   "execution_count": 85,
   "id": "6c9c5ac2",
   "metadata": {},
   "outputs": [
    {
     "name": "stdout",
     "output_type": "stream",
     "text": [
      "hello\n",
      "hello\n",
      "None\n"
     ]
    }
   ],
   "source": [
    "def say():\n",
    "    print(\"hello\")\n",
    "\n",
    "a = say()\n",
    "\n",
    "print(say())"
   ]
  },
  {
   "cell_type": "code",
   "execution_count": 86,
   "id": "b404f9db",
   "metadata": {},
   "outputs": [
    {
     "name": "stdout",
     "output_type": "stream",
     "text": [
      "15\n"
     ]
    }
   ],
   "source": [
    "def sum_many(*args):\n",
    "    sum =  0\n",
    "    for i in args:\n",
    "        sum += i\n",
    "    return sum\n",
    "\n",
    "print(sum_many(1,2,3,4,5))"
   ]
  },
  {
   "cell_type": "code",
   "execution_count": 87,
   "id": "a3c8dbbe",
   "metadata": {},
   "outputs": [
    {
     "name": "stdout",
     "output_type": "stream",
     "text": [
      "120\n"
     ]
    }
   ],
   "source": [
    "def sum_mul(choice, *args):\n",
    "    if choice == 'mul':\n",
    "        result = 1\n",
    "        for i in args:\n",
    "            result *= i\n",
    "    else:\n",
    "        result = 0\n",
    "        for i in args:\n",
    "            result += i\n",
    "    return result\n",
    "\n",
    "print(sum_mul('mul', 1,2,3,4,5))"
   ]
  },
  {
   "cell_type": "code",
   "execution_count": 88,
   "id": "58419bd4",
   "metadata": {},
   "outputs": [
    {
     "name": "stdout",
     "output_type": "stream",
     "text": [
      "(7, 12)\n"
     ]
    }
   ],
   "source": [
    "def sum_and_mul(a, b):\n",
    "    return (a+b, a*b)\n",
    "\n",
    "print(sum_and_mul(3,4))"
   ]
  },
  {
   "cell_type": "code",
   "execution_count": 89,
   "id": "319a2d5b",
   "metadata": {},
   "outputs": [
    {
     "name": "stdout",
     "output_type": "stream",
     "text": [
      "genius\n"
     ]
    }
   ],
   "source": [
    "def say_nick(nick):\n",
    "    if nick == 'fool':\n",
    "        return\n",
    "    print(nick)\n",
    "\n",
    "say_nick('genius')\n",
    "\n",
    "say_nick('fool')"
   ]
  },
  {
   "cell_type": "code",
   "execution_count": 90,
   "id": "0f53c6e0",
   "metadata": {},
   "outputs": [
    {
     "name": "stdout",
     "output_type": "stream",
     "text": [
      "Dave genius\n",
      "Dave fool\n"
     ]
    }
   ],
   "source": [
    "def say_name_nick(name, nick='genius'):\n",
    "    print(name, nick)\n",
    "\n",
    "say_name_nick('Dave')\n",
    "\n",
    "say_name_nick('Dave','fool')"
   ]
  },
  {
   "cell_type": "code",
   "execution_count": 91,
   "id": "4ce2d976",
   "metadata": {},
   "outputs": [],
   "source": [
    "class FourCal:\n",
    "\tdef setdata(self, first, second):\n",
    "\t\tself.first = first\n",
    "\t\tself.second = second\n",
    "\tdef add(self):\n",
    "\t\tresult = self.first + self.second\n",
    "\t\treturn result\n",
    "\tdef mul(self):\n",
    "\t\tresult = self.first * self.second\n",
    "\t\treturn result\n",
    "\tdef sub(self):\n",
    "\t\tresult = self.first - self.second\n",
    "\t\treturn result\n",
    "\tdef div(self):\n",
    "\t\tresult = self.first / self.second\n",
    "\t\treturn result"
   ]
  },
  {
   "cell_type": "code",
   "execution_count": 92,
   "id": "d3e2ac54",
   "metadata": {},
   "outputs": [
    {
     "name": "stdout",
     "output_type": "stream",
     "text": [
      "6\n",
      "8\n",
      "2\n",
      "2.0\n",
      "11\n",
      "24\n",
      "-5\n",
      "0.375\n"
     ]
    }
   ],
   "source": [
    "a = FourCal()\n",
    "b = FourCal()\n",
    "a.setdata(4, 2)\n",
    "b.setdata(3, 8)\n",
    "\n",
    "print(a.add())\n",
    "print(a.mul())\n",
    "print(a.sub())\n",
    "print(a.div())\n",
    "print(b.add())\n",
    "print(b.mul())\n",
    "print(b.sub())\n",
    "print(b.div())"
   ]
  },
  {
   "cell_type": "code",
   "execution_count": 93,
   "id": "032875f3",
   "metadata": {},
   "outputs": [
    {
     "name": "stdout",
     "output_type": "stream",
     "text": [
      "[6, 7, 8]\n"
     ]
    }
   ],
   "source": [
    "def myfunc(numbers):\n",
    "    result = []\n",
    "    for number in numbers:\n",
    "        if number > 5:\n",
    "            result.append(number)\n",
    "    return result\n",
    "\n",
    "result = myfunc([2, 3, 4, 5, 6, 7, 8])\n",
    "print(result)"
   ]
  },
  {
   "cell_type": "code",
   "execution_count": 95,
   "id": "f1301b26",
   "metadata": {},
   "outputs": [
    {
     "name": "stdin",
     "output_type": "stream",
     "text": [
      "첫 번째 정수를 입력하시오:  10\n",
      "두 번째 정수를 입력하시오:  20\n"
     ]
    },
    {
     "name": "stdout",
     "output_type": "stream",
     "text": [
      "합은  30\n"
     ]
    }
   ],
   "source": [
    "Integer1 = int(input(\"첫 번째 정수를 입력하시오: \"))\n",
    "Integer2 = int(input(\"두 번째 정수를 입력하시오: \"))\n",
    "sum=lambda a,b:a+b\n",
    "print(\"합은 \", sum(Integer1 ,Integer2))"
   ]
  },
  {
   "cell_type": "code",
   "execution_count": 96,
   "id": "44e1ba77",
   "metadata": {},
   "outputs": [
    {
     "name": "stdout",
     "output_type": "stream",
     "text": [
      "키 175cm 남자의 표준 체중은 67.38kg 입니다.\n"
     ]
    }
   ],
   "source": [
    "def std_weight(height, gender): # 키 m 단위 (실수), 성별 \"남자\" / \"여자\"\n",
    "    if gender == \"남자\":\n",
    "        return height * height * 22\n",
    "    else:\n",
    "        return height * height * 21\n",
    "\n",
    "height = 175 # cm 단위\n",
    "gender = \"남자\"\n",
    "weight = round(std_weight(height / 100, gender), 2) # 소수점 둘째자리까지 반올림\n",
    "print(\"키 {0}cm {1}의 표준 체중은 {2}kg 입니다.\".format(height, gender, weight))"
   ]
  },
  {
   "cell_type": "markdown",
   "id": "b0d50462",
   "metadata": {},
   "source": [
    "# 빅데이터 분석 예"
   ]
  },
  {
   "cell_type": "code",
   "execution_count": 97,
   "id": "43ca2257",
   "metadata": {},
   "outputs": [
    {
     "name": "stdout",
     "output_type": "stream",
     "text": [
      "{'사과': 2, '포도': 2, '레몬': 1}\n"
     ]
    }
   ],
   "source": [
    "training_data = [['연두', 3, '사과'],\n",
    "                 ['노랑', 3, '사과'],\n",
    "                 ['빨강', 2, '포도'],\n",
    "                 ['빨강', 1, '포도'],\n",
    "                 ['노랑', 3, '레몬']]\n",
    "def fruit_counts(data):\n",
    "    counts = {}\n",
    "    for row in data:\n",
    "        label = row[-1] # 루프 내의 row 변수에서 적절한 인덱싱을 수정하여 과일 이름에 접근\n",
    "        if label not in counts:\n",
    "            counts[label] = 0\n",
    "        counts[label] += 1\n",
    "    return counts\n",
    "result = fruit_counts(training_data)\n",
    "print(result)"
   ]
  },
  {
   "cell_type": "code",
   "execution_count": 98,
   "id": "6b293caf",
   "metadata": {},
   "outputs": [
    {
     "name": "stdout",
     "output_type": "stream",
     "text": [
      "{'연두': 1, '노랑': 2, '빨강': 2}\n"
     ]
    }
   ],
   "source": [
    "training_data = [['연두', 3, '사과'],\n",
    "                 ['노랑', 3, '사과'],\n",
    "                 ['빨강', 2, '포도'],\n",
    "                 ['빨강', 1, '포도'],\n",
    "                 ['노랑', 3, '레몬']]\n",
    "def fruit_counts(data):\n",
    "    counts = {}\n",
    "    for row in data:\n",
    "        label = row[0] # 루프 내의 row 변수에서 적절한 인덱싱을 수정하여 과일 이름에 접근\n",
    "        if label not in counts:\n",
    "            counts[label] = 0\n",
    "        counts[label] += 1\n",
    "    return counts\n",
    "result = fruit_counts(training_data)\n",
    "print(result)"
   ]
  },
  {
   "cell_type": "code",
   "execution_count": null,
   "id": "47dc9961",
   "metadata": {},
   "outputs": [],
   "source": []
  },
  {
   "cell_type": "code",
   "execution_count": null,
   "id": "a1f6d9ff-b4b1-47b9-a29f-9a15506f2db4",
   "metadata": {},
   "outputs": [],
   "source": []
  },
  {
   "cell_type": "code",
   "execution_count": null,
   "id": "1c747320-2f3d-46a1-bd0d-02798fe14822",
   "metadata": {},
   "outputs": [],
   "source": []
  }
 ],
 "metadata": {
  "hide_input": false,
  "kernelspec": {
   "display_name": "adspenv",
   "language": "python",
   "name": "adspenv"
  },
  "language_info": {
   "codemirror_mode": {
    "name": "ipython",
    "version": 3
   },
   "file_extension": ".py",
   "mimetype": "text/x-python",
   "name": "python",
   "nbconvert_exporter": "python",
   "pygments_lexer": "ipython3",
   "version": "3.10.11"
  },
  "toc": {
   "base_numbering": 1,
   "nav_menu": {},
   "number_sections": true,
   "sideBar": true,
   "skip_h1_title": false,
   "title_cell": "Table of Contents",
   "title_sidebar": "Contents",
   "toc_cell": false,
   "toc_position": {},
   "toc_section_display": true,
   "toc_window_display": false
  },
  "varInspector": {
   "cols": {
    "lenName": 16,
    "lenType": 16,
    "lenVar": 40
   },
   "kernels_config": {
    "python": {
     "delete_cmd_postfix": "",
     "delete_cmd_prefix": "del ",
     "library": "var_list.py",
     "varRefreshCmd": "print(var_dic_list())"
    },
    "r": {
     "delete_cmd_postfix": ") ",
     "delete_cmd_prefix": "rm(",
     "library": "var_list.r",
     "varRefreshCmd": "cat(var_dic_list()) "
    }
   },
   "types_to_exclude": [
    "module",
    "function",
    "builtin_function_or_method",
    "instance",
    "_Feature"
   ],
   "window_display": false
  }
 },
 "nbformat": 4,
 "nbformat_minor": 5
}
