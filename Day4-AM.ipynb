{
 "cells": [
  {
   "cell_type": "markdown",
   "id": "a07bff42-f2dd-43b4-85ae-52a39b5c46a3",
   "metadata": {},
   "source": [
    "# Numpy"
   ]
  },
  {
   "cell_type": "code",
   "execution_count": 1,
   "id": "67415e0f-23ee-428d-b5b4-7c6ec9484a16",
   "metadata": {},
   "outputs": [
    {
     "data": {
      "text/plain": [
       "'1.26.2'"
      ]
     },
     "execution_count": 1,
     "metadata": {},
     "output_type": "execute_result"
    }
   ],
   "source": [
    "import numpy as np\n",
    "np.__version__"
   ]
  },
  {
   "cell_type": "code",
   "execution_count": 2,
   "id": "6936f78e-4af1-45ac-b8e3-2751c7584aa0",
   "metadata": {},
   "outputs": [
    {
     "name": "stdout",
     "output_type": "stream",
     "text": [
      "(5,)\n",
      "int32\n",
      "(7,)\n",
      "float64\n",
      "(2, 3)\n",
      "[[1 2 3]\n",
      " [4 5 6]]\n"
     ]
    }
   ],
   "source": [
    "import numpy as np\n",
    "#(1) Array 정의 및 사용\n",
    "data = [1,2,3,4,5]\n",
    "arr1 = np.array(data)\n",
    "print(arr1.shape) #array의 크기 확인\n",
    "print(arr1.dtype) #데이터 타입 확인\n",
    "\n",
    "data2 = [1,1.5,2,2.5,4,5,6]\n",
    "arr2 = np.array(data2)\n",
    "print(arr2.shape) #array의 크기 확인\n",
    "print(arr2.dtype) #데이터 타입 확인\n",
    "\n",
    "arr3 = np.array([[1,2,3],[4,5,6]])\n",
    "print(arr3.shape)\n",
    "print(arr3)"
   ]
  },
  {
   "cell_type": "code",
   "execution_count": 3,
   "id": "41897839-cda4-48ce-b36d-230c45388ad4",
   "metadata": {},
   "outputs": [
    {
     "name": "stdout",
     "output_type": "stream",
     "text": [
      "[0. 0. 0. 0. 0. 0. 0. 0. 0. 0.]\n",
      "[[0. 0. 0. 0. 0.]\n",
      " [0. 0. 0. 0. 0.]\n",
      " [0. 0. 0. 0. 0.]]\n",
      "[1. 1. 1. 1. 1. 1. 1. 1. 1. 1.]\n",
      "[[1. 1. 1. 1. 1.]\n",
      " [1. 1. 1. 1. 1.]\n",
      " [1. 1. 1. 1. 1.]]\n",
      "[0 1 2 3 4 5 6 7 8 9]\n",
      "[3 4 5 6 7 8 9]\n",
      "[3.  3.1 3.2 3.3 3.4 3.5 3.6 3.7 3.8 3.9 4.  4.1 4.2 4.3 4.4 4.5 4.6 4.7\n",
      " 4.8 4.9 5.  5.1 5.2 5.3 5.4 5.5 5.6 5.7 5.8 5.9 6.  6.1 6.2 6.3 6.4 6.5\n",
      " 6.6 6.7 6.8 6.9 7.  7.1 7.2 7.3 7.4 7.5 7.6 7.7 7.8 7.9 8.  8.1 8.2 8.3\n",
      " 8.4 8.5 8.6 8.7 8.8 8.9 9.  9.1 9.2 9.3 9.4 9.5 9.6 9.7 9.8 9.9]\n",
      "[0.   0.25 0.5  0.75 1.  ]\n",
      "[[5 6 7 5]\n",
      " [8 9 9 5]]\n"
     ]
    }
   ],
   "source": [
    "print(np.zeros(10))\n",
    "print(np.zeros((3,5)))\n",
    "print(np.ones(10))\n",
    "print(np.ones((3,5)))\n",
    "print(np.arange(10))\n",
    "print(np.arange(3,10))\n",
    "print(np.arange(3,10,0.1))\n",
    "\n",
    "print(np.linspace(0,1,5)) #시작0, 끝1, 요소5개 균등한 간격\n",
    "#간격은 요소개수-1, 간격의 크기= (끝-시작)/(간격수)\n",
    "print(np.random.randint(5, 10, size=(2,4))) #5부터 10만이 정수"
   ]
  },
  {
   "cell_type": "code",
   "execution_count": 4,
   "id": "97503e01-991c-4174-a862-31ad381974c7",
   "metadata": {},
   "outputs": [
    {
     "name": "stdout",
     "output_type": "stream",
     "text": [
      "[[11 13 15]\n",
      " [17 19 21]]\n",
      "[[-9 -9 -9]\n",
      " [-9 -9 -9]]\n",
      "[[10 22 36]\n",
      " [52 70 90]]\n",
      "[[0.1        0.18181818 0.25      ]\n",
      " [0.30769231 0.35714286 0.4       ]]\n",
      "[[10 20 30]\n",
      " [40 50 60]]\n",
      "[[ 1  4  9]\n",
      " [16 25 36]]\n"
     ]
    }
   ],
   "source": [
    "arr1 = np.array([[1,2,3],[4,5,6]])\n",
    "arr2 = np.array([[10,11,12],[13,14,15]])\n",
    "print(arr1+arr2)\n",
    "print(arr1-arr2)\n",
    "print(arr1*arr2)\n",
    "print(arr1/arr2)\n",
    "print(arr1*10)\n",
    "print(arr1**2)"
   ]
  },
  {
   "cell_type": "code",
   "execution_count": 5,
   "id": "5ed28f30-6bae-4e11-ab4d-85debe71db24",
   "metadata": {},
   "outputs": [
    {
     "name": "stdout",
     "output_type": "stream",
     "text": [
      "0\n",
      "[3 4 5 6 7 8]\n",
      "[0 2 4 6 8]\n",
      "[9 8 7 6 5 4 3 2 1 0]\n"
     ]
    }
   ],
   "source": [
    "arr1 = np.arange(10)\n",
    "print(arr1[0])\n",
    "print(arr1[3:9])\n",
    "print(arr1[::2])\n",
    "print(arr1[::-1])"
   ]
  },
  {
   "cell_type": "code",
   "execution_count": 6,
   "id": "8bb08e98-fd1b-450c-a1c2-5c914197fb7a",
   "metadata": {},
   "outputs": [
    {
     "name": "stdout",
     "output_type": "stream",
     "text": [
      "[ True  True False False False  True]\n",
      "['Beo' 'Beo' 'Beo']\n",
      "[ 0.25676825 -1.80964324  0.59953364]\n",
      "[[ 0.40234761 -0.53260779  0.12186381 -1.09977766]\n",
      " [-0.17010837 -0.94755307 -1.10770523  0.24764031]\n",
      " [ 0.67112402  1.12628378  0.38114878  0.46653247]]\n",
      "[0.22239133 0.57414201 0.08483216 0.95532973 1.50950434 0.55423201\n",
      " 0.72880642]\n",
      "[-0.44714859 -0.10083311 -0.6076248 ]\n",
      "4.629238011298161\n",
      "-1.1556065048924764\n",
      "[[ 1.15207411 -1.55819702  0.14980471 -1.09009326]]\n"
     ]
    }
   ],
   "source": [
    "names = np.array(['Beo','Beo',\"Kim\",\"Joan\", \"Lee\",'Beo'])\n",
    "names_beo_mask = (names=='Beo')\n",
    "print(names_beo_mask)\n",
    "print(names[names_beo_mask])\n",
    "\n",
    "#randn 함수는 기댓값0, 표준편차1인 정규분포에서 난수 발생\n",
    "data = np.random.randn(6)\n",
    "print(data[names_beo_mask]) #이름이 Beo인 사람의 Data\n",
    "\n",
    "data = np.random.randn(6,4)\n",
    "print(data[names_beo_mask, :])\n",
    "\n",
    "data = np.random.randn(10)\n",
    "print(data[data>0])\n",
    "print(data[data<0])\n",
    "print(data[data>0].sum())\n",
    "print(data[data<0].sum())\n",
    "\n",
    "#요소가 Kim인 행의 데이터 꺼내기\n",
    "data = np.random.randn(6,4)\n",
    "print(data[names==\"Kim\", :])"
   ]
  },
  {
   "cell_type": "code",
   "execution_count": 7,
   "id": "86036be9-abca-440d-a5c3-91873eaa06a1",
   "metadata": {},
   "outputs": [
    {
     "name": "stdout",
     "output_type": "stream",
     "text": [
      "[-3.14159265  0.          3.14159265]\n",
      "[-1.  1. -1.]\n"
     ]
    },
    {
     "ename": "TypeError",
     "evalue": "only length-1 arrays can be converted to Python scalars",
     "output_type": "error",
     "traceback": [
      "\u001b[1;31m---------------------------------------------------------------------------\u001b[0m",
      "\u001b[1;31mTypeError\u001b[0m                                 Traceback (most recent call last)",
      "Cell \u001b[1;32mIn[7], line 7\u001b[0m\n\u001b[0;32m      5\u001b[0m \u001b[38;5;28mprint\u001b[39m(a)\n\u001b[0;32m      6\u001b[0m \u001b[38;5;28mprint\u001b[39m(np\u001b[38;5;241m.\u001b[39mcos(a))\n\u001b[1;32m----> 7\u001b[0m \u001b[38;5;28mprint\u001b[39m(\u001b[43mmath\u001b[49m\u001b[38;5;241;43m.\u001b[39;49m\u001b[43mcos\u001b[49m\u001b[43m(\u001b[49m\u001b[43ma\u001b[49m\u001b[43m)\u001b[49m)\n",
      "\u001b[1;31mTypeError\u001b[0m: only length-1 arrays can be converted to Python scalars"
     ]
    }
   ],
   "source": [
    "import numpy as np\n",
    "import math\n",
    "\n",
    "a = np.linspace(-np.pi, np.pi, 3)\n",
    "print(a)\n",
    "print(np.cos(a))\n",
    "print(math.cos(a))\n"
   ]
  },
  {
   "cell_type": "code",
   "execution_count": 8,
   "id": "cf7e3566-5444-4724-8b3a-afed7333f264",
   "metadata": {},
   "outputs": [
    {
     "name": "stdout",
     "output_type": "stream",
     "text": [
      "[-3.14159265  0.          3.14159265]\n",
      "[-1.  1. -1.]\n",
      "[-1.0, 1.0, -1.0]\n"
     ]
    }
   ],
   "source": [
    "import numpy as np\n",
    "import math\n",
    "\n",
    "a = np.linspace(-np.pi, np.pi, 3)\n",
    "print(a)\n",
    "print(np.cos(a))\n",
    "print([math.cos(x) for x in a])\n"
   ]
  },
  {
   "cell_type": "code",
   "execution_count": 9,
   "id": "a3aa7c7a-ac14-43f8-941c-d5adbe406c17",
   "metadata": {},
   "outputs": [
    {
     "name": "stdout",
     "output_type": "stream",
     "text": [
      "[0 1 2 3]\n",
      "[3 4 5]\n",
      "[5 7 9]\n"
     ]
    }
   ],
   "source": [
    "print(np.arange(4))\n",
    "print(np.arange(3, 6))\n",
    "print(np.arange(5, 10, 2))\n"
   ]
  },
  {
   "cell_type": "code",
   "execution_count": 10,
   "id": "a7260ff6-3e4e-4079-a331-20480851a803",
   "metadata": {},
   "outputs": [
    {
     "data": {
      "text/plain": [
       "array([1, 2, 5, 6, 7, 8])"
      ]
     },
     "execution_count": 10,
     "metadata": {},
     "output_type": "execute_result"
    }
   ],
   "source": [
    "np.r_[1, 2, 5:9]"
   ]
  },
  {
   "cell_type": "code",
   "execution_count": 11,
   "id": "8abe9143-1a9a-4085-accc-8177819ad1bd",
   "metadata": {},
   "outputs": [
    {
     "name": "stdout",
     "output_type": "stream",
     "text": [
      "[2 4 6 8]\n",
      "['B' 'B' 'A' 'A']\n",
      "[1 1 0 0]\n",
      "['2' '4' 'A' 'A']\n",
      "['B' 'B' '6' '8']\n"
     ]
    }
   ],
   "source": [
    "N11 = np.array([2, 4, 6, 8])\n",
    "print(N11)\n",
    "print(np.where(N11 > 5, \"A\", \"B\"))\n",
    "print(np.where(N11 < 5, 1, 0))\n",
    "print(np.where(N11 > 5, \"A\", N11))\n",
    "print(np.where(N11 > 5, N11, \"B\"))\n"
   ]
  },
  {
   "cell_type": "code",
   "execution_count": 12,
   "id": "4becf1f8-35e2-4076-a677-9b2904f413df",
   "metadata": {},
   "outputs": [
    {
     "name": "stdout",
     "output_type": "stream",
     "text": [
      "2.718281828459045\n",
      "7.38905609893065\n"
     ]
    }
   ],
   "source": [
    "print(np.exp(1))\n",
    "print(np.exp(2))"
   ]
  },
  {
   "cell_type": "code",
   "execution_count": 13,
   "id": "8dc5132c-5349-4726-9a0f-a4dfc242b1a5",
   "metadata": {},
   "outputs": [
    {
     "data": {
      "text/plain": [
       "2.0"
      ]
     },
     "execution_count": 13,
     "metadata": {},
     "output_type": "execute_result"
    }
   ],
   "source": [
    "np.log(2)\n",
    "\n",
    "np.log(np.exp(1))\n",
    "\n",
    "np.log10(100)"
   ]
  },
  {
   "cell_type": "code",
   "execution_count": 14,
   "id": "a4c6262f-18b8-4be4-99f7-cd42d76cbb1d",
   "metadata": {},
   "outputs": [
    {
     "name": "stdout",
     "output_type": "stream",
     "text": [
      "[[ 0.43292241  0.23248331  2.51165335]\n",
      " [-0.50677005  0.71185305  0.26412907]\n",
      " [-0.18377473  0.07245709  0.5650375 ]\n",
      " [ 0.65347368  1.345548    0.27157389]\n",
      " [ 0.94455963  2.98877084  0.5181034 ]]\n",
      "[[ 0.12539343 -0.27769572  0.29460355]\n",
      " [-1.67314326  0.57888196 -1.74777298]\n",
      " [-1.22250746 -0.70332633  0.16095343]\n",
      " [-0.58491704  0.93242505 -0.30260314]\n",
      " [ 0.64065658 -0.98669641  0.10295061]]\n",
      "-1.789491995085776\n",
      "[ 0.96000927 -2.84203429 -1.36079629  1.69641854 -0.24308922]\n",
      "[-1.16859806  0.46689052 -1.08778446]\n",
      "-0.11929946633905172\n",
      "[ 0.32000309 -0.94734476 -0.45359876  0.56547285 -0.08102974]\n",
      "[-0.23371961  0.0933781  -0.21755689]\n",
      "0.9068687663967963\n",
      "0.8224109594660469\n",
      "-1.7477729818839858\n",
      "1.3455480007037222\n",
      "[0.43292241 0.57888196 0.5650375  1.345548   0.64065658]\n",
      "5\n",
      "[3 3 2]\n"
     ]
    }
   ],
   "source": [
    "import numpy as np\n",
    "\n",
    "arr1 = np.random.randn(5, 3)\n",
    "arr2 = np.random.randn(5, 3)\n",
    "\n",
    "# 두 배열의 같은 요소들을 비교하여 최댓값 혹은 최솟값 계산\n",
    "print(np.maximum(arr1, arr2))  # 각 요소별 최댓값 계산\n",
    "print(np.minimum(arr1, arr2))  # 각 요소별 최솟값 계산\n",
    "\n",
    "# 통계 함수\n",
    "print(np.sum(arr1))  # 전체 성분의 합\n",
    "print(np.sum(arr1, axis=1))  # 열간의 합\n",
    "print(np.sum(arr1, axis=0))  # 행간의 합\n",
    "\n",
    "print(np.mean(arr1))  # 전체 성분의 평균\n",
    "print(np.mean(arr1, axis=1))  # 열간의 평균\n",
    "print(np.mean(arr1, axis=0))  # 행간의 평균\n",
    "\n",
    "print(np.std(arr1))  # 전체 성분의 표준편차\n",
    "print(np.var(arr1))  # 전체 성분의 분산\n",
    "print(np.min(arr1))  # 전체 성분 중 최솟값\n",
    "print(np.max(arr1))  # 전체 성분 중 최댓값\n",
    "print(np.max(arr1, axis=1))  # 열간의 최댓값\n",
    "\n",
    "print(np.argmin(arr1))  # 최솟값의 인덱스\n",
    "print(np.argmax(arr1, axis=0))  # 행간의 최댓값의 인덱스\n"
   ]
  },
  {
   "cell_type": "code",
   "execution_count": 15,
   "id": "884e0d0d-2153-4645-8ed2-bfdc557d40c3",
   "metadata": {},
   "outputs": [
    {
     "name": "stdout",
     "output_type": "stream",
     "text": [
      "[[0.14989666 2.48613306 0.67463433]\n",
      " [1.74528172 0.82099942 1.03551785]\n",
      " [1.28798931 0.74209891 0.76539502]\n",
      " [1.57072555 1.7324664  0.43579775]\n",
      " [0.21745731 1.45346143 1.91846173]]\n",
      "[[       nan 1.57674762        nan]\n",
      " [       nan        nan 1.01760397]\n",
      " [       nan        nan 0.87486858]\n",
      " [1.2532859         nan 0.66014979]\n",
      " [0.46632318 1.20559588        nan]]\n",
      "[[       nan 1.57674762        nan]\n",
      " [       nan        nan 1.01760397]\n",
      " [       nan        nan 0.87486858]\n",
      " [1.2532859         nan 0.66014979]\n",
      " [0.46632318 1.20559588        nan]]\n",
      "[[0.02246901 6.18085759 0.45513147]\n",
      " [3.0460083  0.67404004 1.07229721]\n",
      " [1.65891645 0.55071079 0.58582954]\n",
      " [2.46717874 3.00143983 0.18991967]\n",
      " [0.04728768 2.11255014 3.68049542]]\n",
      "[[0.02246901 6.18085759 0.45513147]\n",
      " [3.0460083  0.67404004 1.07229721]\n",
      " [1.65891645 0.55071079 0.58582954]\n",
      " [2.46717874 3.00143983 0.18991967]\n",
      " [0.04728768 2.11255014 3.68049542]]\n",
      "[[ 0.86079693 12.01472596  0.50934264]\n",
      " [ 0.17459579  0.4399917   2.81656441]\n",
      " [ 0.27582483  0.47611355  2.14984345]\n",
      " [ 4.81013691  0.17684769  1.54619604]\n",
      " [ 1.24291237  4.27789658  0.14683266]]\n",
      "2.718281828459045\n",
      "7.38905609893065\n",
      "[[        nan  0.91072852         nan]\n",
      " [        nan         nan  0.03490164]\n",
      " [        nan         nan -0.26736321]\n",
      " [ 0.45153764         nan -0.83057703]\n",
      " [-1.52575271  0.37394791         nan]]\n",
      "[[        nan  0.39552437         nan]\n",
      " [        nan         nan  0.01515759]\n",
      " [        nan         nan -0.11611437]\n",
      " [ 0.19610031         nan -0.36071502]\n",
      " [-0.66262598  0.16240351         nan]]\n",
      "[[        nan  1.31390351         nan]\n",
      " [        nan         nan  0.05035242]\n",
      " [        nan         nan -0.38572357]\n",
      " [ 0.65143112         nan -1.19826936]\n",
      " [-2.20119587  0.53949279         nan]]\n",
      "[[-1.  1. -1.]\n",
      " [-1. -1.  1.]\n",
      " [-1. -1.  1.]\n",
      " [ 1. -1.  1.]\n",
      " [ 1.  1. -1.]]\n",
      "[[-0.  3. -0.]\n",
      " [-1. -0.  2.]\n",
      " [-1. -0.  1.]\n",
      " [ 2. -1.  1.]\n",
      " [ 1.  2. -1.]]\n",
      "[[-1.  2. -1.]\n",
      " [-2. -1.  1.]\n",
      " [-2. -1.  0.]\n",
      " [ 1. -2.  0.]\n",
      " [ 0.  1. -2.]]\n"
     ]
    },
    {
     "name": "stderr",
     "output_type": "stream",
     "text": [
      "C:\\Users\\k8s\\AppData\\Local\\Temp\\ipykernel_6976\\831996544.py:9: RuntimeWarning: invalid value encountered in sqrt\n",
      "  print(np.sqrt(arr1))  # np.sqrt()를 사용하여 제곱근 계산\n",
      "C:\\Users\\k8s\\AppData\\Local\\Temp\\ipykernel_6976\\831996544.py:10: RuntimeWarning: invalid value encountered in sqrt\n",
      "  print(arr1 ** 0.5)  # 지수 0.5를 사용하여 제곱근 계산\n",
      "C:\\Users\\k8s\\AppData\\Local\\Temp\\ipykernel_6976\\831996544.py:22: RuntimeWarning: invalid value encountered in log\n",
      "  print(np.log(arr1))  # 자연로그 계산\n",
      "C:\\Users\\k8s\\AppData\\Local\\Temp\\ipykernel_6976\\831996544.py:23: RuntimeWarning: invalid value encountered in log10\n",
      "  print(np.log10(arr1))  # 상용로그(로그의 밑이 10) 계산\n",
      "C:\\Users\\k8s\\AppData\\Local\\Temp\\ipykernel_6976\\831996544.py:24: RuntimeWarning: invalid value encountered in log2\n",
      "  print(np.log2(arr1))  # 이진로그(로그의 밑이 2) 계산\n"
     ]
    }
   ],
   "source": [
    "import numpy as np\n",
    "\n",
    "arr1 = np.random.randn(5, 3)  # 5x3 크기의 난수 배열 생성\n",
    "\n",
    "# 절댓값 계산\n",
    "print(np.abs(arr1))\n",
    "\n",
    "# 제곱근 계산\n",
    "print(np.sqrt(arr1))  # np.sqrt()를 사용하여 제곱근 계산\n",
    "print(arr1 ** 0.5)  # 지수 0.5를 사용하여 제곱근 계산\n",
    "\n",
    "# 제곱 계산\n",
    "print(np.square(arr1))  # np.square()를 사용하여 제곱 계산\n",
    "print(arr1 ** 2)  # 지수 2를 사용하여 제곱 계산\n",
    "\n",
    "# 지수 함수 계산 (e의 지수로 계산)\n",
    "print(np.exp(arr1))  # np.exp()를 사용하여 지수 함수 계산\n",
    "print(np.exp(1))  # np.e, 자연상수 e의 값 출력\n",
    "print(np.exp(2))  # np.e ** 2, 자연상수 e의 제곱 값 출력\n",
    "\n",
    "# 자연로그, 상용로그, 이진로그 계산\n",
    "print(np.log(arr1))  # 자연로그 계산\n",
    "print(np.log10(arr1))  # 상용로그(로그의 밑이 10) 계산\n",
    "print(np.log2(arr1))  # 이진로그(로그의 밑이 2) 계산\n",
    "\n",
    "# 각 성분의 부호 계산 (+1, -1, 0)\n",
    "print(np.sign(arr1))\n",
    "\n",
    "# 소수 첫째 자리로 올림, 내림\n",
    "print(np.ceil(arr1))  # 올림\n",
    "print(np.floor(arr1))  # 내림"
   ]
  },
  {
   "cell_type": "code",
   "execution_count": 16,
   "id": "17635bcb-b2f0-4592-90c1-66d0a0929280",
   "metadata": {},
   "outputs": [
    {
     "name": "stdout",
     "output_type": "stream",
     "text": [
      "[ 1  4  6 16 25 33 38 42 48]\n",
      "[     1      3      6     60    540   4320  21600  86400 518400]\n",
      "[[  1   3   6]\n",
      " [ 10  90 720]\n",
      " [  5  20 120]]\n",
      "[[ 1  2  3]\n",
      " [ 8  9 10]\n",
      " [ 4  5  6]]\n",
      "[[ 1  3  2]\n",
      " [ 5  4  6]\n",
      " [10  9  8]]\n",
      "[[ 3  2  1]\n",
      " [10  9  8]\n",
      " [ 6  5  4]]\n",
      "[[10  9  8]\n",
      " [ 5  4  6]\n",
      " [ 1  3  2]]\n"
     ]
    }
   ],
   "source": [
    "import numpy as np\n",
    "\n",
    "arr1 = np.array([[1, 3, 2], [10, 9, 8], [5, 4, 6]])\n",
    "\n",
    "# 전체 성분에 대한 누적 합과 누적 곱\n",
    "print(np.cumsum(arr1))  # 전체 성분의 누적 합\n",
    "print(np.cumproduct(arr1))  # 전체 성분의 누적 곱\n",
    "\n",
    "# 열간 누적 곱 계산\n",
    "print(np.cumproduct(arr1, axis=1))  # 열간의 누적 곱\n",
    "\n",
    "# 정렬\n",
    "print(np.sort(arr1, axis=1))  # 열간 정렬\n",
    "print(np.sort(arr1, axis=0))  # 행간 정렬\n",
    "\n",
    "# 열간 정렬을 내림차순으로 정렬\n",
    "print(np.sort(arr1, axis=1)[:, ::-1])  # 내림차순으로 열간 정렬\n",
    "print(np.sort(arr1, axis=0)[::-1])  # 내림차순으로 행간 정렬"
   ]
  },
  {
   "cell_type": "markdown",
   "id": "72564728-ccb8-40aa-9ec8-a34108e0fc88",
   "metadata": {},
   "source": [
    "## Q\n",
    "아래 N1의 구조를 shape 속성을 이용하여 출력하시오.\n",
    "[1, 2, 3],\n",
    "[2, 3, 4]\n"
   ]
  },
  {
   "cell_type": "code",
   "execution_count": 17,
   "id": "a4aa836c-b0a5-4eda-bd48-70d8bfc7e95d",
   "metadata": {},
   "outputs": [
    {
     "data": {
      "text/plain": [
       "array([[1, 2, 3],\n",
       "       [2, 3, 4]])"
      ]
     },
     "execution_count": 17,
     "metadata": {},
     "output_type": "execute_result"
    }
   ],
   "source": [
    "N1 = np.array([[1, 2, 3], [2, 3, 4]])\n",
    "N1\n"
   ]
  },
  {
   "cell_type": "code",
   "execution_count": 18,
   "id": "2a3c5e81-672e-4365-8e01-da6fa6ab1621",
   "metadata": {},
   "outputs": [
    {
     "data": {
      "text/plain": [
       "(2, 3)"
      ]
     },
     "execution_count": 18,
     "metadata": {},
     "output_type": "execute_result"
    }
   ],
   "source": [
    "N1.shape"
   ]
  },
  {
   "cell_type": "markdown",
   "id": "cecaaa4b-7e4e-49aa-a7a2-64f24b71de13",
   "metadata": {},
   "source": [
    "## Q\n",
    "아래 원소를 N2 2차원 배열로 생성해 보자.\n",
    "1, 3, 5, 7, 9, 11\n"
   ]
  },
  {
   "cell_type": "code",
   "execution_count": 19,
   "id": "20a15e6e-9455-482e-bca1-6783edccc492",
   "metadata": {},
   "outputs": [
    {
     "name": "stdout",
     "output_type": "stream",
     "text": [
      "[[ 1  3]\n",
      " [ 5  7]\n",
      " [ 9 11]]\n"
     ]
    }
   ],
   "source": [
    "N2 = np.array([1, 3, 5, 7, 9, 11]).reshape(3, 2)\n",
    "print(N2)"
   ]
  },
  {
   "cell_type": "code",
   "execution_count": 20,
   "id": "55417196-6bbf-40a4-8d77-e495666c2152",
   "metadata": {},
   "outputs": [
    {
     "name": "stdout",
     "output_type": "stream",
     "text": [
      "[[ 1  3  5]\n",
      " [ 7  9 11]]\n"
     ]
    }
   ],
   "source": [
    "N2 = np.array([1, 3, 5, 7, 9, 11]).reshape(2, 3)\n",
    "print(N2)"
   ]
  },
  {
   "cell_type": "markdown",
   "id": "7656cb86-afed-443c-8b96-6443f26173d9",
   "metadata": {},
   "source": [
    "## Q\n",
    "3행 4열의 2차원 배열을 1의 값들로 채우시오.\n"
   ]
  },
  {
   "cell_type": "code",
   "execution_count": 21,
   "id": "0296de87-0832-4a94-b929-d6eef17a0d9a",
   "metadata": {},
   "outputs": [
    {
     "name": "stdout",
     "output_type": "stream",
     "text": [
      "[[1. 1. 1. 1.]\n",
      " [1. 1. 1. 1.]\n",
      " [1. 1. 1. 1.]]\n"
     ]
    }
   ],
   "source": [
    "N3 = np.ones([3, 4])\n",
    "print(N3)"
   ]
  },
  {
   "cell_type": "markdown",
   "id": "fd9ad5c7-4a95-4ccb-95a4-7918ecffadab",
   "metadata": {},
   "source": [
    "## Q \n",
    "아래 발생한 에러를 해결해보자.\n",
    "```\n",
    "import numpy as np\n",
    "list1 = [[1, 11], [2, 12], [3, 13]]\n",
    "print(np.array(list1[:, 1]))\n",
    ">>\n",
    "TypeError                                 Traceback (most recent call last)\n",
    "C:\\Users\\DAEKYE~1\\AppData\\Local\\Temp/ipykernel_15240/521200505.py in <module>\n",
    "      1 import numpy as np\n",
    "      2 list1 = [[1, 11], [2, 12], [3, 13]]\n",
    "----> 3 print(np.array(list1[:, 1]))\n",
    "\n",
    "TypeError: list indices must be integers or slices, not tuple\n",
    "```\n"
   ]
  },
  {
   "cell_type": "code",
   "execution_count": 22,
   "id": "56738a26-a920-407b-9fb1-750b9223175b",
   "metadata": {},
   "outputs": [
    {
     "name": "stdout",
     "output_type": "stream",
     "text": [
      "[11 12 13]\n"
     ]
    }
   ],
   "source": [
    "import numpy as np\n",
    "list1 = np.array([[1, 11], [2, 12], [3, 13]])\n",
    "print(list1[:, 1])"
   ]
  },
  {
   "cell_type": "markdown",
   "id": "fac5f271-474f-4a62-b725-068f290ba9b1",
   "metadata": {},
   "source": [
    "## Q\n",
    "다음 코드의 결과를 적으시오.\n",
    "\n",
    "```\n",
    "X = np.array([[1, 2, 3], [4, 5, 6], [7, 8, 9]])\n",
    "Y = np.array([[2, 3, 4], [5, 6, 7], [8, 9, 10]])\n",
    "print(X[:,1]+Y[:,1])\n",
    "```\n"
   ]
  },
  {
   "cell_type": "code",
   "execution_count": 23,
   "id": "f9877968-a00e-419b-8820-6d553a6c1f40",
   "metadata": {},
   "outputs": [
    {
     "name": "stdout",
     "output_type": "stream",
     "text": [
      "[ 5 11 17]\n"
     ]
    }
   ],
   "source": [
    "X = np.array([[1, 2, 3], [4, 5, 6], [7, 8, 9]])\n",
    "Y = np.array([[2, 3, 4], [5, 6, 7], [8, 9, 10]])\n",
    "print(X[:,1]+Y[:,1])"
   ]
  },
  {
   "cell_type": "markdown",
   "id": "0031d5d3-767c-4b29-902f-082bd2b6e171",
   "metadata": {},
   "source": [
    "# Pandas(Crosstab)"
   ]
  },
  {
   "cell_type": "code",
   "execution_count": 24,
   "id": "bbcc4076-58ce-42a2-9b3c-2a34980ea29e",
   "metadata": {},
   "outputs": [
    {
     "data": {
      "text/html": [
       "<div>\n",
       "<style scoped>\n",
       "    .dataframe tbody tr th:only-of-type {\n",
       "        vertical-align: middle;\n",
       "    }\n",
       "\n",
       "    .dataframe tbody tr th {\n",
       "        vertical-align: top;\n",
       "    }\n",
       "\n",
       "    .dataframe thead th {\n",
       "        text-align: right;\n",
       "    }\n",
       "</style>\n",
       "<table border=\"1\" class=\"dataframe\">\n",
       "  <thead>\n",
       "    <tr style=\"text-align: right;\">\n",
       "      <th></th>\n",
       "      <th>user</th>\n",
       "      <th>gender</th>\n",
       "      <th>timeStamp</th>\n",
       "      <th>is_booking</th>\n",
       "      <th>session_time</th>\n",
       "    </tr>\n",
       "  </thead>\n",
       "  <tbody>\n",
       "    <tr>\n",
       "      <th>0</th>\n",
       "      <td>a</td>\n",
       "      <td>F</td>\n",
       "      <td>2077-04-01 15:23:09</td>\n",
       "      <td>0</td>\n",
       "      <td>121</td>\n",
       "    </tr>\n",
       "    <tr>\n",
       "      <th>1</th>\n",
       "      <td>b</td>\n",
       "      <td>F</td>\n",
       "      <td>2077-04-01 17:03:22</td>\n",
       "      <td>1</td>\n",
       "      <td>1102</td>\n",
       "    </tr>\n",
       "    <tr>\n",
       "      <th>2</th>\n",
       "      <td>c</td>\n",
       "      <td>M</td>\n",
       "      <td>2077-04-01 17:27:39</td>\n",
       "      <td>1</td>\n",
       "      <td>430</td>\n",
       "    </tr>\n",
       "    <tr>\n",
       "      <th>3</th>\n",
       "      <td>d</td>\n",
       "      <td>M</td>\n",
       "      <td>2077-04-01 17:30:02</td>\n",
       "      <td>0</td>\n",
       "      <td>254</td>\n",
       "    </tr>\n",
       "    <tr>\n",
       "      <th>4</th>\n",
       "      <td>e</td>\n",
       "      <td>M</td>\n",
       "      <td>2077-04-01 19:38:40</td>\n",
       "      <td>0</td>\n",
       "      <td>304</td>\n",
       "    </tr>\n",
       "    <tr>\n",
       "      <th>5</th>\n",
       "      <td>f</td>\n",
       "      <td>F</td>\n",
       "      <td>2077-04-01 20:01:51</td>\n",
       "      <td>0</td>\n",
       "      <td>650</td>\n",
       "    </tr>\n",
       "    <tr>\n",
       "      <th>6</th>\n",
       "      <td>g</td>\n",
       "      <td>M</td>\n",
       "      <td>2077-04-01 20:49:32</td>\n",
       "      <td>1</td>\n",
       "      <td>1092</td>\n",
       "    </tr>\n",
       "    <tr>\n",
       "      <th>7</th>\n",
       "      <td>h</td>\n",
       "      <td>M</td>\n",
       "      <td>2077-04-01 22:49:32</td>\n",
       "      <td>0</td>\n",
       "      <td>729</td>\n",
       "    </tr>\n",
       "  </tbody>\n",
       "</table>\n",
       "</div>"
      ],
      "text/plain": [
       "  user gender            timeStamp  is_booking  session_time\n",
       "0    a      F  2077-04-01 15:23:09           0           121\n",
       "1    b      F  2077-04-01 17:03:22           1          1102\n",
       "2    c      M  2077-04-01 17:27:39           1           430\n",
       "3    d      M  2077-04-01 17:30:02           0           254\n",
       "4    e      M  2077-04-01 19:38:40           0           304\n",
       "5    f      F  2077-04-01 20:01:51           0           650\n",
       "6    g      M  2077-04-01 20:49:32           1          1092\n",
       "7    h      M  2077-04-01 22:49:32           0           729"
      ]
     },
     "execution_count": 24,
     "metadata": {},
     "output_type": "execute_result"
    }
   ],
   "source": [
    "import pandas as pd\n",
    "\n",
    "df = pd.DataFrame(\n",
    "    dict(\n",
    "        user = [\"a\", \"b\", \"c\", \"d\", \"e\", \"f\", \"g\", \"h\"],\n",
    "        gender = [\"F\", \"F\", \"M\", \"M\", \"M\", \"F\", \"M\", \"M\"],\n",
    "        timeStamp = [\"2077-04-01 15:23:09\", \"2077-04-01 17:03:22\", \"2077-04-01 17:27:39\", \"2077-04-01 17:30:02\",\"2077-04-01 19:38:40\", \"2077-04-01 20:01:51\", \"2077-04-01 20:49:32\", \"2077-04-01 22:49:32\"],\n",
    "        is_booking = [0, 1, 1, 0, 0, 0, 1, 0],\n",
    "        session_time = [121, 1102, 430, 254, 304, 650, 1092, 729]\n",
    "    )\n",
    ")\n",
    "\n",
    "df"
   ]
  },
  {
   "cell_type": "code",
   "execution_count": 25,
   "id": "7aa87f6c-912f-4b25-afb7-1e6d5c0acbca",
   "metadata": {},
   "outputs": [
    {
     "data": {
      "text/html": [
       "<div>\n",
       "<style scoped>\n",
       "    .dataframe tbody tr th:only-of-type {\n",
       "        vertical-align: middle;\n",
       "    }\n",
       "\n",
       "    .dataframe tbody tr th {\n",
       "        vertical-align: top;\n",
       "    }\n",
       "\n",
       "    .dataframe thead th {\n",
       "        text-align: right;\n",
       "    }\n",
       "</style>\n",
       "<table border=\"1\" class=\"dataframe\">\n",
       "  <thead>\n",
       "    <tr style=\"text-align: right;\">\n",
       "      <th>is_booking</th>\n",
       "      <th>0</th>\n",
       "      <th>1</th>\n",
       "    </tr>\n",
       "    <tr>\n",
       "      <th>gender</th>\n",
       "      <th></th>\n",
       "      <th></th>\n",
       "    </tr>\n",
       "  </thead>\n",
       "  <tbody>\n",
       "    <tr>\n",
       "      <th>F</th>\n",
       "      <td>2</td>\n",
       "      <td>1</td>\n",
       "    </tr>\n",
       "    <tr>\n",
       "      <th>M</th>\n",
       "      <td>3</td>\n",
       "      <td>2</td>\n",
       "    </tr>\n",
       "  </tbody>\n",
       "</table>\n",
       "</div>"
      ],
      "text/plain": [
       "is_booking  0  1\n",
       "gender          \n",
       "F           2  1\n",
       "M           3  2"
      ]
     },
     "execution_count": 25,
     "metadata": {},
     "output_type": "execute_result"
    }
   ],
   "source": [
    "pd.crosstab(df[\"gender\"], df[\"is_booking\"])"
   ]
  },
  {
   "cell_type": "code",
   "execution_count": 26,
   "id": "86c0e59c-2b25-40e7-8010-e06eb64f6b5e",
   "metadata": {},
   "outputs": [
    {
     "data": {
      "text/plain": [
       "2"
      ]
     },
     "execution_count": 26,
     "metadata": {},
     "output_type": "execute_result"
    }
   ],
   "source": [
    "sum((df[\"gender\"] == \"F\") & (df[\"is_booking\"] == 0))"
   ]
  },
  {
   "cell_type": "code",
   "execution_count": 27,
   "id": "a079b319-fdfa-4834-bbe8-649de7b01046",
   "metadata": {},
   "outputs": [
    {
     "data": {
      "text/html": [
       "<div>\n",
       "<style scoped>\n",
       "    .dataframe tbody tr th:only-of-type {\n",
       "        vertical-align: middle;\n",
       "    }\n",
       "\n",
       "    .dataframe tbody tr th {\n",
       "        vertical-align: top;\n",
       "    }\n",
       "\n",
       "    .dataframe thead th {\n",
       "        text-align: right;\n",
       "    }\n",
       "</style>\n",
       "<table border=\"1\" class=\"dataframe\">\n",
       "  <thead>\n",
       "    <tr style=\"text-align: right;\">\n",
       "      <th>is_booking</th>\n",
       "      <th>0</th>\n",
       "      <th>1</th>\n",
       "    </tr>\n",
       "    <tr>\n",
       "      <th>gender</th>\n",
       "      <th></th>\n",
       "      <th></th>\n",
       "    </tr>\n",
       "  </thead>\n",
       "  <tbody>\n",
       "    <tr>\n",
       "      <th>F</th>\n",
       "      <td>2</td>\n",
       "      <td>1</td>\n",
       "    </tr>\n",
       "    <tr>\n",
       "      <th>M</th>\n",
       "      <td>3</td>\n",
       "      <td>2</td>\n",
       "    </tr>\n",
       "  </tbody>\n",
       "</table>\n",
       "</div>"
      ],
      "text/plain": [
       "is_booking  0  1\n",
       "gender          \n",
       "F           2  1\n",
       "M           3  2"
      ]
     },
     "execution_count": 27,
     "metadata": {},
     "output_type": "execute_result"
    }
   ],
   "source": [
    "pd.crosstab(index = df[\"gender\"], columns = df[\"is_booking\"])"
   ]
  },
  {
   "cell_type": "code",
   "execution_count": 28,
   "id": "9de83481-7a00-41c1-9452-1ab1b923be5a",
   "metadata": {},
   "outputs": [
    {
     "data": {
      "text/html": [
       "<div>\n",
       "<style scoped>\n",
       "    .dataframe tbody tr th:only-of-type {\n",
       "        vertical-align: middle;\n",
       "    }\n",
       "\n",
       "    .dataframe tbody tr th {\n",
       "        vertical-align: top;\n",
       "    }\n",
       "\n",
       "    .dataframe thead th {\n",
       "        text-align: right;\n",
       "    }\n",
       "</style>\n",
       "<table border=\"1\" class=\"dataframe\">\n",
       "  <thead>\n",
       "    <tr style=\"text-align: right;\">\n",
       "      <th></th>\n",
       "      <th>is_booking</th>\n",
       "      <th>0</th>\n",
       "      <th>1</th>\n",
       "    </tr>\n",
       "    <tr>\n",
       "      <th>gender</th>\n",
       "      <th>hour</th>\n",
       "      <th></th>\n",
       "      <th></th>\n",
       "    </tr>\n",
       "  </thead>\n",
       "  <tbody>\n",
       "    <tr>\n",
       "      <th rowspan=\"3\" valign=\"top\">F</th>\n",
       "      <th>15</th>\n",
       "      <td>1</td>\n",
       "      <td>0</td>\n",
       "    </tr>\n",
       "    <tr>\n",
       "      <th>17</th>\n",
       "      <td>0</td>\n",
       "      <td>1</td>\n",
       "    </tr>\n",
       "    <tr>\n",
       "      <th>20</th>\n",
       "      <td>1</td>\n",
       "      <td>0</td>\n",
       "    </tr>\n",
       "    <tr>\n",
       "      <th rowspan=\"4\" valign=\"top\">M</th>\n",
       "      <th>17</th>\n",
       "      <td>1</td>\n",
       "      <td>1</td>\n",
       "    </tr>\n",
       "    <tr>\n",
       "      <th>19</th>\n",
       "      <td>1</td>\n",
       "      <td>0</td>\n",
       "    </tr>\n",
       "    <tr>\n",
       "      <th>20</th>\n",
       "      <td>0</td>\n",
       "      <td>1</td>\n",
       "    </tr>\n",
       "    <tr>\n",
       "      <th>22</th>\n",
       "      <td>1</td>\n",
       "      <td>0</td>\n",
       "    </tr>\n",
       "  </tbody>\n",
       "</table>\n",
       "</div>"
      ],
      "text/plain": [
       "is_booking   0  1\n",
       "gender hour      \n",
       "F      15    1  0\n",
       "       17    0  1\n",
       "       20    1  0\n",
       "M      17    1  1\n",
       "       19    1  0\n",
       "       20    0  1\n",
       "       22    1  0"
      ]
     },
     "execution_count": 28,
     "metadata": {},
     "output_type": "execute_result"
    }
   ],
   "source": [
    "df[\"timeStamp\"] = pd.to_datetime(df[\"timeStamp\"])\n",
    "df[\"hour\"] = df[\"timeStamp\"].dt.hour\n",
    "pd.crosstab(index = [df[\"gender\"], df[\"hour\"]], columns = df[\"is_booking\"])"
   ]
  },
  {
   "cell_type": "code",
   "execution_count": 29,
   "id": "b7ceaed7-b070-433d-b5ad-0c7e25632b19",
   "metadata": {},
   "outputs": [
    {
     "data": {
      "text/html": [
       "<div>\n",
       "<style scoped>\n",
       "    .dataframe tbody tr th:only-of-type {\n",
       "        vertical-align: middle;\n",
       "    }\n",
       "\n",
       "    .dataframe tbody tr th {\n",
       "        vertical-align: top;\n",
       "    }\n",
       "\n",
       "    .dataframe thead th {\n",
       "        text-align: right;\n",
       "    }\n",
       "</style>\n",
       "<table border=\"1\" class=\"dataframe\">\n",
       "  <thead>\n",
       "    <tr style=\"text-align: right;\">\n",
       "      <th>is_booking</th>\n",
       "      <th>0</th>\n",
       "      <th>1</th>\n",
       "    </tr>\n",
       "    <tr>\n",
       "      <th>gender</th>\n",
       "      <th></th>\n",
       "      <th></th>\n",
       "    </tr>\n",
       "  </thead>\n",
       "  <tbody>\n",
       "    <tr>\n",
       "      <th>F</th>\n",
       "      <td>0.250</td>\n",
       "      <td>0.125</td>\n",
       "    </tr>\n",
       "    <tr>\n",
       "      <th>M</th>\n",
       "      <td>0.375</td>\n",
       "      <td>0.250</td>\n",
       "    </tr>\n",
       "  </tbody>\n",
       "</table>\n",
       "</div>"
      ],
      "text/plain": [
       "is_booking      0      1\n",
       "gender                  \n",
       "F           0.250  0.125\n",
       "M           0.375  0.250"
      ]
     },
     "execution_count": 29,
     "metadata": {},
     "output_type": "execute_result"
    }
   ],
   "source": [
    "# 'gender'와 'is_booking' 열에 대한 교차표를 정규화하여 생성\n",
    "pd.crosstab(index=df[\"gender\"], columns=df[\"is_booking\"], normalize=True)"
   ]
  },
  {
   "cell_type": "code",
   "execution_count": 30,
   "id": "9cf8e17b-5c8a-48eb-95ec-25f53bd0a3fc",
   "metadata": {},
   "outputs": [
    {
     "data": {
      "text/html": [
       "<div>\n",
       "<style scoped>\n",
       "    .dataframe tbody tr th:only-of-type {\n",
       "        vertical-align: middle;\n",
       "    }\n",
       "\n",
       "    .dataframe tbody tr th {\n",
       "        vertical-align: top;\n",
       "    }\n",
       "\n",
       "    .dataframe thead th {\n",
       "        text-align: right;\n",
       "    }\n",
       "</style>\n",
       "<table border=\"1\" class=\"dataframe\">\n",
       "  <thead>\n",
       "    <tr style=\"text-align: right;\">\n",
       "      <th>is_booking</th>\n",
       "      <th>0</th>\n",
       "      <th>1</th>\n",
       "      <th>All</th>\n",
       "    </tr>\n",
       "    <tr>\n",
       "      <th>gender</th>\n",
       "      <th></th>\n",
       "      <th></th>\n",
       "      <th></th>\n",
       "    </tr>\n",
       "  </thead>\n",
       "  <tbody>\n",
       "    <tr>\n",
       "      <th>F</th>\n",
       "      <td>0.250</td>\n",
       "      <td>0.125</td>\n",
       "      <td>0.375</td>\n",
       "    </tr>\n",
       "    <tr>\n",
       "      <th>M</th>\n",
       "      <td>0.375</td>\n",
       "      <td>0.250</td>\n",
       "      <td>0.625</td>\n",
       "    </tr>\n",
       "    <tr>\n",
       "      <th>All</th>\n",
       "      <td>0.625</td>\n",
       "      <td>0.375</td>\n",
       "      <td>1.000</td>\n",
       "    </tr>\n",
       "  </tbody>\n",
       "</table>\n",
       "</div>"
      ],
      "text/plain": [
       "is_booking      0      1    All\n",
       "gender                         \n",
       "F           0.250  0.125  0.375\n",
       "M           0.375  0.250  0.625\n",
       "All         0.625  0.375  1.000"
      ]
     },
     "execution_count": 30,
     "metadata": {},
     "output_type": "execute_result"
    }
   ],
   "source": [
    "pd.crosstab(\n",
    "    index = df[\"gender\"], columns = df[\"is_booking\"],\n",
    "    normalize = True,\n",
    "    margins = True\n",
    ")"
   ]
  },
  {
   "cell_type": "code",
   "execution_count": 31,
   "id": "97b1f676-b00e-4eef-a9cd-31e6c19e6fb1",
   "metadata": {},
   "outputs": [
    {
     "data": {
      "text/html": [
       "<div>\n",
       "<style scoped>\n",
       "    .dataframe tbody tr th:only-of-type {\n",
       "        vertical-align: middle;\n",
       "    }\n",
       "\n",
       "    .dataframe tbody tr th {\n",
       "        vertical-align: top;\n",
       "    }\n",
       "\n",
       "    .dataframe thead th {\n",
       "        text-align: right;\n",
       "    }\n",
       "</style>\n",
       "<table border=\"1\" class=\"dataframe\">\n",
       "  <thead>\n",
       "    <tr style=\"text-align: right;\">\n",
       "      <th>is_booking</th>\n",
       "      <th>0</th>\n",
       "      <th>1</th>\n",
       "    </tr>\n",
       "    <tr>\n",
       "      <th>gender</th>\n",
       "      <th></th>\n",
       "      <th></th>\n",
       "    </tr>\n",
       "  </thead>\n",
       "  <tbody>\n",
       "    <tr>\n",
       "      <th>F</th>\n",
       "      <td>0.666667</td>\n",
       "      <td>0.333333</td>\n",
       "    </tr>\n",
       "    <tr>\n",
       "      <th>M</th>\n",
       "      <td>0.600000</td>\n",
       "      <td>0.400000</td>\n",
       "    </tr>\n",
       "  </tbody>\n",
       "</table>\n",
       "</div>"
      ],
      "text/plain": [
       "is_booking         0         1\n",
       "gender                        \n",
       "F           0.666667  0.333333\n",
       "M           0.600000  0.400000"
      ]
     },
     "execution_count": 31,
     "metadata": {},
     "output_type": "execute_result"
    }
   ],
   "source": [
    "pd.crosstab(index = df[\"gender\"], columns = df[\"is_booking\"], normalize = 0)"
   ]
  },
  {
   "cell_type": "code",
   "execution_count": 32,
   "id": "53073eb1-b181-45fd-84e7-005eef2017cf",
   "metadata": {},
   "outputs": [
    {
     "data": {
      "text/html": [
       "<div>\n",
       "<style scoped>\n",
       "    .dataframe tbody tr th:only-of-type {\n",
       "        vertical-align: middle;\n",
       "    }\n",
       "\n",
       "    .dataframe tbody tr th {\n",
       "        vertical-align: top;\n",
       "    }\n",
       "\n",
       "    .dataframe thead th {\n",
       "        text-align: right;\n",
       "    }\n",
       "</style>\n",
       "<table border=\"1\" class=\"dataframe\">\n",
       "  <thead>\n",
       "    <tr style=\"text-align: right;\">\n",
       "      <th>is_booking</th>\n",
       "      <th>0</th>\n",
       "      <th>1</th>\n",
       "    </tr>\n",
       "    <tr>\n",
       "      <th>gender</th>\n",
       "      <th></th>\n",
       "      <th></th>\n",
       "    </tr>\n",
       "  </thead>\n",
       "  <tbody>\n",
       "    <tr>\n",
       "      <th>F</th>\n",
       "      <td>0.666667</td>\n",
       "      <td>0.333333</td>\n",
       "    </tr>\n",
       "    <tr>\n",
       "      <th>M</th>\n",
       "      <td>0.600000</td>\n",
       "      <td>0.400000</td>\n",
       "    </tr>\n",
       "  </tbody>\n",
       "</table>\n",
       "</div>"
      ],
      "text/plain": [
       "is_booking         0         1\n",
       "gender                        \n",
       "F           0.666667  0.333333\n",
       "M           0.600000  0.400000"
      ]
     },
     "execution_count": 32,
     "metadata": {},
     "output_type": "execute_result"
    }
   ],
   "source": [
    "pd.crosstab(index = df[\"gender\"], columns = df[\"is_booking\"],normalize = \"index\")"
   ]
  },
  {
   "cell_type": "code",
   "execution_count": 33,
   "id": "6705ec7c-95f6-4b44-9705-d1194f12d89f",
   "metadata": {},
   "outputs": [
    {
     "data": {
      "text/html": [
       "<div>\n",
       "<style scoped>\n",
       "    .dataframe tbody tr th:only-of-type {\n",
       "        vertical-align: middle;\n",
       "    }\n",
       "\n",
       "    .dataframe tbody tr th {\n",
       "        vertical-align: top;\n",
       "    }\n",
       "\n",
       "    .dataframe thead th {\n",
       "        text-align: right;\n",
       "    }\n",
       "</style>\n",
       "<table border=\"1\" class=\"dataframe\">\n",
       "  <thead>\n",
       "    <tr style=\"text-align: right;\">\n",
       "      <th>is_booking</th>\n",
       "      <th>0</th>\n",
       "      <th>1</th>\n",
       "    </tr>\n",
       "    <tr>\n",
       "      <th>gender</th>\n",
       "      <th></th>\n",
       "      <th></th>\n",
       "    </tr>\n",
       "  </thead>\n",
       "  <tbody>\n",
       "    <tr>\n",
       "      <th>F</th>\n",
       "      <td>0.4</td>\n",
       "      <td>0.333333</td>\n",
       "    </tr>\n",
       "    <tr>\n",
       "      <th>M</th>\n",
       "      <td>0.6</td>\n",
       "      <td>0.666667</td>\n",
       "    </tr>\n",
       "  </tbody>\n",
       "</table>\n",
       "</div>"
      ],
      "text/plain": [
       "is_booking    0         1\n",
       "gender                   \n",
       "F           0.4  0.333333\n",
       "M           0.6  0.666667"
      ]
     },
     "execution_count": 33,
     "metadata": {},
     "output_type": "execute_result"
    }
   ],
   "source": [
    "pd.crosstab(index = df[\"gender\"], columns = df[\"is_booking\"], normalize = 1)"
   ]
  },
  {
   "cell_type": "code",
   "execution_count": 34,
   "id": "5aa00544-6dab-4967-b2f7-9373434dac73",
   "metadata": {},
   "outputs": [
    {
     "data": {
      "text/html": [
       "<div>\n",
       "<style scoped>\n",
       "    .dataframe tbody tr th:only-of-type {\n",
       "        vertical-align: middle;\n",
       "    }\n",
       "\n",
       "    .dataframe tbody tr th {\n",
       "        vertical-align: top;\n",
       "    }\n",
       "\n",
       "    .dataframe thead th {\n",
       "        text-align: right;\n",
       "    }\n",
       "</style>\n",
       "<table border=\"1\" class=\"dataframe\">\n",
       "  <thead>\n",
       "    <tr style=\"text-align: right;\">\n",
       "      <th>is_booking</th>\n",
       "      <th>0</th>\n",
       "      <th>1</th>\n",
       "    </tr>\n",
       "    <tr>\n",
       "      <th>gender</th>\n",
       "      <th></th>\n",
       "      <th></th>\n",
       "    </tr>\n",
       "  </thead>\n",
       "  <tbody>\n",
       "    <tr>\n",
       "      <th>F</th>\n",
       "      <td>0.4</td>\n",
       "      <td>0.333333</td>\n",
       "    </tr>\n",
       "    <tr>\n",
       "      <th>M</th>\n",
       "      <td>0.6</td>\n",
       "      <td>0.666667</td>\n",
       "    </tr>\n",
       "  </tbody>\n",
       "</table>\n",
       "</div>"
      ],
      "text/plain": [
       "is_booking    0         1\n",
       "gender                   \n",
       "F           0.4  0.333333\n",
       "M           0.6  0.666667"
      ]
     },
     "execution_count": 34,
     "metadata": {},
     "output_type": "execute_result"
    }
   ],
   "source": [
    "pd.crosstab(index = df[\"gender\"], columns = df[\"is_booking\"], normalize = \"columns\")"
   ]
  },
  {
   "cell_type": "code",
   "execution_count": 35,
   "id": "3cce01cb-f27e-4fb4-a534-7f5982e175a9",
   "metadata": {},
   "outputs": [
    {
     "name": "stdout",
     "output_type": "stream",
     "text": [
      "Counter({'blue': 3, 'red': 2, 'green': 1})\n"
     ]
    }
   ],
   "source": [
    "from collections import Counter\n",
    "colors = ['red', 'blue', 'red', 'green', 'blue', 'blue']\n",
    "cnt = Counter(colors)\n",
    "print(cnt)"
   ]
  },
  {
   "cell_type": "code",
   "execution_count": 36,
   "id": "604bd8b1-e23f-466f-b592-b3beff716c0e",
   "metadata": {},
   "outputs": [
    {
     "name": "stdout",
     "output_type": "stream",
     "text": [
      "[(4, 3), (3, 2), (5, 2), (1, 1), (2, 1)]\n"
     ]
    }
   ],
   "source": [
    "from collections import Counter\n",
    "numbers = [1, 2, 3, 3, 4, 4, 4, 5, 5]\n",
    "cnt = Counter(numbers)\n",
    "cnt.most_common()\n",
    "print(cnt.most_common())"
   ]
  },
  {
   "cell_type": "code",
   "execution_count": 37,
   "id": "3fd26354-b169-4b6d-b3e7-7e468dedfb87",
   "metadata": {},
   "outputs": [
    {
     "name": "stdout",
     "output_type": "stream",
     "text": [
      "[(4, 3), (3, 2), (5, 2)]\n"
     ]
    }
   ],
   "source": [
    "from collections import Counter\n",
    "numbers = [1, 2, 3, 3, 4, 4, 4, 5, 5]\n",
    "cnt = Counter(numbers)\n",
    "print(cnt.most_common(3))"
   ]
  },
  {
   "cell_type": "code",
   "execution_count": 38,
   "id": "13f8be54-0efb-4e50-a2f3-64e4e56e2b01",
   "metadata": {},
   "outputs": [
    {
     "name": "stdout",
     "output_type": "stream",
     "text": [
      "[(4, 3)]\n",
      "4\n"
     ]
    }
   ],
   "source": [
    "from collections import Counter\n",
    "numbers = [1, 2, 3, 3, 4, 4, 4, 5, 5]\n",
    "cnt = Counter(numbers)\n",
    "\n",
    "mode = cnt.most_common(1)\n",
    "print(mode)\n",
    "print(mode[0][0])"
   ]
  },
  {
   "cell_type": "markdown",
   "id": "e302fbc0-b10c-4aa8-88c4-7e955519299e",
   "metadata": {},
   "source": [
    "# Measures"
   ]
  },
  {
   "cell_type": "code",
   "execution_count": 39,
   "id": "fee14972-073d-4203-b33a-2870c828c018",
   "metadata": {},
   "outputs": [
    {
     "data": {
      "text/plain": [
       "array([  1.,   3.,   5., 100., 200.,  nan])"
      ]
     },
     "execution_count": 39,
     "metadata": {},
     "output_type": "execute_result"
    }
   ],
   "source": [
    "A1 = np.array([1, 3, 5, 100, 200, np.nan])\n",
    "A1"
   ]
  },
  {
   "cell_type": "code",
   "execution_count": 40,
   "id": "dadbf271-28a0-4158-8c87-b30d33e50eee",
   "metadata": {},
   "outputs": [
    {
     "data": {
      "text/plain": [
       "nan"
      ]
     },
     "execution_count": 40,
     "metadata": {},
     "output_type": "execute_result"
    }
   ],
   "source": [
    "A1.mean()"
   ]
  },
  {
   "cell_type": "code",
   "execution_count": 41,
   "id": "ebfc2171-dabf-4406-903e-a068e3a2c463",
   "metadata": {},
   "outputs": [
    {
     "data": {
      "text/plain": [
       "nan"
      ]
     },
     "execution_count": 41,
     "metadata": {},
     "output_type": "execute_result"
    }
   ],
   "source": [
    "np.mean(A1)"
   ]
  },
  {
   "cell_type": "code",
   "execution_count": 42,
   "id": "006a2763-c425-41b6-be62-8990069e4995",
   "metadata": {},
   "outputs": [
    {
     "ename": "AttributeError",
     "evalue": "'numpy.ndarray' object has no attribute 'nanmean'",
     "output_type": "error",
     "traceback": [
      "\u001b[1;31m---------------------------------------------------------------------------\u001b[0m",
      "\u001b[1;31mAttributeError\u001b[0m                            Traceback (most recent call last)",
      "Cell \u001b[1;32mIn[42], line 1\u001b[0m\n\u001b[1;32m----> 1\u001b[0m \u001b[43mA1\u001b[49m\u001b[38;5;241;43m.\u001b[39;49m\u001b[43mnanmean\u001b[49m()\n",
      "\u001b[1;31mAttributeError\u001b[0m: 'numpy.ndarray' object has no attribute 'nanmean'"
     ]
    }
   ],
   "source": [
    "A1.nanmean()"
   ]
  },
  {
   "cell_type": "code",
   "execution_count": 43,
   "id": "6d937277-e3b7-4f1a-9d3a-deb37fd48095",
   "metadata": {},
   "outputs": [
    {
     "data": {
      "text/plain": [
       "61.8"
      ]
     },
     "execution_count": 43,
     "metadata": {},
     "output_type": "execute_result"
    }
   ],
   "source": [
    "np.nanmean(A1)"
   ]
  },
  {
   "cell_type": "code",
   "execution_count": 44,
   "id": "0a756b5b-5aad-4a88-afb1-8f5d2f1fae3a",
   "metadata": {},
   "outputs": [
    {
     "data": {
      "text/plain": [
       "array([[1, 2, 3],\n",
       "       [4, 5, 6],\n",
       "       [6, 7, 8]])"
      ]
     },
     "execution_count": 44,
     "metadata": {},
     "output_type": "execute_result"
    }
   ],
   "source": [
    "A2 = np.array(\n",
    "    [\n",
    "        [1, 2, 3],\n",
    "        [4, 5, 6],\n",
    "        [6, 7, 8]\n",
    "    ]\n",
    ")\n",
    "\n",
    "A2"
   ]
  },
  {
   "cell_type": "code",
   "execution_count": 45,
   "id": "f1f612f0-1e06-410d-8167-a6efc34c4fcd",
   "metadata": {},
   "outputs": [
    {
     "data": {
      "text/plain": [
       "4.666666666666667"
      ]
     },
     "execution_count": 45,
     "metadata": {},
     "output_type": "execute_result"
    }
   ],
   "source": [
    "np.mean(A2)"
   ]
  },
  {
   "cell_type": "code",
   "execution_count": 46,
   "id": "887cad4d-3bc7-4cf0-b286-15def81a6441",
   "metadata": {},
   "outputs": [
    {
     "data": {
      "text/plain": [
       "array([3.66666667, 4.66666667, 5.66666667])"
      ]
     },
     "execution_count": 46,
     "metadata": {},
     "output_type": "execute_result"
    }
   ],
   "source": [
    "A2.mean(axis = 0)"
   ]
  },
  {
   "cell_type": "code",
   "execution_count": 47,
   "id": "12841d76-dce0-4248-8836-e76af9c3d983",
   "metadata": {},
   "outputs": [
    {
     "data": {
      "text/plain": [
       "array([2., 5., 7.])"
      ]
     },
     "execution_count": 47,
     "metadata": {},
     "output_type": "execute_result"
    }
   ],
   "source": [
    "A2.mean(axis = 1)"
   ]
  },
  {
   "cell_type": "code",
   "execution_count": 48,
   "id": "35fb1d5a-bc7f-41bd-af58-69cb527180ad",
   "metadata": {},
   "outputs": [
    {
     "data": {
      "text/html": [
       "<div>\n",
       "<style scoped>\n",
       "    .dataframe tbody tr th:only-of-type {\n",
       "        vertical-align: middle;\n",
       "    }\n",
       "\n",
       "    .dataframe tbody tr th {\n",
       "        vertical-align: top;\n",
       "    }\n",
       "\n",
       "    .dataframe thead th {\n",
       "        text-align: right;\n",
       "    }\n",
       "</style>\n",
       "<table border=\"1\" class=\"dataframe\">\n",
       "  <thead>\n",
       "    <tr style=\"text-align: right;\">\n",
       "      <th></th>\n",
       "      <th>carat</th>\n",
       "      <th>cut</th>\n",
       "      <th>color</th>\n",
       "      <th>clarity</th>\n",
       "      <th>depth</th>\n",
       "      <th>table</th>\n",
       "      <th>price</th>\n",
       "      <th>x</th>\n",
       "      <th>y</th>\n",
       "      <th>z</th>\n",
       "    </tr>\n",
       "  </thead>\n",
       "  <tbody>\n",
       "    <tr>\n",
       "      <th>0</th>\n",
       "      <td>0.23</td>\n",
       "      <td>Ideal</td>\n",
       "      <td>E</td>\n",
       "      <td>SI2</td>\n",
       "      <td>61.5</td>\n",
       "      <td>55.0</td>\n",
       "      <td>326</td>\n",
       "      <td>3.95</td>\n",
       "      <td>3.98</td>\n",
       "      <td>2.43</td>\n",
       "    </tr>\n",
       "    <tr>\n",
       "      <th>1</th>\n",
       "      <td>0.21</td>\n",
       "      <td>Premium</td>\n",
       "      <td>E</td>\n",
       "      <td>SI1</td>\n",
       "      <td>59.8</td>\n",
       "      <td>61.0</td>\n",
       "      <td>326</td>\n",
       "      <td>3.89</td>\n",
       "      <td>3.84</td>\n",
       "      <td>2.31</td>\n",
       "    </tr>\n",
       "    <tr>\n",
       "      <th>2</th>\n",
       "      <td>0.23</td>\n",
       "      <td>Good</td>\n",
       "      <td>E</td>\n",
       "      <td>VS1</td>\n",
       "      <td>56.9</td>\n",
       "      <td>65.0</td>\n",
       "      <td>327</td>\n",
       "      <td>4.05</td>\n",
       "      <td>4.07</td>\n",
       "      <td>2.31</td>\n",
       "    </tr>\n",
       "    <tr>\n",
       "      <th>3</th>\n",
       "      <td>0.29</td>\n",
       "      <td>Premium</td>\n",
       "      <td>I</td>\n",
       "      <td>VS2</td>\n",
       "      <td>62.4</td>\n",
       "      <td>58.0</td>\n",
       "      <td>334</td>\n",
       "      <td>4.20</td>\n",
       "      <td>4.23</td>\n",
       "      <td>2.63</td>\n",
       "    </tr>\n",
       "    <tr>\n",
       "      <th>4</th>\n",
       "      <td>0.31</td>\n",
       "      <td>Good</td>\n",
       "      <td>J</td>\n",
       "      <td>SI2</td>\n",
       "      <td>63.3</td>\n",
       "      <td>58.0</td>\n",
       "      <td>335</td>\n",
       "      <td>4.34</td>\n",
       "      <td>4.35</td>\n",
       "      <td>2.75</td>\n",
       "    </tr>\n",
       "  </tbody>\n",
       "</table>\n",
       "</div>"
      ],
      "text/plain": [
       "   carat      cut color clarity  depth  table  price     x     y     z\n",
       "0   0.23    Ideal     E     SI2   61.5   55.0    326  3.95  3.98  2.43\n",
       "1   0.21  Premium     E     SI1   59.8   61.0    326  3.89  3.84  2.31\n",
       "2   0.23     Good     E     VS1   56.9   65.0    327  4.05  4.07  2.31\n",
       "3   0.29  Premium     I     VS2   62.4   58.0    334  4.20  4.23  2.63\n",
       "4   0.31     Good     J     SI2   63.3   58.0    335  4.34  4.35  2.75"
      ]
     },
     "execution_count": 48,
     "metadata": {},
     "output_type": "execute_result"
    }
   ],
   "source": [
    "import pandas as pd\n",
    "\n",
    "dia_df =  pd.read_csv('https://raw.githubusercontent.com/kznetwork/DataAnalysis/main/datasets/diamonds.csv')\n",
    "dia_df.head()"
   ]
  },
  {
   "cell_type": "code",
   "execution_count": 49,
   "id": "57476f79-fa15-4202-b4ee-b54a3195563d",
   "metadata": {},
   "outputs": [
    {
     "data": {
      "text/plain": [
       "4.81"
      ]
     },
     "execution_count": 49,
     "metadata": {},
     "output_type": "execute_result"
    }
   ],
   "source": [
    "dia_df[\"carat\"].max() - dia_df[\"carat\"].min()"
   ]
  },
  {
   "cell_type": "code",
   "execution_count": 50,
   "id": "51246cbb-ee38-42de-b5b0-389fbd5b8b84",
   "metadata": {},
   "outputs": [
    {
     "data": {
      "text/plain": [
       "4.81"
      ]
     },
     "execution_count": 50,
     "metadata": {},
     "output_type": "execute_result"
    }
   ],
   "source": [
    "dia_df[\"carat\"].agg(lambda x: x.max() - x.min())"
   ]
  },
  {
   "cell_type": "code",
   "execution_count": 51,
   "id": "78b59a16-bc2c-4497-8aac-5600d1479373",
   "metadata": {},
   "outputs": [
    {
     "data": {
      "text/plain": [
       "0.64"
      ]
     },
     "execution_count": 51,
     "metadata": {},
     "output_type": "execute_result"
    }
   ],
   "source": [
    "dia_df[\"carat\"].quantile(q = 0.75) - dia_df[\"carat\"].quantile(q = 0.25)"
   ]
  },
  {
   "cell_type": "code",
   "execution_count": 52,
   "id": "18238ad1-4434-4170-9db1-f8c4d2af6ad3",
   "metadata": {},
   "outputs": [
    {
     "data": {
      "text/plain": [
       "0.64"
      ]
     },
     "execution_count": 52,
     "metadata": {},
     "output_type": "execute_result"
    }
   ],
   "source": [
    "dia_df[\"carat\"].agg(lambda x: x.quantile(0.75) - x.quantile(0.25))"
   ]
  },
  {
   "cell_type": "code",
   "execution_count": 53,
   "id": "f2c7e26c-34a7-4bd9-a3be-b68371d5c1d7",
   "metadata": {},
   "outputs": [
    {
     "data": {
      "text/plain": [
       "0.25     NaN\n",
       "0.75    0.64\n",
       "Name: carat, dtype: float64"
      ]
     },
     "execution_count": 53,
     "metadata": {},
     "output_type": "execute_result"
    }
   ],
   "source": [
    "dia_df[\"carat\"].quantile([0.25, 0.75]).diff()"
   ]
  },
  {
   "cell_type": "code",
   "execution_count": 54,
   "id": "95fe833f-35a6-49c5-857e-bf8d3f36e83f",
   "metadata": {},
   "outputs": [
    {
     "data": {
      "text/plain": [
       "0.09192307692307691"
      ]
     },
     "execution_count": 54,
     "metadata": {},
     "output_type": "execute_result"
    }
   ],
   "source": [
    "0.239 / 2.6"
   ]
  },
  {
   "cell_type": "code",
   "execution_count": 55,
   "id": "62ffb27e-104d-4a3d-abd8-2de57ec2b181",
   "metadata": {},
   "outputs": [
    {
     "data": {
      "text/plain": [
       "0.09192307692307693"
      ]
     },
     "execution_count": 55,
     "metadata": {},
     "output_type": "execute_result"
    }
   ],
   "source": [
    "2.39 / 26"
   ]
  },
  {
   "cell_type": "code",
   "execution_count": 56,
   "id": "10d742ae-9154-4d46-96e1-5ad6b277589c",
   "metadata": {},
   "outputs": [
    {
     "data": {
      "text/plain": [
       "carat       0.474011\n",
       "depth       1.432621\n",
       "table       2.234491\n",
       "price    3989.439738\n",
       "x           1.121761\n",
       "y           1.142135\n",
       "z           0.705699\n",
       "dtype: float64"
      ]
     },
     "metadata": {},
     "output_type": "display_data"
    },
    {
     "data": {
      "text/plain": [
       "carat     59.404391\n",
       "depth      2.320057\n",
       "table      3.888966\n",
       "price    101.440196\n",
       "x         19.573023\n",
       "y         19.916811\n",
       "z         19.942129\n",
       "dtype: float64"
      ]
     },
     "metadata": {},
     "output_type": "display_data"
    }
   ],
   "source": [
    "df_num = dia_df.select_dtypes(include = \"number\")\n",
    "\n",
    "display(df_num.std())\n",
    "display(df_num.apply(lambda x: x.std() / x.mean() * 100))"
   ]
  },
  {
   "cell_type": "code",
   "execution_count": 57,
   "id": "9ec6ce15-f301-414b-9bd1-175aa1e09f4b",
   "metadata": {},
   "outputs": [
    {
     "data": {
      "text/plain": [
       "1.1791140969556215"
      ]
     },
     "metadata": {},
     "output_type": "display_data"
    },
    {
     "data": {
      "text/plain": [
       "0.6866918373483912"
      ]
     },
     "metadata": {},
     "output_type": "display_data"
    },
    {
     "data": {
      "text/plain": [
       "0.6866918373483912"
      ]
     },
     "metadata": {},
     "output_type": "display_data"
    }
   ],
   "source": [
    "import pandas as pd\n",
    "\n",
    "ser = pd.Series([1, 5, 2, 7, 2, 3, 3, 10])\n",
    "\n",
    "display(ser.skew())\n",
    "display(ser.kurt(), ser.kurtosis())"
   ]
  },
  {
   "cell_type": "code",
   "execution_count": 58,
   "id": "c3f17816-9023-4de7-9f9a-c7ed83364bec",
   "metadata": {},
   "outputs": [
    {
     "data": {
      "text/plain": [
       "0.9453944937264186"
      ]
     },
     "metadata": {},
     "output_type": "display_data"
    },
    {
     "data": {
      "text/plain": [
       "-0.3396705536436233"
      ]
     },
     "metadata": {},
     "output_type": "display_data"
    },
    {
     "data": {
      "text/plain": [
       "1.1791140969556215"
      ]
     },
     "metadata": {},
     "output_type": "display_data"
    },
    {
     "data": {
      "text/plain": [
       "0.6866918373483912"
      ]
     },
     "metadata": {},
     "output_type": "display_data"
    }
   ],
   "source": [
    "import numpy as np\n",
    "from scipy.stats import skew\n",
    "from scipy.stats import kurtosis\n",
    "\n",
    "A = np.array([1, 5, 2, 7, 2, 3, 3, 10])\n",
    "\n",
    "display(skew(A))\n",
    "display(kurtosis(A))\n",
    "display(skew(A, bias = False))\n",
    "display(kurtosis(A, bias = False))"
   ]
  },
  {
   "cell_type": "markdown",
   "id": "a2b69c2a-d937-47c0-b96b-3506a7c8f72c",
   "metadata": {},
   "source": [
    "# probability와 \"probability distribution"
   ]
  },
  {
   "cell_type": "code",
   "execution_count": 59,
   "id": "dc54a6c1-f0c4-4054-9af9-70089c6b353c",
   "metadata": {},
   "outputs": [],
   "source": [
    "import numpy as np\n",
    "import pandas as pd\n",
    "import matplotlib.pyplot as plt\n",
    "\n",
    "%precision 3\n",
    "%matplotlib inline"
   ]
  },
  {
   "cell_type": "code",
   "execution_count": 60,
   "id": "a7a2611d-b0f6-410f-83c4-8461fbd63667",
   "metadata": {},
   "outputs": [
    {
     "data": {
      "text/plain": [
       "array([1, 2, 1])"
      ]
     },
     "metadata": {},
     "output_type": "display_data"
    },
    {
     "data": {
      "text/plain": [
       "array([1, 3, 2])"
      ]
     },
     "metadata": {},
     "output_type": "display_data"
    },
    {
     "data": {
      "text/plain": [
       "70.400"
      ]
     },
     "metadata": {},
     "output_type": "display_data"
    },
    {
     "data": {
      "text/plain": [
       "69.530"
      ]
     },
     "metadata": {},
     "output_type": "display_data"
    },
    {
     "name": "stdout",
     "output_type": "stream",
     "text": [
      "1번째 무작위 추출로 얻은 표본평균 72.45\n",
      "2번째 무작위 추출로 얻은 표본평균 63.7\n",
      "3번째 무작위 추출로 얻은 표본평균 66.05\n",
      "4번째 무작위 추출로 얻은 표본평균 71.7\n",
      "5번째 무작위 추출로 얻은 표본평균 74.15\n"
     ]
    }
   ],
   "source": [
    "np.random.seed(0)\n",
    "\n",
    "display(np.random.choice([1, 2, 3], 3))\n",
    "display(np.random.choice([1, 2, 3], 3, replace=False))\n",
    "\n",
    "np.random.seed(0)\n",
    "\n",
    "df = pd.read_csv('./datasets/scores400.csv')\n",
    "scores = np.array(df['score'])\n",
    "scores[:10]\n",
    "\n",
    "sample = np.random.choice(scores, 20)\n",
    "\n",
    "display(sample.mean())\n",
    "\n",
    "display(scores.mean())\n",
    "\n",
    "for i in range(5):\n",
    "    sample = np.random.choice(scores, 20)\n",
    "    print(f'{i+1}번째 무작위 추출로 얻은 표본평균', sample.mean())"
   ]
  },
  {
   "cell_type": "markdown",
   "id": "c501f445-16c0-42f2-80fd-4a2b5f6e467b",
   "metadata": {},
   "source": [
    "## Q \n",
    "np.random.choice() 함수를 사용하여 NumPy 배열에서 1, 2, 3 중에서 중복을 허용하고 또 중복을 허용하지 않고 3번 선택합니다.\n"
   ]
  },
  {
   "cell_type": "code",
   "execution_count": 61,
   "id": "a61447c9-aa91-4f30-a556-c30e41ae6b14",
   "metadata": {},
   "outputs": [
    {
     "data": {
      "text/plain": [
       "array([1, 3, 3])"
      ]
     },
     "metadata": {},
     "output_type": "display_data"
    },
    {
     "data": {
      "text/plain": [
       "array([1, 2, 3])"
      ]
     },
     "metadata": {},
     "output_type": "display_data"
    }
   ],
   "source": [
    "import numpy as np\n",
    "display(np.random.choice([1, 2, 3], 3))\n",
    "\n",
    "display(np.random.choice([1, 2, 3], 3, replace=False))"
   ]
  },
  {
   "cell_type": "markdown",
   "id": "b58d6912-fdad-4818-a3ae-55d0b2bdf8a9",
   "metadata": {},
   "source": [
    "## Q\n",
    "데이터 파일 'scores400.csv'에서 데이터를 읽어와서 NumPy 배열로 변환하고, np.random.choice() 함수를 사용하여 중복을 허용하고 또 중복을 허용하지 않고 3번 선택합니다.\n"
   ]
  },
  {
   "cell_type": "code",
   "execution_count": 62,
   "id": "715de971-ac1f-493a-bdca-e37885f97f26",
   "metadata": {},
   "outputs": [
    {
     "data": {
      "text/html": [
       "<div>\n",
       "<style scoped>\n",
       "    .dataframe tbody tr th:only-of-type {\n",
       "        vertical-align: middle;\n",
       "    }\n",
       "\n",
       "    .dataframe tbody tr th {\n",
       "        vertical-align: top;\n",
       "    }\n",
       "\n",
       "    .dataframe thead th {\n",
       "        text-align: right;\n",
       "    }\n",
       "</style>\n",
       "<table border=\"1\" class=\"dataframe\">\n",
       "  <thead>\n",
       "    <tr style=\"text-align: right;\">\n",
       "      <th></th>\n",
       "      <th>score</th>\n",
       "    </tr>\n",
       "  </thead>\n",
       "  <tbody>\n",
       "    <tr>\n",
       "      <th>0</th>\n",
       "      <td>76</td>\n",
       "    </tr>\n",
       "    <tr>\n",
       "      <th>1</th>\n",
       "      <td>55</td>\n",
       "    </tr>\n",
       "    <tr>\n",
       "      <th>2</th>\n",
       "      <td>80</td>\n",
       "    </tr>\n",
       "    <tr>\n",
       "      <th>3</th>\n",
       "      <td>80</td>\n",
       "    </tr>\n",
       "    <tr>\n",
       "      <th>4</th>\n",
       "      <td>74</td>\n",
       "    </tr>\n",
       "    <tr>\n",
       "      <th>...</th>\n",
       "      <td>...</td>\n",
       "    </tr>\n",
       "    <tr>\n",
       "      <th>395</th>\n",
       "      <td>77</td>\n",
       "    </tr>\n",
       "    <tr>\n",
       "      <th>396</th>\n",
       "      <td>60</td>\n",
       "    </tr>\n",
       "    <tr>\n",
       "      <th>397</th>\n",
       "      <td>83</td>\n",
       "    </tr>\n",
       "    <tr>\n",
       "      <th>398</th>\n",
       "      <td>80</td>\n",
       "    </tr>\n",
       "    <tr>\n",
       "      <th>399</th>\n",
       "      <td>85</td>\n",
       "    </tr>\n",
       "  </tbody>\n",
       "</table>\n",
       "<p>400 rows × 1 columns</p>\n",
       "</div>"
      ],
      "text/plain": [
       "     score\n",
       "0       76\n",
       "1       55\n",
       "2       80\n",
       "3       80\n",
       "4       74\n",
       "..     ...\n",
       "395     77\n",
       "396     60\n",
       "397     83\n",
       "398     80\n",
       "399     85\n",
       "\n",
       "[400 rows x 1 columns]"
      ]
     },
     "execution_count": 62,
     "metadata": {},
     "output_type": "execute_result"
    }
   ],
   "source": [
    "import numpy as np\n",
    "import pandas as pd\n",
    "import matplotlib.pyplot as plt\n",
    "\n",
    "%precision 3\n",
    "%matplotlib inline\n",
    "\n",
    "df = pd.read_csv('https://raw.githubusercontent.com/kznetwork/DataAnalysis/main/datasets/scores400.csv')\n",
    "df"
   ]
  },
  {
   "cell_type": "code",
   "execution_count": 63,
   "id": "89519e91-0186-4f22-874e-cec1341cda98",
   "metadata": {},
   "outputs": [
    {
     "data": {
      "text/plain": [
       "array([76, 55, 80, 80, 74, 61, 81, 76, 23, 80], dtype=int64)"
      ]
     },
     "metadata": {},
     "output_type": "display_data"
    }
   ],
   "source": [
    "scores = np.array(df['score'])\n",
    "display(scores[:10])"
   ]
  },
  {
   "cell_type": "code",
   "execution_count": 64,
   "id": "8e51bcba-f1b5-4900-856e-5572740d1e36",
   "metadata": {},
   "outputs": [
    {
     "name": "stdout",
     "output_type": "stream",
     "text": [
      "복원 추출 (With Replacement): [90 96 66 65 63 78 42 58 70 74]\n",
      "비복원 추출 (Without Replacement): [83 89 66 49 99 86 63 75 57 55]\n"
     ]
    }
   ],
   "source": [
    "# 복원 추출 (With Replacement)\n",
    "sample_with_replacement = np.random.choice(scores, 10, replace=True)\n",
    "print(\"복원 추출 (With Replacement):\", sample_with_replacement)\n",
    "\n",
    "# 비복원 추출 (Without Replacement)\n",
    "sample_without_replacement = np.random.choice(scores, 10, replace=False)\n",
    "print(\"비복원 추출 (Without Replacement):\", sample_without_replacement)"
   ]
  },
  {
   "cell_type": "markdown",
   "id": "61da2032-2261-4906-886a-caceee6824fd",
   "metadata": {},
   "source": [
    "## Q 다음 세 집합 A,B,C에 대해 합집합과 교집합의 분배 법칙이 성립하는지 파이썬 코드로 증명하라."
   ]
  },
  {
   "cell_type": "code",
   "execution_count": 65,
   "id": "7ec9e679-4e94-473f-a4a5-9edb33a123e3",
   "metadata": {},
   "outputs": [],
   "source": [
    "A = set([1,3,5])\n",
    "B = set([1,2,3])\n",
    "C = set([2,4,6])"
   ]
  },
  {
   "cell_type": "code",
   "execution_count": 66,
   "id": "2d076a30-940c-4516-b861-a3f1254c7423",
   "metadata": {},
   "outputs": [
    {
     "data": {
      "text/plain": [
       "True"
      ]
     },
     "execution_count": 66,
     "metadata": {},
     "output_type": "execute_result"
    }
   ],
   "source": [
    "A | ( B & C) == (A | B) & (A | C)"
   ]
  },
  {
   "cell_type": "code",
   "execution_count": 67,
   "id": "fdbbfa9c-4ebd-44cd-84f0-ff1fa272f902",
   "metadata": {},
   "outputs": [
    {
     "data": {
      "text/plain": [
       "True"
      ]
     },
     "execution_count": 67,
     "metadata": {},
     "output_type": "execute_result"
    }
   ],
   "source": [
    "A & ( B | C) == (A & B) | (A & C)"
   ]
  },
  {
   "cell_type": "markdown",
   "id": "c5216fff-f73a-4111-aea8-bf4222be76ae",
   "metadata": {},
   "source": [
    "# Q 사과와 오렌지만 파는 과일가게에 과일이 100개가 진열되어 있고 이 중 70개가 사과, 30개가 오렌지이다. 손님이 선택한 과일이 어떤 과일인지 결정하는 문제에 대해 확률을 할당해보자. \n"
   ]
  },
  {
   "cell_type": "code",
   "execution_count": 68,
   "id": "cd9ced3b-5f49-4d65-923c-422b7e36b760",
   "metadata": {},
   "outputs": [
    {
     "data": {
      "text/plain": [
       "{frozenset({'A'}): 0.700, frozenset({'O'}): 0.429}"
      ]
     },
     "execution_count": 68,
     "metadata": {},
     "output_type": "execute_result"
    }
   ],
   "source": [
    "P = {}\n",
    "P[frozenset('A')] = 70 / 100\n",
    "P[frozenset('O')] =  30 / 70\n",
    "P"
   ]
  },
  {
   "cell_type": "markdown",
   "id": "6361d51a-b6c8-4bc3-8f44-5b9a03b2a066",
   "metadata": {},
   "source": [
    "# Question 3\n",
    "제약사에서 환자가 특정한 병에 결린지 확인하는 시약을 만들었다. 그 병에 걸린 환자에게 시약을 테스트한 결과 99% 확률로 양성 반응을 보였다. 병에 걸린지 확인이 되지 않은 어떤 환자가 이 시약을 테스트한 결과 양성 반응을 보였다면 이 환자가 그 병에 걸려 있을 확률은 얼마인가? 99%일까?\n",
    "이 병은 전체 인구 중 걸린 사람이 0.2%인 희귀병이다.\n",
    "이 병에 걸리지 않은 사람에게 시약 검사를 했을 때, 양성 반응 즉 잘못된 결과가 나타난 확률이 5%이다."
   ]
  },
  {
   "cell_type": "code",
   "execution_count": 69,
   "id": "556ae165-429a-4371-a74c-c8302379f23a",
   "metadata": {},
   "outputs": [
    {
     "name": "stdout",
     "output_type": "stream",
     "text": [
      "+------+-------+\n",
      "| X(0) | 0.998 |\n",
      "+------+-------+\n",
      "| X(1) | 0.002 |\n",
      "+------+-------+\n"
     ]
    }
   ],
   "source": [
    "from pgmpy.factors.discrete import TabularCPD\n",
    "import numpy as np\n",
    "\n",
    "# 정정된 조건부 확률 분포 값을 정의합니다.\n",
    "values = np.array([[1 - 0.002], [0.002]])\n",
    "\n",
    "# TabularCPD 객체를 수정된 값으로 생성합니다.\n",
    "cpd_X = TabularCPD('X', 2, values.tolist())\n",
    "print(cpd_X)"
   ]
  },
  {
   "cell_type": "code",
   "execution_count": 70,
   "id": "48e7e4a2-9ca1-4091-9662-c098b533be11",
   "metadata": {},
   "outputs": [
    {
     "name": "stdout",
     "output_type": "stream",
     "text": [
      "+------+------+------+\n",
      "| X    | X(0) | X(1) |\n",
      "+------+------+------+\n",
      "| Y(0) | 0.95 | 0.01 |\n",
      "+------+------+------+\n",
      "| Y(1) | 0.05 | 0.99 |\n",
      "+------+------+------+\n"
     ]
    }
   ],
   "source": [
    "cpd_Y_on_X = TabularCPD('Y', 2, np.array([[0.95, 0.01], [0.05, 0.99]]),\n",
    "                        evidence=['X'], evidence_card=[2])\n",
    "print(cpd_Y_on_X)"
   ]
  },
  {
   "cell_type": "code",
   "execution_count": 71,
   "id": "bfa35405-3bd7-4b63-9b1c-7b26c3602d30",
   "metadata": {},
   "outputs": [
    {
     "name": "stderr",
     "output_type": "stream",
     "text": [
      "c:\\DEV\\adspenv\\lib\\site-packages\\tqdm\\auto.py:21: TqdmWarning: IProgress not found. Please update jupyter and ipywidgets. See https://ipywidgets.readthedocs.io/en/stable/user_install.html\n",
      "  from .autonotebook import tqdm as notebook_tqdm\n",
      "WARNING:pgmpy:BayesianModel has been renamed to BayesianNetwork. Please use BayesianNetwork class, BayesianModel will be removed in future.\n"
     ]
    },
    {
     "data": {
      "text/plain": [
       "True"
      ]
     },
     "execution_count": 71,
     "metadata": {},
     "output_type": "execute_result"
    }
   ],
   "source": [
    "from pgmpy.models import BayesianModel\n",
    "\n",
    "model = BayesianModel([('X', 'Y')])\n",
    "model.add_cpds(cpd_X, cpd_Y_on_X)\n",
    "model.check_model()"
   ]
  },
  {
   "cell_type": "code",
   "execution_count": 72,
   "id": "e05fc768-2fa6-49ab-9b39-e52cc5aeeac7",
   "metadata": {},
   "outputs": [
    {
     "name": "stderr",
     "output_type": "stream",
     "text": [
      "WARNING:pgmpy:BayesianModel has been renamed to BayesianNetwork. Please use BayesianNetwork class, BayesianModel will be removed in future.\n",
      "WARNING:pgmpy:BayesianModel has been renamed to BayesianNetwork. Please use BayesianNetwork class, BayesianModel will be removed in future.\n"
     ]
    },
    {
     "name": "stdout",
     "output_type": "stream",
     "text": [
      "[0.962 0.038]\n"
     ]
    }
   ],
   "source": [
    "from pgmpy.inference import VariableElimination\n",
    "\n",
    "# 'model'에는 Bayesian Network 모델이 정의되어 있어야 합니다.\n",
    "\n",
    "inference = VariableElimination(model)\n",
    "posterior = inference.query(['X'], evidence={'Y': 1})\n",
    "print(posterior.values)"
   ]
  },
  {
   "cell_type": "markdown",
   "id": "9200a923-678f-4140-b034-f467df8abb3d",
   "metadata": {},
   "source": [
    "# Q 베루누이 확률분포의 모수가 표본 개수 10개인 경우와 1000개인 경우, 각각 표본을 생성한 후 기댓값과 분산을 구하고 확률 밀도 함수와 바 플롯을 그린다.\n",
    "\n",
    "𝝁=𝟎.𝟓\n",
    "𝝁=𝟎.9\n"
   ]
  },
  {
   "cell_type": "code",
   "execution_count": 73,
   "id": "6e422b20-2911-4495-b839-69c6132fb84f",
   "metadata": {},
   "outputs": [],
   "source": [
    "import matplotlib.pyplot as plt\n",
    "import matplotlib\n",
    "matplotlib.rcParams['font.family'] = 'Malgun Gothic' # Windows\n",
    "# matplotlib.rcParams['font.family'] = 'AppleGothic' # Mac\n",
    "matplotlib.rcParams['font.size'] = 8 # 글자 크기\n",
    "matplotlib.rcParams['axes.unicode_minus'] = False # 한글 폰트 사용 시, 마이너스 글자가 깨지는 현상을 해결"
   ]
  },
  {
   "cell_type": "code",
   "execution_count": 74,
   "id": "461a04af-b3e7-4cd3-8cc2-c80d8cb2773a",
   "metadata": {},
   "outputs": [],
   "source": [
    "def plot_bernoulli(mu, M):\n",
    "    rv = bernoulli(mu)\n",
    "    x = rv.rvs(M, random_state=0)\n",
    "    y = np.bincount(x, minlength=2) / float(len(x))\n",
    "    xx = [0,1]\n",
    "    df = pd.DataFrame({'이론':rv.pmf(xx), '시뮬레이션': y})\n",
    "    df.index =[0,1]\n",
    "    df2 = df.stack().reset_index()\n",
    "    df2.columns = ['표본값', '유형', '비율']\n",
    "    sns.barplot(x='표본값', y='비율', hue='유형', data=df2)\n",
    "    plt.title('$\\mu$={}, 표본계수={}'.format(mu, M))"
   ]
  },
  {
   "cell_type": "code",
   "execution_count": 75,
   "id": "cc8fd78e-72a3-45b3-b7e4-bf418ce403c2",
   "metadata": {},
   "outputs": [
    {
     "name": "stderr",
     "output_type": "stream",
     "text": [
      "INFO:matplotlib.category:Using categorical units to plot a list of strings that are all parsable as floats or dates. If these strings should be plotted as numbers, cast to the appropriate data type before plotting.\n",
      "INFO:matplotlib.category:Using categorical units to plot a list of strings that are all parsable as floats or dates. If these strings should be plotted as numbers, cast to the appropriate data type before plotting.\n",
      "INFO:matplotlib.category:Using categorical units to plot a list of strings that are all parsable as floats or dates. If these strings should be plotted as numbers, cast to the appropriate data type before plotting.\n",
      "INFO:matplotlib.category:Using categorical units to plot a list of strings that are all parsable as floats or dates. If these strings should be plotted as numbers, cast to the appropriate data type before plotting.\n",
      "INFO:matplotlib.category:Using categorical units to plot a list of strings that are all parsable as floats or dates. If these strings should be plotted as numbers, cast to the appropriate data type before plotting.\n",
      "INFO:matplotlib.category:Using categorical units to plot a list of strings that are all parsable as floats or dates. If these strings should be plotted as numbers, cast to the appropriate data type before plotting.\n",
      "INFO:matplotlib.category:Using categorical units to plot a list of strings that are all parsable as floats or dates. If these strings should be plotted as numbers, cast to the appropriate data type before plotting.\n",
      "INFO:matplotlib.category:Using categorical units to plot a list of strings that are all parsable as floats or dates. If these strings should be plotted as numbers, cast to the appropriate data type before plotting.\n"
     ]
    },
    {
     "data": {
      "image/png": "[encoded data removed]",
      "text/plain": [
       "<Figure size 640x480 with 4 Axes>"
      ]
     },
     "metadata": {},
     "output_type": "display_data"
    }
   ],
   "source": [
    "import matplotlib.pyplot as plt\n",
    "import seaborn as sns\n",
    "import numpy as np\n",
    "import pandas as pd\n",
    "from scipy.stats import bernoulli\n",
    "\n",
    "plt.subplot(221)\n",
    "plot_bernoulli(0.5, 10)\n",
    "plt.subplot(222)\n",
    "plot_bernoulli(0.5, 1000)\n",
    "plt.subplot(223)\n",
    "plot_bernoulli(0.9, 10)\n",
    "plt.subplot(224)\n",
    "plot_bernoulli(0.9, 1000)\n",
    "plt.tight_layout()\n",
    "plt.show()"
   ]
  },
  {
   "cell_type": "markdown",
   "id": "bb40add4-8786-488b-9785-3b6dc4fedcdd",
   "metadata": {},
   "source": [
    "# Q N이 10일 때와 1000일 때, 정규분포에서 나온 표본의 제곱합이 이루는 분포를 구하고 히스토그램으로 나타내라.\n"
   ]
  },
  {
   "cell_type": "code",
   "execution_count": 76,
   "id": "fd904e20-a926-44cb-a7a0-1a22ce69cb54",
   "metadata": {},
   "outputs": [
    {
     "name": "stderr",
     "output_type": "stream",
     "text": [
      "C:\\Users\\k8s\\AppData\\Local\\Temp\\ipykernel_6976\\3954904040.py:18: UserWarning: \n",
      "\n",
      "`distplot` is a deprecated function and will be removed in seaborn v0.14.0.\n",
      "\n",
      "Please adapt your code to use either `displot` (a figure-level function with\n",
      "similar flexibility) or `histplot` (an axes-level function for histograms).\n",
      "\n",
      "For a guide to updating your code to use the new functions, please see\n",
      "https://gist.github.com/mwaskom/de44147ed2974457ad6372750bbe5751\n",
      "\n",
      "  sns.distplot(t, kde=False)\n",
      "C:\\Users\\k8s\\AppData\\Local\\Temp\\ipykernel_6976\\3954904040.py:27: UserWarning: \n",
      "\n",
      "`distplot` is a deprecated function and will be removed in seaborn v0.14.0.\n",
      "\n",
      "Please adapt your code to use either `displot` (a figure-level function with\n",
      "similar flexibility) or `histplot` (an axes-level function for histograms).\n",
      "\n",
      "For a guide to updating your code to use the new functions, please see\n",
      "https://gist.github.com/mwaskom/de44147ed2974457ad6372750bbe5751\n",
      "\n",
      "  sns.distplot(t, kde=False)\n"
     ]
    },
    {
     "data": {
      "image/png": "[encoded data removed]",
      "text/plain": [
       "<Figure size 800x400 with 2 Axes>"
      ]
     },
     "metadata": {},
     "output_type": "display_data"
    }
   ],
   "source": [
    "import matplotlib.pyplot as plt\n",
    "import seaborn as sns\n",
    "import numpy as np\n",
    "import scipy.stats as sp\n",
    "\n",
    "# np.random.seed(0)으로 수정\n",
    "np.random.seed(0)\n",
    "\n",
    "rv = sp.norm()\n",
    "M = 2000\n",
    "\n",
    "plt.figure(figsize=(8, 4))\n",
    "\n",
    "plt.subplot(1, 2, 1)\n",
    "N = 10\n",
    "x = rv.rvs((N, M))\n",
    "t = (x ** 2).sum(axis=0)\n",
    "sns.distplot(t, kde=False)\n",
    "plt.title(\"제곱합의 분포 (N = 10)\")\n",
    "plt.xlabel(\"표본값\")\n",
    "plt.ylabel(\"갯수\")\n",
    "\n",
    "plt.subplot(1, 2, 2)\n",
    "N = 1000\n",
    "x = rv.rvs((N, M))\n",
    "t = (x ** 2).sum(axis=0)\n",
    "sns.distplot(t, kde=False)\n",
    "plt.title(\"제곱합의 분포 (N = 1000)\")\n",
    "plt.xlabel(\"표본값\")\n",
    "\n",
    "plt.show()"
   ]
  },
  {
   "cell_type": "markdown",
   "id": "76657ad4-7b8a-47e1-9448-98188556270d",
   "metadata": {},
   "source": [
    "# Q\n",
    "자유도 N이 2일 때와 30일 때, 스튜던트 t분포에서 나온 값의 제곱이 이루는 분포를 시뮬레이션으로 구하고 그 히스토그램을 (1,N)-자유도의 F분포와 비교하라.\n"
   ]
  },
  {
   "cell_type": "code",
   "execution_count": 77,
   "id": "6ea7fa30-4a86-4462-8c85-4638e4bc1518",
   "metadata": {},
   "outputs": [
    {
     "data": {
      "image/png": "[encoded data removed]",
      "text/plain": [
       "<Figure size 800x800 with 1 Axes>"
      ]
     },
     "metadata": {},
     "output_type": "display_data"
    },
    {
     "data": {
      "image/png": "[encoded data removed]",
      "text/plain": [
       "<Figure size 640x480 with 1 Axes>"
      ]
     },
     "metadata": {},
     "output_type": "display_data"
    },
    {
     "data": {
      "text/plain": [
       "<Figure size 640x480 with 0 Axes>"
      ]
     },
     "metadata": {},
     "output_type": "display_data"
    }
   ],
   "source": [
    "import matplotlib.pyplot as plt\n",
    "import seaborn as sns\n",
    "import numpy as np\n",
    "from scipy.stats import t, f\n",
    "\n",
    "def plot_t_f(N):\n",
    "    np.random.seed(0)\n",
    "    t2 = t(df=N).rvs(1000) ** 2\n",
    "    f_value = f(1, N).rvs(1000)\n",
    "    plt.hist(t2, bins=50, range=(0, 10), rwidth=0.5, align='left', color='k', label='$t^2$')\n",
    "    plt.hist(f_value, bins=50, range=(0, 10), rwidth=0.5, align='mid', color='g', label='$F$')\n",
    "    plt.xlim(0.5)\n",
    "    plt.legend()\n",
    "    plt.title('N={}인 경우'.format(N))\n",
    "    plt.show()\n",
    "\n",
    "plt.figure(figsize=(8, 8))\n",
    "\n",
    "plt.subplot(211)\n",
    "plot_t_f(2)\n",
    "\n",
    "plt.subplot(212)\n",
    "plot_t_f(30)\n",
    "\n",
    "plt.tight_layout()  # 그래프 간격 조정\n",
    "plt.show()\n"
   ]
  },
  {
   "cell_type": "code",
   "execution_count": null,
   "id": "d34875ac-7d53-43eb-9228-54c9cb3eb7ba",
   "metadata": {},
   "outputs": [],
   "source": []
  },
  {
   "cell_type": "code",
   "execution_count": null,
   "id": "edcefcbe-2fbd-455b-bcc4-0ac61fae8a1e",
   "metadata": {},
   "outputs": [],
   "source": []
  }
 ],
 "metadata": {
  "kernelspec": {
   "display_name": "adspenv",
   "language": "python",
   "name": "adspenv"
  },
  "language_info": {
   "codemirror_mode": {
    "name": "ipython",
    "version": 3
   },
   "file_extension": ".py",
   "mimetype": "text/x-python",
   "name": "python",
   "nbconvert_exporter": "python",
   "pygments_lexer": "ipython3",
   "version": "3.10.11"
  }
 },
 "nbformat": 4,
 "nbformat_minor": 5
}
