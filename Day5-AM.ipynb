{
 "cells": [
  {
   "cell_type": "markdown",
   "id": "0fef44ce-85c4-4823-9cfe-0a7c80b2405f",
   "metadata": {},
   "source": [
    "# 분류 및 회귀"
   ]
  },
  {
   "cell_type": "markdown",
   "id": "49979d91-fc65-4110-ab73-dd3e597bc4ef",
   "metadata": {},
   "source": [
    "## k-NN"
   ]
  },
  {
   "cell_type": "markdown",
   "id": "e983c4df-288f-48ad-a85a-f2031f3e612b",
   "metadata": {},
   "source": [
    "### 분류 문제  예제"
   ]
  },
  {
   "cell_type": "code",
   "execution_count": null,
   "id": "73a7dc96-ce5c-4fa4-8759-82f2af604f38",
   "metadata": {},
   "outputs": [],
   "source": [
    "# 라이브러리를 임포트\n",
    "from sklearn.neighbors import KNeighborsClassifier\n",
    "from sklearn.preprocessing import StandardScaler\n",
    "from sklearn import datasets\n",
    "\n",
    "# 데이터 로드-아이리스\n",
    "iris=datasets.load_iris()\n",
    "X=iris.data\n",
    "y=iris.target\n",
    "\n",
    "# 표준화 객체 생성 - 특성 파악을 위한 작업\n",
    "sd=StandardScaler()\n",
    "\n",
    "# 특성을 표준화 함 - 특성 파악을 위한 작업\n",
    "X_standardized=sd.fit_transform(X)\n",
    "\n",
    "# k=5인 최근적 이웃 모델 생성-꽃받침, 꽃잎\n",
    "knn=KNeighborsClassifier(n_neighbors=5, n_jobs=-1).fit(X_standardized, y)\n",
    "\n",
    "# 시험을 위한 2개의 샘플 생성\n",
    "observation=[\n",
    "             [0.75, 0.75, 0.75, 0.75,],\n",
    "             [1,1,1,1]\n",
    "]\n",
    "\n",
    "\n",
    "#  2개의 샘플이 속할 클래스 예측\n",
    "knn.predict(observation)"
   ]
  },
  {
   "cell_type": "code",
   "execution_count": null,
   "id": "fe834455-436e-423e-aebe-8b5d8f11c621",
   "metadata": {},
   "outputs": [],
   "source": [
    "# 2개의 샘플이 세 클래스에 속할 확률을 조회\n",
    "\n",
    "knn.predict_proba(observation)"
   ]
  },
  {
   "cell_type": "markdown",
   "id": "252d35be-3860-453e-a232-cdda8916e1a1",
   "metadata": {},
   "source": [
    "### 회귀 문제 예제"
   ]
  },
  {
   "cell_type": "code",
   "execution_count": null,
   "id": "5fcaaed2-9601-4b7d-9e50-6b5864485f5c",
   "metadata": {},
   "outputs": [],
   "source": [
    "from sklearn.neighbors import KNeighborsRegressor\n",
    "from sklearn.datasets import make_regression\n",
    "from sklearn.model_selection import train_test_split\n",
    "from sklearn.metrics import mean_squared_error\n",
    "\n",
    "# 데이터 생성 (임의의 회귀 데이터 생성)\n",
    "X, y = make_regression(n_samples=100, n_features=1, noise=0.1, random_state=42)\n",
    "\n",
    "# 훈련 세트와 테스트 세트로 데이터를 분할\n",
    "X_train, X_test, y_train, y_test = train_test_split(X, y, test_size=0.2, random_state=42)\n",
    "\n",
    "# K-최근접 이웃 회귀 모델 생성\n",
    "knn_regressor = KNeighborsRegressor(n_neighbors=5)\n",
    "\n",
    "# 모델을 훈련 세트에 맞춤\n",
    "knn_regressor.fit(X_train, y_train)\n",
    "\n",
    "# 모델을 사용하여 테스트 세트에 대한 예측 수행\n",
    "y_pred = knn_regressor.predict(X_test)\n",
    "\n",
    "# 예측값과 실제값 사이의 평균 제곱 오차(MSE) 계산\n",
    "mse = mean_squared_error(y_test, y_pred)\n",
    "print(\"Mean Squared Error:\", mse)\n"
   ]
  },
  {
   "cell_type": "markdown",
   "id": "6f1657fd-090b-499b-ab01-aaa5cf1c979a",
   "metadata": {},
   "source": [
    "### 최선의 이웃 개수 결정하기"
   ]
  },
  {
   "cell_type": "code",
   "execution_count": null,
   "id": "32893ffa-a463-4746-bfb6-bccd25e1c602",
   "metadata": {},
   "outputs": [],
   "source": [
    "# 라이브러리를 임포트합니다.\n",
    "from sklearn.neighbors import KNeighborsClassifier\n",
    "from sklearn import datasets\n",
    "from sklearn.preprocessing import StandardScaler\n",
    "from sklearn.pipeline import Pipeline, FeatureUnion\n",
    "from sklearn.model_selection import GridSearchCV\n",
    "\n",
    "# 데이터를 로드합니다.\n",
    "iris = datasets.load_iris()\n",
    "features = iris.data\n",
    "target = iris.target\n",
    "\n",
    "# 표준화 객체를 만듭니다.\n",
    "standardizer = StandardScaler()\n",
    "\n",
    "# KNN 분류기를 만듭니다.\n",
    "knn = KNeighborsClassifier(n_neighbors=5, n_jobs=-1)\n",
    "\n",
    "# 파이프라인을 만듭니다.\n",
    "pipe = Pipeline([(\"standardizer\", standardizer), (\"knn\", knn)])\n",
    "\n",
    "# 탐색 영역의 후보를 만듭니다.\n",
    "search_space = [{\"knn__n_neighbors\": [1, 2, 3, 4, 5, 6, 7, 8, 9, 10]}]\n",
    "\n",
    "# 그리드 서치를 만듭니다.\n",
    "classifier = GridSearchCV(\n",
    "    pipe, search_space, cv=5, verbose=0).fit(features, target)\n",
    "\n",
    "# 최선의 이웃 개수 (k)\n",
    "classifier.best_estimator_.get_params()[\"knn__n_neighbors\"]"
   ]
  },
  {
   "cell_type": "markdown",
   "id": "19187cda-3c02-40d3-b37a-d87dc8b919e4",
   "metadata": {},
   "source": [
    "### Scikit-learn을 이용한 분류 예제 - Iris Data 분류\n"
   ]
  },
  {
   "cell_type": "code",
   "execution_count": null,
   "id": "55c6e385-4cd0-49ed-9160-f66c8735df2a",
   "metadata": {},
   "outputs": [],
   "source": [
    "from sklearn.neighbors import KNeighborsClassifier\n",
    "from sklearn.metrics import accuracy_score\n",
    "from sklearn.model_selection import train_test_split\n",
    "from sklearn.model_selection import cross_val_score\n",
    "\n",
    "import matplotlib.pyplot as plt\n",
    "import pandas as pd\n",
    "import numpy as np"
   ]
  },
  {
   "cell_type": "code",
   "execution_count": null,
   "id": "4247eb45-b0b2-4955-9a1c-a6640182c6ca",
   "metadata": {},
   "outputs": [],
   "source": [
    "from sklearn.datasets import load_iris\n",
    "iris = load_iris()\n",
    "X = iris.data\n",
    "y = iris.target"
   ]
  },
  {
   "cell_type": "code",
   "execution_count": null,
   "id": "8fdbd88e-c511-4d6a-bda2-4aa4ed1e422a",
   "metadata": {},
   "outputs": [],
   "source": [
    "df = pd.DataFrame(X, columns = iris.feature_names)\n",
    "print(\"< Iris Data >\")\n",
    "print(\"The number of sample data : \" + str(len(df)))\n",
    "print(\"The number of features of the data : \" + str(len(df.columns)))\n",
    "print(\"The labels of the data : \" + str(np.unique(y)))\n",
    "df"
   ]
  },
  {
   "cell_type": "code",
   "execution_count": null,
   "id": "f3a7366e-26d6-4cb6-aa58-e6adb900bb06",
   "metadata": {},
   "outputs": [],
   "source": [
    "# split whole data set into train set and test set\n",
    "# test_size : the proportion of the dataset to include in the test split. (0~1)\n",
    "X_train, X_test, y_train, y_test = train_test_split(X, y, test_size = 0.33, \n",
    "                                                    random_state = 42)\n",
    "\n",
    "print(\"The number of train data set : %d \" %len(X_train))\n",
    "print(\"The number of test data set : %d \" %len(X_test))"
   ]
  },
  {
   "cell_type": "code",
   "execution_count": null,
   "id": "aad03b36-a6b4-4be5-a873-e5a359ce39bf",
   "metadata": {},
   "outputs": [],
   "source": [
    "# instantiate learning model (k = 3)\n",
    "estimator = KNeighborsClassifier(n_neighbors=3)\n",
    "# fitting the model\n",
    "estimator.fit(X_train, y_train)\n",
    "# predict the response\n",
    "label_predict = estimator.predict(X_test)\n",
    "# evaluate accuracy\n",
    "print(\"The accuracy score of classification: %.9f\"  \n",
    "      %accuracy_score(y_test, label_predict))"
   ]
  },
  {
   "cell_type": "code",
   "execution_count": null,
   "id": "2de4d8dd-f8ed-4526-94f1-257eb213f991",
   "metadata": {},
   "outputs": [],
   "source": [
    "# perform 10-fold cross validation \n",
    "\n",
    "# create odd list of k for kNN\n",
    "myList = list(range(1,50))\n",
    "neighbors = [ x for x in myList if x % 2 != 0]\n",
    "print(neighbors)\n",
    "print(\"The number of neighbors k is %d\" %len(neighbors))"
   ]
  },
  {
   "cell_type": "code",
   "execution_count": null,
   "id": "2867ea86-da5f-428d-82b1-60caa82e65a4",
   "metadata": {},
   "outputs": [],
   "source": [
    "# empty list that will hold cross validation scores\n",
    "cv_scores = []\n",
    "# perform 10-fold cross validation\n",
    "for k in neighbors:\n",
    "    print(\"< k = %d >\" %k)\n",
    "    estimator = KNeighborsClassifier(n_neighbors=k)\n",
    "    scores = cross_val_score(estimator, X_train, y_train, cv = 10, scoring = 'accuracy')\n",
    "    print(\"The scores of classification are \\n\" + str(scores))\n",
    "    cv_scores.append(scores.mean()) # average error \n",
    "    print(\"The average score of scores is %.9f \\n\" %scores.mean())"
   ]
  },
  {
   "cell_type": "code",
   "execution_count": null,
   "id": "104fb743-c61a-4260-bdf1-d6a040fc053c",
   "metadata": {},
   "outputs": [],
   "source": [
    "# changing to misclassification rate (a.k.a classification error)\n",
    "# MSE = 1 - cross validation score\n",
    "MSE = [1 - x for x in cv_scores]\n",
    "\n",
    "# plot misclassification error vs k\n",
    "plt.plot(neighbors, MSE)\n",
    "plt.xlabel(\"Number of Neighbors K\")\n",
    "plt.ylabel(\"Misclassification Error\")\n",
    "plt.show()\n",
    "\n",
    "# determining best k \n",
    "min_MSE = min(MSE)\n",
    "index_of_min_MSE = MSE.index(min_MSE)\n",
    "optimal_k = neighbors[index_of_min_MSE]\n",
    "print (\"The optimal number of neighbors i is %d\" % optimal_k)"
   ]
  },
  {
   "cell_type": "code",
   "execution_count": null,
   "id": "48ef5a87-5779-47a0-b0ed-db85ba37f279",
   "metadata": {},
   "outputs": [],
   "source": [
    "# instantiate learning model (k = 7)\n",
    "estimator = KNeighborsClassifier(n_neighbors=3)\n",
    "# fitting the model\n",
    "estimator.fit(X_train, y_train)\n",
    "# predict the response\n",
    "label_predict = estimator.predict(X_test)\n",
    "# evaluate accuracy\n",
    "print(\"The accuracy score of classification: %.9f\"  \n",
    "      %accuracy_score(y_test, label_predict))"
   ]
  },
  {
   "cell_type": "markdown",
   "id": "ed992507-4e1d-49d0-86a3-637f1d851bf8",
   "metadata": {},
   "source": [
    "## scikit-learn 패키지를 사용한 선형 회귀분석"
   ]
  },
  {
   "cell_type": "code",
   "execution_count": null,
   "id": "bdabce58-5cb6-4c40-ba51-d15f12ace6da",
   "metadata": {},
   "outputs": [],
   "source": [
    "from sklearn import linear_model\n",
    "import numpy as np\n",
    "import pandas as pd\n",
    "import matplotlib\n",
    "import matplotlib.pyplot as plt\n",
    "%matplotlib inline\n",
    "matplotlib.style.use('ggplot')\n",
    "\n",
    "data = {'x1' : [13, 18, 17, 20, 22, 21],\n",
    "        'x2' : [9, 7, 17, 11, 8, 10],\n",
    "        'y' : [20, 22, 30, 27, 35, 32]}\n",
    "data = pd.DataFrame(data)\n",
    "X = data[['x1', 'x2']]\n",
    "y = data['y']\n",
    "data"
   ]
  },
  {
   "cell_type": "code",
   "execution_count": null,
   "id": "1bbc9b5d-cd6b-46cc-ae40-be9c9aa2f89f",
   "metadata": {},
   "outputs": [],
   "source": [
    "linear_regression = linear_model.LinearRegression()\n",
    "linear_regression.fit(X = pd.DataFrame(X), y = y)\n",
    "prediction = linear_regression.predict(X = pd.DataFrame(X))\n",
    "print('a value = ', linear_regression.intercept_)\n",
    "print('b balue = ', linear_regression.coef_)"
   ]
  },
  {
   "cell_type": "code",
   "execution_count": null,
   "id": "d17e8940-4aa3-4863-8691-101effe3202d",
   "metadata": {},
   "outputs": [],
   "source": [
    "residuals = y-prediction\n",
    "residuals.describe()"
   ]
  },
  {
   "cell_type": "code",
   "execution_count": null,
   "id": "4b8f38c5-1da0-4f7a-9491-f2ce47f36549",
   "metadata": {},
   "outputs": [],
   "source": [
    "SSE = (residuals**2).sum()\n",
    "SST = ((y-y.mean())**2).sum()\n",
    "R_squared = 1 - (SSE/SST)\n",
    "print('R_squared = ', R_squared)"
   ]
  },
  {
   "cell_type": "code",
   "execution_count": null,
   "id": "205effc1-281d-4483-9fd6-145496d93c3a",
   "metadata": {},
   "outputs": [],
   "source": [
    "from sklearn.metrics import mean_squared_error\n",
    "print('score = ', linear_regression.score(X = pd.DataFrame(X), y=y))\n",
    "print('Mean_Squared_Error = ', mean_squared_error(prediction, y))\n",
    "print('RMSE = ', mean_squared_error(prediction, y)**0.5)"
   ]
  },
  {
   "cell_type": "markdown",
   "id": "a853939f-9696-4f37-88e6-f7878a5ea313",
   "metadata": {},
   "source": [
    "## Noise data와 회귀Regression"
   ]
  },
  {
   "cell_type": "code",
   "execution_count": null,
   "id": "0ef0c79a-b604-4c05-bd07-a8b20760b1dc",
   "metadata": {},
   "outputs": [],
   "source": [
    "import pandas as pd\n",
    "import numpy as np\n",
    "import seaborn as sns\n",
    "import matplotlib.pyplot as plt\n",
    "\n",
    "data_url = \"http://lib.stat.cmu.edu/datasets/boston\"\n",
    "raw_df = pd.read_csv(data_url, sep=\"\\s+\", skiprows=22, header=None)\n",
    "data = np.hstack([raw_df.values[::2, :], raw_df.values[1::2, :2]])\n",
    "target = raw_df.values[1::2, 2]\n",
    "\n",
    "data"
   ]
  },
  {
   "cell_type": "code",
   "execution_count": null,
   "id": "00ac2ea9-5c01-40bf-8003-c9704cb25e26",
   "metadata": {},
   "outputs": [],
   "source": [
    "target"
   ]
  },
  {
   "cell_type": "code",
   "execution_count": null,
   "id": "8d6aebeb-e26c-4acf-b498-eb576bc07f2e",
   "metadata": {
    "scrolled": true
   },
   "outputs": [],
   "source": [
    "x =pd.DataFrame(data, columns=['CRIM','ZN','INDUS','CHAS', 'NOX','RM','AGE','DIS','RAD','TAX','PTRATIO','B','LSTAT'])\n",
    "dfX =x[['CRIM','ZN','INDUS','CHAS', 'NOX','RM','AGE']]\n",
    "dfX"
   ]
  },
  {
   "cell_type": "code",
   "execution_count": null,
   "id": "3cd01383-96e1-48ec-a55a-40ebb9912b62",
   "metadata": {},
   "outputs": [],
   "source": [
    "dfy = pd.DataFrame(target, columns=['MEDV'])\n",
    "\n",
    "dfy"
   ]
  },
  {
   "cell_type": "code",
   "execution_count": null,
   "id": "2d431af3-0002-49ff-9fb1-cbfd7aa5ba91",
   "metadata": {},
   "outputs": [],
   "source": [
    "df = pd.concat([dfX, dfy], axis=1)\n",
    "df.tail()"
   ]
  },
  {
   "cell_type": "code",
   "execution_count": null,
   "id": "fc59ea2c-9184-40bb-9427-e1f518892457",
   "metadata": {},
   "outputs": [],
   "source": [
    "sns.pairplot(dfX)\n",
    "plt.show()"
   ]
  },
  {
   "cell_type": "markdown",
   "id": "141d3efc-9461-464e-8a9c-e02eeae6f551",
   "metadata": {},
   "source": [
    "# Q 당뇨병 진행도 예측\n",
    "```\n",
    "\n",
    "scikit-learn 패키지가 제공하는 당뇨병 진행도 예측용 데이터는 442명의 당뇨병 환자를 대상으로한 검사 결과를 나타내는 데이터이다. \n",
    "이 데이터의 독립변수를 조사하고 어떤 데이터들이 주택가격과 상관관계가 있는지를 조사한다. 또한 서로 강한 상관관계를 가지는 독립변수도 알아보자.\n",
    "10 종류의 독립변수를 가지고 있다. 독립변수의 값들은 모두 스케일링(scaling)되었다.\n",
    "age: 나이\n",
    "sex: 성별\n",
    "bmi: BMI(Body mass index)지수\n",
    "bp: 평균혈압\n",
    "s1~s6: 6종류의 혈액검사수치\n",
    "종속변수는 1년 뒤 측정한 당뇨\n",
    "```의 진행률이다.\n"
   ]
  },
  {
   "cell_type": "code",
   "execution_count": null,
   "id": "54efffbc-cb30-4f10-8ce1-c533443bf803",
   "metadata": {},
   "outputs": [],
   "source": [
    "from sklearn.datasets import load_diabetes\n",
    "\n",
    "diabetes = load_diabetes()\n",
    "df = pd.DataFrame(diabetes.data, columns=diabetes.feature_names)\n",
    "df[\"target\"] = diabetes.target\n",
    "df.tail()"
   ]
  },
  {
   "cell_type": "code",
   "execution_count": null,
   "id": "8f7e58d1-468e-4f42-961d-9f8c497bb2e4",
   "metadata": {},
   "outputs": [],
   "source": [
    "sns.pairplot(df[[\"target\", \"bmi\", \"bp\", \"s1\"]])\n",
    "plt.show()"
   ]
  },
  {
   "cell_type": "markdown",
   "id": "776c8cff-1fbd-4be3-bd4c-de0287f8d80e",
   "metadata": {},
   "source": [
    "## 붓꽃 예측"
   ]
  },
  {
   "cell_type": "code",
   "execution_count": null,
   "id": "dfc588be-e3b4-4f4f-87e7-2c398e1ff994",
   "metadata": {},
   "outputs": [],
   "source": [
    "from sklearn import datasets\n",
    "from sklearn.model_selection import train_test_split\n",
    "from sklearn.linear_model import LogisticRegression\n",
    "from sklearn.preprocessing import StandardScaler\n",
    "import pandas as pd\n",
    "import seaborn as sns\n",
    "import matplotlib.pyplot as plt\n",
    "import numpy as np\n",
    "\n",
    "data = datasets.load_iris()\n",
    "#데이터셋\n",
    "input_data = data['data'] # 꽃의  특징 (input data)\n",
    "target_data = data['target'] #꽃  종류를  수치로 나탄내  것 (0 ~ 2) (target data)\n",
    "flowers = data['target_names'] # 꽃  종류를  이름으로  나타낸  것\n",
    "feature_names = data['feature_names'] # 꽃  특징들의  명칭\n",
    "#sepal : 꽃받침\n",
    "#petal : 꽃잎\n",
    "print('꽃을  결정짓는  특징 :   {}'.format(feature_names))\n",
    "print('꽃  종류 :   {}'.format(flowers))"
   ]
  },
  {
   "cell_type": "code",
   "execution_count": null,
   "id": "db818aa6-3360-4e15-a3e7-9ad1b18d09ba",
   "metadata": {},
   "outputs": [],
   "source": [
    "iris_df = pd.DataFrame(input_data, columns=feature_names)\n",
    "iris_df['species'] = target_data\n",
    "#맨  위에  있는  데이터 10개  출력\n",
    "print(iris_df.head(10))\n",
    "#데이터의  정보  출력\n",
    "print(iris_df.describe())"
   ]
  },
  {
   "cell_type": "code",
   "execution_count": null,
   "id": "d1041dfd-3248-4bc4-aef1-bf199a4b2ba3",
   "metadata": {},
   "outputs": [],
   "source": [
    "#4가지 변수(특징)의 관계를 'seaborn' 라이브러리에서 제공하는 pairplot() 메소드로 표현한 그래프 16가지\n",
    "\n",
    "sns.pairplot(iris_df, hue='species', vars=feature_names)\n",
    "plt.show()"
   ]
  },
  {
   "cell_type": "code",
   "execution_count": null,
   "id": "266c25bb-c243-476e-a5b8-12c66c220787",
   "metadata": {},
   "outputs": [],
   "source": [
    "#훈련  데이터와  테스트  데이터  분리\n",
    "train_input, test_input, train_target, test_target = train_test_split(\n",
    "    input_data, target_data, random_state=42)\n",
    "#표준점수로  데이터  스케일링\n",
    "scaler = StandardScaler()\n",
    "train_scaled = scaler.fit_transform(train_input)\n",
    "test_scaled = scaler.transform(test_input)"
   ]
  },
  {
   "cell_type": "code",
   "execution_count": null,
   "id": "d08af71f-19bf-4038-99fc-90c5fac543fc",
   "metadata": {},
   "outputs": [],
   "source": [
    "lr = LogisticRegression(max_iter=1000)\n",
    "#로지스틱  회귀  학습\n",
    "lr.fit(train_scaled, train_target)\n",
    "#테스트  데이터  예측\n",
    "pred = lr.predict(test_scaled[:5])\n",
    "print(pred)"
   ]
  },
  {
   "cell_type": "code",
   "execution_count": null,
   "id": "e61243cf-fa08-49ca-835e-9326ccc5efa1",
   "metadata": {},
   "outputs": [],
   "source": [
    "#각 특징들의 가중치(weight)와 절편(bias)을 확인\n",
    "\n",
    "#로지스틱  회귀  모델의  가중치와  절편\n",
    "#다중  분류  가중치와  절편을  출력하면, 각  클래스마다의  가중치  절편을  출력한다.\n",
    "print(lr.coef_, lr.intercept_)"
   ]
  },
  {
   "cell_type": "code",
   "execution_count": null,
   "id": "b8be72a4-6e18-4024-b90e-2f6c0eee70c0",
   "metadata": {},
   "outputs": [],
   "source": [
    "setosa_z1 = (-0.96 * 5.1) + (1.09 * 3.5) + (-1.78 * 1.4) + (-1.66 * 0.2) - 0.39\n",
    "versicolor_z2 = (0.51 * 5.1) + (-0.30 * 3.5) + (-0.32 * 1.4) + (-0.7 * 0.2) - 1.92\n",
    "virginica_z3 = (0.47 * 5.1) + (-0.79 * 3.5) + (2.11 * 1.4) + (2.34 * 0.2) - 1.53\n",
    "print(setosa_z1)\n",
    "print(versicolor_z2)\n",
    "print(virginica_z3)\n",
    "\n",
    "setosa_rs=setosa_z1/(setosa_z1+versicolor_z2+virginica_z3)\n",
    "versicolor_rs=versicolor_z2/(setosa_z1+versicolor_z2+virginica_z3)\n",
    "virginica_rs=virginica_z3/(setosa_z1+versicolor_z2+virginica_z3)\n",
    "print(setosa_rs)\n",
    "print(versicolor_rs)\n",
    "print(virginica_rs)"
   ]
  },
  {
   "cell_type": "code",
   "execution_count": null,
   "id": "72eb99d5-2f22-4273-97df-21779739c7bc",
   "metadata": {},
   "outputs": [],
   "source": [
    "#decision_function()에 테스트 데이터 5개를 넣고 소수점 2자리까지 출력\n",
    "#결정  함수(decision_function)로 z1 ~ z3의  값을  구한다.\n",
    "decision = lr.decision_function(test_scaled[:5])\n",
    "print(np.round(decision, decimals=2))"
   ]
  },
  {
   "cell_type": "code",
   "execution_count": null,
   "id": "c063821c-d590-47d5-8ee1-129066e1d35d",
   "metadata": {},
   "outputs": [],
   "source": [
    "#소프트맥스 함수를 사용한 각 클래스들의 확률\n",
    "from scipy.special import softmax\n",
    "proba = softmax(decision, axis=1)\n",
    "print(np.round(proba, decimals=3))"
   ]
  },
  {
   "cell_type": "markdown",
   "id": "a657e5e2-9cfb-4c4a-bc38-f31e99737fc4",
   "metadata": {},
   "source": [
    "## 나이브 베이즈(Naive Bayes) 기법"
   ]
  },
  {
   "cell_type": "markdown",
   "id": "1141a9dd-a3ea-41f0-abbc-c0fe1a2a99e6",
   "metadata": {},
   "source": [
    "## 예제를 이용한 Naive Bayes Python 코드 실습"
   ]
  },
  {
   "cell_type": "code",
   "execution_count": 2,
   "id": "c8d03392-208e-414d-b730-b93a853ab100",
   "metadata": {},
   "outputs": [
    {
     "data": {
      "text/html": [
       "<div>\n",
       "<style scoped>\n",
       "    .dataframe tbody tr th:only-of-type {\n",
       "        vertical-align: middle;\n",
       "    }\n",
       "\n",
       "    .dataframe tbody tr th {\n",
       "        vertical-align: top;\n",
       "    }\n",
       "\n",
       "    .dataframe thead th {\n",
       "        text-align: right;\n",
       "    }\n",
       "</style>\n",
       "<table border=\"1\" class=\"dataframe\">\n",
       "  <thead>\n",
       "    <tr style=\"text-align: right;\">\n",
       "      <th></th>\n",
       "      <th>Outlook</th>\n",
       "      <th>Temperature</th>\n",
       "      <th>Humidity</th>\n",
       "      <th>Wind</th>\n",
       "      <th>PlayTennis</th>\n",
       "    </tr>\n",
       "  </thead>\n",
       "  <tbody>\n",
       "    <tr>\n",
       "      <th>0</th>\n",
       "      <td>Sunny</td>\n",
       "      <td>Hot</td>\n",
       "      <td>High</td>\n",
       "      <td>Weak</td>\n",
       "      <td>No</td>\n",
       "    </tr>\n",
       "    <tr>\n",
       "      <th>1</th>\n",
       "      <td>Sunny</td>\n",
       "      <td>Hot</td>\n",
       "      <td>High</td>\n",
       "      <td>Strong</td>\n",
       "      <td>No</td>\n",
       "    </tr>\n",
       "    <tr>\n",
       "      <th>2</th>\n",
       "      <td>Overcast</td>\n",
       "      <td>Hot</td>\n",
       "      <td>High</td>\n",
       "      <td>Weak</td>\n",
       "      <td>Yes</td>\n",
       "    </tr>\n",
       "    <tr>\n",
       "      <th>3</th>\n",
       "      <td>Rain</td>\n",
       "      <td>Mild</td>\n",
       "      <td>High</td>\n",
       "      <td>Weak</td>\n",
       "      <td>Yes</td>\n",
       "    </tr>\n",
       "    <tr>\n",
       "      <th>4</th>\n",
       "      <td>Rain</td>\n",
       "      <td>Cool</td>\n",
       "      <td>Normal</td>\n",
       "      <td>Weak</td>\n",
       "      <td>Yes</td>\n",
       "    </tr>\n",
       "    <tr>\n",
       "      <th>5</th>\n",
       "      <td>Rain</td>\n",
       "      <td>Cool</td>\n",
       "      <td>Normal</td>\n",
       "      <td>Strong</td>\n",
       "      <td>No</td>\n",
       "    </tr>\n",
       "    <tr>\n",
       "      <th>6</th>\n",
       "      <td>Overcast</td>\n",
       "      <td>Cool</td>\n",
       "      <td>Normal</td>\n",
       "      <td>Strong</td>\n",
       "      <td>Yes</td>\n",
       "    </tr>\n",
       "    <tr>\n",
       "      <th>7</th>\n",
       "      <td>Sunny</td>\n",
       "      <td>Mild</td>\n",
       "      <td>High</td>\n",
       "      <td>Weak</td>\n",
       "      <td>No</td>\n",
       "    </tr>\n",
       "    <tr>\n",
       "      <th>8</th>\n",
       "      <td>Sunny</td>\n",
       "      <td>Cool</td>\n",
       "      <td>Normal</td>\n",
       "      <td>Weak</td>\n",
       "      <td>Yes</td>\n",
       "    </tr>\n",
       "    <tr>\n",
       "      <th>9</th>\n",
       "      <td>Rain</td>\n",
       "      <td>Mild</td>\n",
       "      <td>Normal</td>\n",
       "      <td>Weak</td>\n",
       "      <td>Yes</td>\n",
       "    </tr>\n",
       "    <tr>\n",
       "      <th>10</th>\n",
       "      <td>Sunny</td>\n",
       "      <td>Mild</td>\n",
       "      <td>Normal</td>\n",
       "      <td>Strong</td>\n",
       "      <td>Yes</td>\n",
       "    </tr>\n",
       "    <tr>\n",
       "      <th>11</th>\n",
       "      <td>Overcast</td>\n",
       "      <td>Mild</td>\n",
       "      <td>High</td>\n",
       "      <td>Strong</td>\n",
       "      <td>Yes</td>\n",
       "    </tr>\n",
       "    <tr>\n",
       "      <th>12</th>\n",
       "      <td>Overcast</td>\n",
       "      <td>Hot</td>\n",
       "      <td>Normal</td>\n",
       "      <td>Weak</td>\n",
       "      <td>Yes</td>\n",
       "    </tr>\n",
       "    <tr>\n",
       "      <th>13</th>\n",
       "      <td>Rain</td>\n",
       "      <td>Mild</td>\n",
       "      <td>High</td>\n",
       "      <td>Strong</td>\n",
       "      <td>No</td>\n",
       "    </tr>\n",
       "  </tbody>\n",
       "</table>\n",
       "</div>"
      ],
      "text/plain": [
       "     Outlook Temperature Humidity    Wind PlayTennis\n",
       "0      Sunny         Hot     High    Weak         No\n",
       "1      Sunny         Hot     High  Strong         No\n",
       "2   Overcast         Hot     High    Weak        Yes\n",
       "3       Rain        Mild     High    Weak        Yes\n",
       "4       Rain        Cool   Normal    Weak        Yes\n",
       "5       Rain        Cool   Normal  Strong         No\n",
       "6   Overcast        Cool   Normal  Strong        Yes\n",
       "7      Sunny        Mild     High    Weak         No\n",
       "8      Sunny        Cool   Normal    Weak        Yes\n",
       "9       Rain        Mild   Normal    Weak        Yes\n",
       "10     Sunny        Mild   Normal  Strong        Yes\n",
       "11  Overcast        Mild     High  Strong        Yes\n",
       "12  Overcast         Hot   Normal    Weak        Yes\n",
       "13      Rain        Mild     High  Strong         No"
      ]
     },
     "execution_count": 2,
     "metadata": {},
     "output_type": "execute_result"
    }
   ],
   "source": [
    "import pandas as pd\n",
    "import numpy as np\n",
    "\n",
    "tennis_data = pd.read_csv('https://raw.githubusercontent.com/kznetwork/DataAnalysis/main/datasets/playtennis.csv')\n",
    "tennis_data"
   ]
  },
  {
   "cell_type": "code",
   "execution_count": 3,
   "id": "d02a7a64-358c-406c-bfba-de6efeaa6263",
   "metadata": {},
   "outputs": [],
   "source": [
    "from sklearn.model_selection import train_test_split\n",
    "from sklearn.naive_bayes import GaussianNB"
   ]
  },
  {
   "cell_type": "code",
   "execution_count": 4,
   "id": "c8840995-4779-4e64-a772-49c2f78e681d",
   "metadata": {},
   "outputs": [
    {
     "data": {
      "text/html": [
       "<div>\n",
       "<style scoped>\n",
       "    .dataframe tbody tr th:only-of-type {\n",
       "        vertical-align: middle;\n",
       "    }\n",
       "\n",
       "    .dataframe tbody tr th {\n",
       "        vertical-align: top;\n",
       "    }\n",
       "\n",
       "    .dataframe thead th {\n",
       "        text-align: right;\n",
       "    }\n",
       "</style>\n",
       "<table border=\"1\" class=\"dataframe\">\n",
       "  <thead>\n",
       "    <tr style=\"text-align: right;\">\n",
       "      <th></th>\n",
       "      <th>Outlook</th>\n",
       "      <th>Temperature</th>\n",
       "      <th>Humidity</th>\n",
       "      <th>Wind</th>\n",
       "      <th>PlayTennis</th>\n",
       "    </tr>\n",
       "  </thead>\n",
       "  <tbody>\n",
       "    <tr>\n",
       "      <th>0</th>\n",
       "      <td>0</td>\n",
       "      <td>3</td>\n",
       "      <td>6</td>\n",
       "      <td>8</td>\n",
       "      <td>10</td>\n",
       "    </tr>\n",
       "    <tr>\n",
       "      <th>1</th>\n",
       "      <td>0</td>\n",
       "      <td>3</td>\n",
       "      <td>6</td>\n",
       "      <td>9</td>\n",
       "      <td>10</td>\n",
       "    </tr>\n",
       "    <tr>\n",
       "      <th>2</th>\n",
       "      <td>1</td>\n",
       "      <td>3</td>\n",
       "      <td>6</td>\n",
       "      <td>8</td>\n",
       "      <td>11</td>\n",
       "    </tr>\n",
       "    <tr>\n",
       "      <th>3</th>\n",
       "      <td>2</td>\n",
       "      <td>4</td>\n",
       "      <td>6</td>\n",
       "      <td>8</td>\n",
       "      <td>11</td>\n",
       "    </tr>\n",
       "    <tr>\n",
       "      <th>4</th>\n",
       "      <td>2</td>\n",
       "      <td>5</td>\n",
       "      <td>7</td>\n",
       "      <td>8</td>\n",
       "      <td>11</td>\n",
       "    </tr>\n",
       "    <tr>\n",
       "      <th>5</th>\n",
       "      <td>2</td>\n",
       "      <td>5</td>\n",
       "      <td>7</td>\n",
       "      <td>9</td>\n",
       "      <td>10</td>\n",
       "    </tr>\n",
       "    <tr>\n",
       "      <th>6</th>\n",
       "      <td>1</td>\n",
       "      <td>5</td>\n",
       "      <td>7</td>\n",
       "      <td>9</td>\n",
       "      <td>11</td>\n",
       "    </tr>\n",
       "    <tr>\n",
       "      <th>7</th>\n",
       "      <td>0</td>\n",
       "      <td>4</td>\n",
       "      <td>6</td>\n",
       "      <td>8</td>\n",
       "      <td>10</td>\n",
       "    </tr>\n",
       "    <tr>\n",
       "      <th>8</th>\n",
       "      <td>0</td>\n",
       "      <td>5</td>\n",
       "      <td>7</td>\n",
       "      <td>8</td>\n",
       "      <td>11</td>\n",
       "    </tr>\n",
       "    <tr>\n",
       "      <th>9</th>\n",
       "      <td>2</td>\n",
       "      <td>4</td>\n",
       "      <td>7</td>\n",
       "      <td>8</td>\n",
       "      <td>11</td>\n",
       "    </tr>\n",
       "    <tr>\n",
       "      <th>10</th>\n",
       "      <td>0</td>\n",
       "      <td>4</td>\n",
       "      <td>7</td>\n",
       "      <td>9</td>\n",
       "      <td>11</td>\n",
       "    </tr>\n",
       "    <tr>\n",
       "      <th>11</th>\n",
       "      <td>1</td>\n",
       "      <td>4</td>\n",
       "      <td>6</td>\n",
       "      <td>9</td>\n",
       "      <td>11</td>\n",
       "    </tr>\n",
       "    <tr>\n",
       "      <th>12</th>\n",
       "      <td>1</td>\n",
       "      <td>3</td>\n",
       "      <td>7</td>\n",
       "      <td>8</td>\n",
       "      <td>11</td>\n",
       "    </tr>\n",
       "    <tr>\n",
       "      <th>13</th>\n",
       "      <td>2</td>\n",
       "      <td>4</td>\n",
       "      <td>6</td>\n",
       "      <td>9</td>\n",
       "      <td>10</td>\n",
       "    </tr>\n",
       "  </tbody>\n",
       "</table>\n",
       "</div>"
      ],
      "text/plain": [
       "    Outlook  Temperature  Humidity  Wind  PlayTennis\n",
       "0         0            3         6     8          10\n",
       "1         0            3         6     9          10\n",
       "2         1            3         6     8          11\n",
       "3         2            4         6     8          11\n",
       "4         2            5         7     8          11\n",
       "5         2            5         7     9          10\n",
       "6         1            5         7     9          11\n",
       "7         0            4         6     8          10\n",
       "8         0            5         7     8          11\n",
       "9         2            4         7     8          11\n",
       "10        0            4         7     9          11\n",
       "11        1            4         6     9          11\n",
       "12        1            3         7     8          11\n",
       "13        2            4         6     9          10"
      ]
     },
     "execution_count": 4,
     "metadata": {},
     "output_type": "execute_result"
    }
   ],
   "source": [
    "tennis_data.Outlook = tennis_data.Outlook.replace('Sunny', 0)\n",
    "tennis_data.Outlook = tennis_data.Outlook.replace('Overcast', 1)\n",
    "tennis_data.Outlook = tennis_data.Outlook.replace('Rain', 2)\n",
    "\n",
    "tennis_data.Temperature = tennis_data.Temperature.replace('Hot', 3)\n",
    "tennis_data.Temperature = tennis_data.Temperature.replace('Mild', 4)\n",
    "tennis_data.Temperature = tennis_data.Temperature.replace('Cool', 5)\n",
    "\n",
    "tennis_data.Humidity = tennis_data.Humidity.replace('High', 6)\n",
    "tennis_data.Humidity = tennis_data.Humidity.replace('Normal', 7)\n",
    "\n",
    "tennis_data.Wind = tennis_data.Wind.replace('Weak', 8)\n",
    "tennis_data.Wind = tennis_data.Wind.replace('Strong', 9)\n",
    "\n",
    "tennis_data.PlayTennis = tennis_data.PlayTennis.replace('No', 10)\n",
    "tennis_data.PlayTennis = tennis_data.PlayTennis.replace('Yes', 11)\n",
    "\n",
    "tennis_data"
   ]
  },
  {
   "cell_type": "code",
   "execution_count": 5,
   "id": "27fdee59-1ada-49b6-856c-857a4f9538f6",
   "metadata": {},
   "outputs": [],
   "source": [
    "X = np.array(pd.DataFrame(tennis_data, columns = ['Outlook', 'Temperature', 'Humidity', 'Wind']))\n",
    "y = np.array(pd.DataFrame(tennis_data, columns = ['PlayTennis']))"
   ]
  },
  {
   "cell_type": "code",
   "execution_count": 6,
   "id": "81081ec8-0e41-4871-9801-daf9632b9ae6",
   "metadata": {},
   "outputs": [],
   "source": [
    "X_train, X_test, y_train, y_test = train_test_split(X, y)"
   ]
  },
  {
   "cell_type": "code",
   "execution_count": 7,
   "id": "c3d282d2-6b64-414a-9e97-a3170e6273a5",
   "metadata": {},
   "outputs": [
    {
     "name": "stdout",
     "output_type": "stream",
     "text": [
      "X_train : [[1 5 7 9]\n",
      " [2 4 6 9]\n",
      " [2 5 7 9]\n",
      " [1 4 6 9]\n",
      " [0 3 6 8]\n",
      " [2 5 7 8]\n",
      " [0 5 7 8]\n",
      " [2 4 6 8]\n",
      " [2 4 7 8]\n",
      " [0 3 6 9]]\n",
      "X_test : [[0 4 6 8]\n",
      " [0 4 7 9]\n",
      " [1 3 6 8]\n",
      " [1 3 7 8]]\n",
      "y_train : [[11]\n",
      " [10]\n",
      " [10]\n",
      " [11]\n",
      " [10]\n",
      " [11]\n",
      " [11]\n",
      " [11]\n",
      " [11]\n",
      " [10]]\n",
      "y_test : [[10]\n",
      " [11]\n",
      " [11]\n",
      " [11]]\n"
     ]
    }
   ],
   "source": [
    "print('X_train :', X_train)\n",
    "print('X_test :', X_test)\n",
    "print('y_train :', y_train)\n",
    "print('y_test :', y_test)"
   ]
  },
  {
   "cell_type": "code",
   "execution_count": 8,
   "id": "e63f3ca1-8781-4f92-97fa-b55b5f3d97f3",
   "metadata": {},
   "outputs": [
    {
     "name": "stderr",
     "output_type": "stream",
     "text": [
      "c:\\DEV\\adspenv\\lib\\site-packages\\sklearn\\utils\\validation.py:1183: DataConversionWarning: A column-vector y was passed when a 1d array was expected. Please change the shape of y to (n_samples, ), for example using ravel().\n",
      "  y = column_or_1d(y, warn=True)\n"
     ]
    }
   ],
   "source": [
    "gnb_clf = GaussianNB()\n",
    "gnb_clf = gnb_clf.fit(X_train, y_train)"
   ]
  },
  {
   "cell_type": "code",
   "execution_count": 9,
   "id": "87bcfd1f-17cf-4a61-8422-b94ae6793585",
   "metadata": {},
   "outputs": [],
   "source": [
    "gnb_prediction = gnb_clf.predict(X_test)"
   ]
  },
  {
   "cell_type": "code",
   "execution_count": 10,
   "id": "4a468e89-56ee-4bf6-b41a-96ccdd45e536",
   "metadata": {},
   "outputs": [
    {
     "name": "stdout",
     "output_type": "stream",
     "text": [
      "[10 10 10 10]\n"
     ]
    }
   ],
   "source": [
    "print(gnb_prediction)"
   ]
  },
  {
   "cell_type": "code",
   "execution_count": 11,
   "id": "30090cc0-308a-49d8-82a3-0c23d8ca52f1",
   "metadata": {},
   "outputs": [],
   "source": [
    "'''\n",
    "Naive Bayes 모델의 predict함수를 사용해 X_test 데이터에 대한 예측값과 실제값 y_test를 비교해 모델의 성능을 평가하겠습니다.\n",
    "\n",
    "성능 평가에 사용될 평가 요소는 confusion_matrix, classification_report, f1_score, accuracy_score입니다.\n",
    "성능 평가를 하기 위해 sklearn.metrics 패키지의 confusion_matrix, classification_report, f1_score, accuracy_score 모듈을 import합니다.\n",
    "'''\n",
    "\n",
    "from sklearn.metrics import confusion_matrix\n",
    "from sklearn.metrics import classification_report\n",
    "from sklearn.metrics import f1_score\n",
    "from sklearn.metrics import accuracy_score"
   ]
  },
  {
   "cell_type": "code",
   "execution_count": 12,
   "id": "27c618dd-d311-487a-ba73-9539993cd2b2",
   "metadata": {},
   "outputs": [
    {
     "name": "stdout",
     "output_type": "stream",
     "text": [
      "Confusion Matrix\n",
      "[[1 0]\n",
      " [3 0]]\n"
     ]
    }
   ],
   "source": [
    "'''\n",
    "Confusion Matrix는 오차행렬을 나타냅니다. Confusion Matrix의 결과를 보면 2x2 행렬인 것을 알 수 있습니다.\n",
    "Confusion Matrix의 y축은 실제값, x축은 예측값입니다.\n",
    "'''\n",
    "\n",
    "print('Confusion Matrix')\n",
    "print(confusion_matrix(y_test, gnb_prediction))"
   ]
  },
  {
   "cell_type": "code",
   "execution_count": 13,
   "id": "352cb260-1468-44ee-883f-16af6e29c182",
   "metadata": {},
   "outputs": [
    {
     "name": "stdout",
     "output_type": "stream",
     "text": [
      "Classification Report\n",
      "              precision    recall  f1-score   support\n",
      "\n",
      "          10       0.25      1.00      0.40         1\n",
      "          11       0.00      0.00      0.00         3\n",
      "\n",
      "    accuracy                           0.25         4\n",
      "   macro avg       0.12      0.50      0.20         4\n",
      "weighted avg       0.06      0.25      0.10         4\n",
      "\n"
     ]
    },
    {
     "name": "stderr",
     "output_type": "stream",
     "text": [
      "c:\\DEV\\adspenv\\lib\\site-packages\\sklearn\\metrics\\_classification.py:1471: UndefinedMetricWarning: Precision and F-score are ill-defined and being set to 0.0 in labels with no predicted samples. Use `zero_division` parameter to control this behavior.\n",
      "  _warn_prf(average, modifier, msg_start, len(result))\n",
      "c:\\DEV\\adspenv\\lib\\site-packages\\sklearn\\metrics\\_classification.py:1471: UndefinedMetricWarning: Precision and F-score are ill-defined and being set to 0.0 in labels with no predicted samples. Use `zero_division` parameter to control this behavior.\n",
      "  _warn_prf(average, modifier, msg_start, len(result))\n",
      "c:\\DEV\\adspenv\\lib\\site-packages\\sklearn\\metrics\\_classification.py:1471: UndefinedMetricWarning: Precision and F-score are ill-defined and being set to 0.0 in labels with no predicted samples. Use `zero_division` parameter to control this behavior.\n",
      "  _warn_prf(average, modifier, msg_start, len(result))\n"
     ]
    }
   ],
   "source": [
    "'''\n",
    "Classification Report는 분류에 대한 측정 항목을 보여주는 보고서를 나타냅니다.\n",
    "\n",
    "Classification Report의 측정 항목으로는 클래스 별의 precision, recall, f1-score와\n",
    "전체 데이터의 precision, recall, f1-score가 있습니다.\n",
    "'''\n",
    "\n",
    "print('Classification Report')\n",
    "print(classification_report(y_test, gnb_prediction))"
   ]
  },
  {
   "cell_type": "code",
   "execution_count": 16,
   "id": "f6778e9f-ec20-4c35-a1f6-d638a4dd0bd3",
   "metadata": {},
   "outputs": [],
   "source": [
    "# 실제값과 예측값에 f1-score함수를 사용해 구한 f-measure와 accuracy_score 함수를 사용해 구한 accuracy를 나타내보겠습니다.\n",
    "\n",
    "\n",
    "'''\n",
    "f1_score 함수에 파라미터로 실제값 y_test와 예측값 gnb_prediction을 넣고 average를 weighted로 설정합니다. \n",
    "weighted는 클래스별로 가중치를 적용하는 역할을 합니다. 이렇게 3개의 파라미터를 넣고 f1_score를 구한 후 \n",
    "round 함수를 이용해 소수점 2번째 자리까지 표현한 값을 변수 fmeasure에 저장합니다.\n",
    "'''\n",
    "fmeasure = round(f1_score(y_test, gnb_prediction, average = 'weighted'), 2)\n",
    "\n",
    "\n",
    "'''\n",
    "accuracy_score 함수에 파라미터로 실제값 y_test와 예측값 gnb_prediction을 넣고 normalize를 True로 설정합니다.\n",
    "True는 정확도를 계산해서 출력해주는 역할을 합니다. False로 설정하게 되면 올바르게 분류된 데이터의 수를 출력합니다.\n",
    "이렇게 3개의 파라미터를 넣고 accuracy를 구한 후 round 함수를 이용해 소수점 2번째 자리까지 표현한 값을 변수 accuracy에 저장합니다.\n",
    "'''\n",
    "accuracy = round(accuracy_score(y_test, gnb_prediction, normalize = True), 2)\n",
    "\n",
    "# 컬럼이 Classifier, F-Measure, Accuracy인 데이터프레임을 변수 df_nbclf에 저장합니다.\n",
    "df_nbclf = pd.DataFrame(columns=['Classifier', 'F-Measure', 'Accuracy'])"
   ]
  },
  {
   "cell_type": "code",
   "execution_count": 17,
   "id": "4d147dc2-5e66-4935-9804-1c00d3057de7",
   "metadata": {},
   "outputs": [
    {
     "data": {
      "text/html": [
       "<div>\n",
       "<style scoped>\n",
       "    .dataframe tbody tr th:only-of-type {\n",
       "        vertical-align: middle;\n",
       "    }\n",
       "\n",
       "    .dataframe tbody tr th {\n",
       "        vertical-align: top;\n",
       "    }\n",
       "\n",
       "    .dataframe thead th {\n",
       "        text-align: right;\n",
       "    }\n",
       "</style>\n",
       "<table border=\"1\" class=\"dataframe\">\n",
       "  <thead>\n",
       "    <tr style=\"text-align: right;\">\n",
       "      <th></th>\n",
       "      <th>Classifier</th>\n",
       "      <th>F-Measure</th>\n",
       "      <th>Accuracy</th>\n",
       "    </tr>\n",
       "  </thead>\n",
       "  <tbody>\n",
       "    <tr>\n",
       "      <th>0</th>\n",
       "      <td>Naive Bayes</td>\n",
       "      <td>0.1</td>\n",
       "      <td>0.25</td>\n",
       "    </tr>\n",
       "  </tbody>\n",
       "</table>\n",
       "</div>"
      ],
      "text/plain": [
       "    Classifier  F-Measure  Accuracy\n",
       "0  Naive Bayes        0.1      0.25"
      ]
     },
     "execution_count": 17,
     "metadata": {},
     "output_type": "execute_result"
    }
   ],
   "source": [
    "'''\n",
    "컬럼 Classifier에는 Naive Bayes로 저장하고, 데이터프레임 df_nbclf에 loc 함수를 사용해 \n",
    "컬럼에 맞게 fmeasure 데이터와 accuracy 데이터를 데이터프레임에 저장합니다.\n",
    "'''\n",
    "df_nbclf.loc[len(df_nbclf)] = ['Naive Bayes', fmeasure, accuracy]\n",
    "\n",
    "\n",
    "# 저장한 데이터프레임을 출력합니다.\n",
    "df_nbclf"
   ]
  },
  {
   "cell_type": "markdown",
   "id": "d264ddad-3fdd-4576-9546-0b2d9d428929",
   "metadata": {},
   "source": [
    "## 로지스틱 함수 (logistic function) "
   ]
  },
  {
   "cell_type": "code",
   "execution_count": 19,
   "id": "8b511559-3d4e-44c5-8ae0-dec5bde77a5a",
   "metadata": {
    "scrolled": true
   },
   "outputs": [
    {
     "name": "stdout",
     "output_type": "stream",
     "text": [
      ".. _breast_cancer_dataset:\n",
      "\n",
      "Breast cancer wisconsin (diagnostic) dataset\n",
      "--------------------------------------------\n",
      "\n",
      "**Data Set Characteristics:**\n",
      "\n",
      "    :Number of Instances: 569\n",
      "\n",
      "    :Number of Attributes: 30 numeric, predictive attributes and the class\n",
      "\n",
      "    :Attribute Information:\n",
      "        - radius (mean of distances from center to points on the perimeter)\n",
      "        - texture (standard deviation of gray-scale values)\n",
      "        - perimeter\n",
      "        - area\n",
      "        - smoothness (local variation in radius lengths)\n",
      "        - compactness (perimeter^2 / area - 1.0)\n",
      "        - concavity (severity of concave portions of the contour)\n",
      "        - concave points (number of concave portions of the contour)\n",
      "        - symmetry\n",
      "        - fractal dimension (\"coastline approximation\" - 1)\n",
      "\n",
      "        The mean, standard error, and \"worst\" or largest (mean of the three\n",
      "        worst/largest values) of these features were computed for each image,\n",
      "        resulting in 30 features.  For instance, field 0 is Mean Radius, field\n",
      "        10 is Radius SE, field 20 is Worst Radius.\n",
      "\n",
      "        - class:\n",
      "                - WDBC-Malignant\n",
      "                - WDBC-Benign\n",
      "\n",
      "    :Summary Statistics:\n",
      "\n",
      "    ===================================== ====== ======\n",
      "                                           Min    Max\n",
      "    ===================================== ====== ======\n",
      "    radius (mean):                        6.981  28.11\n",
      "    texture (mean):                       9.71   39.28\n",
      "    perimeter (mean):                     43.79  188.5\n",
      "    area (mean):                          143.5  2501.0\n",
      "    smoothness (mean):                    0.053  0.163\n",
      "    compactness (mean):                   0.019  0.345\n",
      "    concavity (mean):                     0.0    0.427\n",
      "    concave points (mean):                0.0    0.201\n",
      "    symmetry (mean):                      0.106  0.304\n",
      "    fractal dimension (mean):             0.05   0.097\n",
      "    radius (standard error):              0.112  2.873\n",
      "    texture (standard error):             0.36   4.885\n",
      "    perimeter (standard error):           0.757  21.98\n",
      "    area (standard error):                6.802  542.2\n",
      "    smoothness (standard error):          0.002  0.031\n",
      "    compactness (standard error):         0.002  0.135\n",
      "    concavity (standard error):           0.0    0.396\n",
      "    concave points (standard error):      0.0    0.053\n",
      "    symmetry (standard error):            0.008  0.079\n",
      "    fractal dimension (standard error):   0.001  0.03\n",
      "    radius (worst):                       7.93   36.04\n",
      "    texture (worst):                      12.02  49.54\n",
      "    perimeter (worst):                    50.41  251.2\n",
      "    area (worst):                         185.2  4254.0\n",
      "    smoothness (worst):                   0.071  0.223\n",
      "    compactness (worst):                  0.027  1.058\n",
      "    concavity (worst):                    0.0    1.252\n",
      "    concave points (worst):               0.0    0.291\n",
      "    symmetry (worst):                     0.156  0.664\n",
      "    fractal dimension (worst):            0.055  0.208\n",
      "    ===================================== ====== ======\n",
      "\n",
      "    :Missing Attribute Values: None\n",
      "\n",
      "    :Class Distribution: 212 - Malignant, 357 - Benign\n",
      "\n",
      "    :Creator:  Dr. William H. Wolberg, W. Nick Street, Olvi L. Mangasarian\n",
      "\n",
      "    :Donor: Nick Street\n",
      "\n",
      "    :Date: November, 1995\n",
      "\n",
      "This is a copy of UCI ML Breast Cancer Wisconsin (Diagnostic) datasets.\n",
      "https://goo.gl/U2Uwz2\n",
      "\n",
      "Features are computed from a digitized image of a fine needle\n",
      "aspirate (FNA) of a breast mass.  They describe\n",
      "characteristics of the cell nuclei present in the image.\n",
      "\n",
      "Separating plane described above was obtained using\n",
      "Multisurface Method-Tree (MSM-T) [K. P. Bennett, \"Decision Tree\n",
      "Construction Via Linear Programming.\" Proceedings of the 4th\n",
      "Midwest Artificial Intelligence and Cognitive Science Society,\n",
      "pp. 97-101, 1992], a classification method which uses linear\n",
      "programming to construct a decision tree.  Relevant features\n",
      "were selected using an exhaustive search in the space of 1-4\n",
      "features and 1-3 separating planes.\n",
      "\n",
      "The actual linear program used to obtain the separating plane\n",
      "in the 3-dimensional space is that described in:\n",
      "[K. P. Bennett and O. L. Mangasarian: \"Robust Linear\n",
      "Programming Discrimination of Two Linearly Inseparable Sets\",\n",
      "Optimization Methods and Software 1, 1992, 23-34].\n",
      "\n",
      "This database is also available through the UW CS ftp server:\n",
      "\n",
      "ftp ftp.cs.wisc.edu\n",
      "cd math-prog/cpo-dataset/machine-learn/WDBC/\n",
      "\n",
      "|details-start|\n",
      "**References**\n",
      "|details-split|\n",
      "\n",
      "- W.N. Street, W.H. Wolberg and O.L. Mangasarian. Nuclear feature extraction \n",
      "  for breast tumor diagnosis. IS&T/SPIE 1993 International Symposium on \n",
      "  Electronic Imaging: Science and Technology, volume 1905, pages 861-870,\n",
      "  San Jose, CA, 1993.\n",
      "- O.L. Mangasarian, W.N. Street and W.H. Wolberg. Breast cancer diagnosis and \n",
      "  prognosis via linear programming. Operations Research, 43(4), pages 570-577, \n",
      "  July-August 1995.\n",
      "- W.H. Wolberg, W.N. Street, and O.L. Mangasarian. Machine learning techniques\n",
      "  to diagnose breast cancer from fine-needle aspirates. Cancer Letters 77 (1994) \n",
      "  163-171.\n",
      "\n",
      "|details-end|\n"
     ]
    }
   ],
   "source": [
    "import numpy as np\n",
    "import pandas as pd\n",
    "\n",
    "from sklearn.datasets import load_breast_cancer\n",
    "\n",
    "b_cancer = load_breast_cancer()\n",
    "\n",
    "print(b_cancer.DESCR)"
   ]
  },
  {
   "cell_type": "code",
   "execution_count": 20,
   "id": "97ba9328-87c6-4528-b447-23a7a744d646",
   "metadata": {},
   "outputs": [],
   "source": [
    "b_cancer_df = pd.DataFrame(b_cancer.data, columns = b_cancer.feature_names)"
   ]
  },
  {
   "cell_type": "code",
   "execution_count": 21,
   "id": "4c08432f-7870-4259-917a-6a98802e9d01",
   "metadata": {},
   "outputs": [],
   "source": [
    "b_cancer_df['diagnosis']= b_cancer.target"
   ]
  },
  {
   "cell_type": "code",
   "execution_count": 22,
   "id": "ce69bddd-8b7e-4c71-9d14-450e97481cc6",
   "metadata": {},
   "outputs": [
    {
     "data": {
      "text/html": [
       "<div>\n",
       "<style scoped>\n",
       "    .dataframe tbody tr th:only-of-type {\n",
       "        vertical-align: middle;\n",
       "    }\n",
       "\n",
       "    .dataframe tbody tr th {\n",
       "        vertical-align: top;\n",
       "    }\n",
       "\n",
       "    .dataframe thead th {\n",
       "        text-align: right;\n",
       "    }\n",
       "</style>\n",
       "<table border=\"1\" class=\"dataframe\">\n",
       "  <thead>\n",
       "    <tr style=\"text-align: right;\">\n",
       "      <th></th>\n",
       "      <th>mean radius</th>\n",
       "      <th>mean texture</th>\n",
       "      <th>mean perimeter</th>\n",
       "      <th>mean area</th>\n",
       "      <th>mean smoothness</th>\n",
       "      <th>mean compactness</th>\n",
       "      <th>mean concavity</th>\n",
       "      <th>mean concave points</th>\n",
       "      <th>mean symmetry</th>\n",
       "      <th>mean fractal dimension</th>\n",
       "      <th>...</th>\n",
       "      <th>worst texture</th>\n",
       "      <th>worst perimeter</th>\n",
       "      <th>worst area</th>\n",
       "      <th>worst smoothness</th>\n",
       "      <th>worst compactness</th>\n",
       "      <th>worst concavity</th>\n",
       "      <th>worst concave points</th>\n",
       "      <th>worst symmetry</th>\n",
       "      <th>worst fractal dimension</th>\n",
       "      <th>diagnosis</th>\n",
       "    </tr>\n",
       "  </thead>\n",
       "  <tbody>\n",
       "    <tr>\n",
       "      <th>0</th>\n",
       "      <td>17.99</td>\n",
       "      <td>10.38</td>\n",
       "      <td>122.80</td>\n",
       "      <td>1001.0</td>\n",
       "      <td>0.11840</td>\n",
       "      <td>0.27760</td>\n",
       "      <td>0.3001</td>\n",
       "      <td>0.14710</td>\n",
       "      <td>0.2419</td>\n",
       "      <td>0.07871</td>\n",
       "      <td>...</td>\n",
       "      <td>17.33</td>\n",
       "      <td>184.60</td>\n",
       "      <td>2019.0</td>\n",
       "      <td>0.1622</td>\n",
       "      <td>0.6656</td>\n",
       "      <td>0.7119</td>\n",
       "      <td>0.2654</td>\n",
       "      <td>0.4601</td>\n",
       "      <td>0.11890</td>\n",
       "      <td>0</td>\n",
       "    </tr>\n",
       "    <tr>\n",
       "      <th>1</th>\n",
       "      <td>20.57</td>\n",
       "      <td>17.77</td>\n",
       "      <td>132.90</td>\n",
       "      <td>1326.0</td>\n",
       "      <td>0.08474</td>\n",
       "      <td>0.07864</td>\n",
       "      <td>0.0869</td>\n",
       "      <td>0.07017</td>\n",
       "      <td>0.1812</td>\n",
       "      <td>0.05667</td>\n",
       "      <td>...</td>\n",
       "      <td>23.41</td>\n",
       "      <td>158.80</td>\n",
       "      <td>1956.0</td>\n",
       "      <td>0.1238</td>\n",
       "      <td>0.1866</td>\n",
       "      <td>0.2416</td>\n",
       "      <td>0.1860</td>\n",
       "      <td>0.2750</td>\n",
       "      <td>0.08902</td>\n",
       "      <td>0</td>\n",
       "    </tr>\n",
       "    <tr>\n",
       "      <th>2</th>\n",
       "      <td>19.69</td>\n",
       "      <td>21.25</td>\n",
       "      <td>130.00</td>\n",
       "      <td>1203.0</td>\n",
       "      <td>0.10960</td>\n",
       "      <td>0.15990</td>\n",
       "      <td>0.1974</td>\n",
       "      <td>0.12790</td>\n",
       "      <td>0.2069</td>\n",
       "      <td>0.05999</td>\n",
       "      <td>...</td>\n",
       "      <td>25.53</td>\n",
       "      <td>152.50</td>\n",
       "      <td>1709.0</td>\n",
       "      <td>0.1444</td>\n",
       "      <td>0.4245</td>\n",
       "      <td>0.4504</td>\n",
       "      <td>0.2430</td>\n",
       "      <td>0.3613</td>\n",
       "      <td>0.08758</td>\n",
       "      <td>0</td>\n",
       "    </tr>\n",
       "    <tr>\n",
       "      <th>3</th>\n",
       "      <td>11.42</td>\n",
       "      <td>20.38</td>\n",
       "      <td>77.58</td>\n",
       "      <td>386.1</td>\n",
       "      <td>0.14250</td>\n",
       "      <td>0.28390</td>\n",
       "      <td>0.2414</td>\n",
       "      <td>0.10520</td>\n",
       "      <td>0.2597</td>\n",
       "      <td>0.09744</td>\n",
       "      <td>...</td>\n",
       "      <td>26.50</td>\n",
       "      <td>98.87</td>\n",
       "      <td>567.7</td>\n",
       "      <td>0.2098</td>\n",
       "      <td>0.8663</td>\n",
       "      <td>0.6869</td>\n",
       "      <td>0.2575</td>\n",
       "      <td>0.6638</td>\n",
       "      <td>0.17300</td>\n",
       "      <td>0</td>\n",
       "    </tr>\n",
       "    <tr>\n",
       "      <th>4</th>\n",
       "      <td>20.29</td>\n",
       "      <td>14.34</td>\n",
       "      <td>135.10</td>\n",
       "      <td>1297.0</td>\n",
       "      <td>0.10030</td>\n",
       "      <td>0.13280</td>\n",
       "      <td>0.1980</td>\n",
       "      <td>0.10430</td>\n",
       "      <td>0.1809</td>\n",
       "      <td>0.05883</td>\n",
       "      <td>...</td>\n",
       "      <td>16.67</td>\n",
       "      <td>152.20</td>\n",
       "      <td>1575.0</td>\n",
       "      <td>0.1374</td>\n",
       "      <td>0.2050</td>\n",
       "      <td>0.4000</td>\n",
       "      <td>0.1625</td>\n",
       "      <td>0.2364</td>\n",
       "      <td>0.07678</td>\n",
       "      <td>0</td>\n",
       "    </tr>\n",
       "  </tbody>\n",
       "</table>\n",
       "<p>5 rows × 31 columns</p>\n",
       "</div>"
      ],
      "text/plain": [
       "   mean radius  mean texture  mean perimeter  mean area  mean smoothness  \\\n",
       "0        17.99         10.38          122.80     1001.0          0.11840   \n",
       "1        20.57         17.77          132.90     1326.0          0.08474   \n",
       "2        19.69         21.25          130.00     1203.0          0.10960   \n",
       "3        11.42         20.38           77.58      386.1          0.14250   \n",
       "4        20.29         14.34          135.10     1297.0          0.10030   \n",
       "\n",
       "   mean compactness  mean concavity  mean concave points  mean symmetry  \\\n",
       "0           0.27760          0.3001              0.14710         0.2419   \n",
       "1           0.07864          0.0869              0.07017         0.1812   \n",
       "2           0.15990          0.1974              0.12790         0.2069   \n",
       "3           0.28390          0.2414              0.10520         0.2597   \n",
       "4           0.13280          0.1980              0.10430         0.1809   \n",
       "\n",
       "   mean fractal dimension  ...  worst texture  worst perimeter  worst area  \\\n",
       "0                 0.07871  ...          17.33           184.60      2019.0   \n",
       "1                 0.05667  ...          23.41           158.80      1956.0   \n",
       "2                 0.05999  ...          25.53           152.50      1709.0   \n",
       "3                 0.09744  ...          26.50            98.87       567.7   \n",
       "4                 0.05883  ...          16.67           152.20      1575.0   \n",
       "\n",
       "   worst smoothness  worst compactness  worst concavity  worst concave points  \\\n",
       "0            0.1622             0.6656           0.7119                0.2654   \n",
       "1            0.1238             0.1866           0.2416                0.1860   \n",
       "2            0.1444             0.4245           0.4504                0.2430   \n",
       "3            0.2098             0.8663           0.6869                0.2575   \n",
       "4            0.1374             0.2050           0.4000                0.1625   \n",
       "\n",
       "   worst symmetry  worst fractal dimension  diagnosis  \n",
       "0          0.4601                  0.11890          0  \n",
       "1          0.2750                  0.08902          0  \n",
       "2          0.3613                  0.08758          0  \n",
       "3          0.6638                  0.17300          0  \n",
       "4          0.2364                  0.07678          0  \n",
       "\n",
       "[5 rows x 31 columns]"
      ]
     },
     "execution_count": 22,
     "metadata": {},
     "output_type": "execute_result"
    }
   ],
   "source": [
    "b_cancer_df.head()"
   ]
  },
  {
   "cell_type": "code",
   "execution_count": 23,
   "id": "2d4c2781-eca3-4985-b7e3-f576b26da948",
   "metadata": {},
   "outputs": [
    {
     "name": "stdout",
     "output_type": "stream",
     "text": [
      "유방암 진단 데이터셋 크기:  (569, 31)\n"
     ]
    }
   ],
   "source": [
    "print('유방암 진단 데이터셋 크기: ', b_cancer_df.shape)"
   ]
  },
  {
   "cell_type": "code",
   "execution_count": 25,
   "id": "82267096-e099-4a40-bb4d-106b405a87b0",
   "metadata": {},
   "outputs": [
    {
     "name": "stdout",
     "output_type": "stream",
     "text": [
      "<class 'pandas.core.frame.DataFrame'>\n",
      "RangeIndex: 569 entries, 0 to 568\n",
      "Data columns (total 31 columns):\n",
      " #   Column                   Non-Null Count  Dtype  \n",
      "---  ------                   --------------  -----  \n",
      " 0   mean radius              569 non-null    float64\n",
      " 1   mean texture             569 non-null    float64\n",
      " 2   mean perimeter           569 non-null    float64\n",
      " 3   mean area                569 non-null    float64\n",
      " 4   mean smoothness          569 non-null    float64\n",
      " 5   mean compactness         569 non-null    float64\n",
      " 6   mean concavity           569 non-null    float64\n",
      " 7   mean concave points      569 non-null    float64\n",
      " 8   mean symmetry            569 non-null    float64\n",
      " 9   mean fractal dimension   569 non-null    float64\n",
      " 10  radius error             569 non-null    float64\n",
      " 11  texture error            569 non-null    float64\n",
      " 12  perimeter error          569 non-null    float64\n",
      " 13  area error               569 non-null    float64\n",
      " 14  smoothness error         569 non-null    float64\n",
      " 15  compactness error        569 non-null    float64\n",
      " 16  concavity error          569 non-null    float64\n",
      " 17  concave points error     569 non-null    float64\n",
      " 18  symmetry error           569 non-null    float64\n",
      " 19  fractal dimension error  569 non-null    float64\n",
      " 20  worst radius             569 non-null    float64\n",
      " 21  worst texture            569 non-null    float64\n",
      " 22  worst perimeter          569 non-null    float64\n",
      " 23  worst area               569 non-null    float64\n",
      " 24  worst smoothness         569 non-null    float64\n",
      " 25  worst compactness        569 non-null    float64\n",
      " 26  worst concavity          569 non-null    float64\n",
      " 27  worst concave points     569 non-null    float64\n",
      " 28  worst symmetry           569 non-null    float64\n",
      " 29  worst fractal dimension  569 non-null    float64\n",
      " 30  diagnosis                569 non-null    int32  \n",
      "dtypes: float64(30), int32(1)\n",
      "memory usage: 135.7 KB\n"
     ]
    }
   ],
   "source": [
    "b_cancer_df.info()"
   ]
  },
  {
   "cell_type": "code",
   "execution_count": 27,
   "id": "7b299625-83da-471f-99d2-2c9c146c5dd3",
   "metadata": {},
   "outputs": [
    {
     "name": "stdout",
     "output_type": "stream",
     "text": [
      "[1.799e+01 1.038e+01 1.228e+02 1.001e+03 1.184e-01 2.776e-01 3.001e-01\n",
      " 1.471e-01 2.419e-01 7.871e-02 1.095e+00 9.053e-01 8.589e+00 1.534e+02\n",
      " 6.399e-03 4.904e-02 5.373e-02 1.587e-02 3.003e-02 6.193e-03 2.538e+01\n",
      " 1.733e+01 1.846e+02 2.019e+03 1.622e-01 6.656e-01 7.119e-01 2.654e-01\n",
      " 4.601e-01 1.189e-01]\n"
     ]
    }
   ],
   "source": [
    "from sklearn.preprocessing import StandardScaler\n",
    "\n",
    "scaler = StandardScaler()\n",
    "b_cancer_scaled = scaler.fit_transform(b_cancer.data)\n",
    "\n",
    "print(b_cancer.data[0])"
   ]
  },
  {
   "cell_type": "code",
   "execution_count": 28,
   "id": "9f308d4e-8a26-484b-8628-5b9b705b7fa0",
   "metadata": {},
   "outputs": [
    {
     "name": "stdout",
     "output_type": "stream",
     "text": [
      "[ 1.09706398 -2.07333501  1.26993369  0.9843749   1.56846633  3.28351467\n",
      "  2.65287398  2.53247522  2.21751501  2.25574689  2.48973393 -0.56526506\n",
      "  2.83303087  2.48757756 -0.21400165  1.31686157  0.72402616  0.66081994\n",
      "  1.14875667  0.90708308  1.88668963 -1.35929347  2.30360062  2.00123749\n",
      "  1.30768627  2.61666502  2.10952635  2.29607613  2.75062224  1.93701461]\n"
     ]
    }
   ],
   "source": [
    "print(b_cancer_scaled[0])"
   ]
  },
  {
   "cell_type": "code",
   "execution_count": 29,
   "id": "059fbb83-31c0-4e54-a4a4-88b86247d59e",
   "metadata": {},
   "outputs": [
    {
     "data": {
      "text/html": [
       "<style>#sk-container-id-1 {color: black;}#sk-container-id-1 pre{padding: 0;}#sk-container-id-1 div.sk-toggleable {background-color: white;}#sk-container-id-1 label.sk-toggleable__label {cursor: pointer;display: block;width: 100%;margin-bottom: 0;padding: 0.3em;box-sizing: border-box;text-align: center;}#sk-container-id-1 label.sk-toggleable__label-arrow:before {content: \"▸\";float: left;margin-right: 0.25em;color: #696969;}#sk-container-id-1 label.sk-toggleable__label-arrow:hover:before {color: black;}#sk-container-id-1 div.sk-estimator:hover label.sk-toggleable__label-arrow:before {color: black;}#sk-container-id-1 div.sk-toggleable__content {max-height: 0;max-width: 0;overflow: hidden;text-align: left;background-color: #f0f8ff;}#sk-container-id-1 div.sk-toggleable__content pre {margin: 0.2em;color: black;border-radius: 0.25em;background-color: #f0f8ff;}#sk-container-id-1 input.sk-toggleable__control:checked~div.sk-toggleable__content {max-height: 200px;max-width: 100%;overflow: auto;}#sk-container-id-1 input.sk-toggleable__control:checked~label.sk-toggleable__label-arrow:before {content: \"▾\";}#sk-container-id-1 div.sk-estimator input.sk-toggleable__control:checked~label.sk-toggleable__label {background-color: #d4ebff;}#sk-container-id-1 div.sk-label input.sk-toggleable__control:checked~label.sk-toggleable__label {background-color: #d4ebff;}#sk-container-id-1 input.sk-hidden--visually {border: 0;clip: rect(1px 1px 1px 1px);clip: rect(1px, 1px, 1px, 1px);height: 1px;margin: -1px;overflow: hidden;padding: 0;position: absolute;width: 1px;}#sk-container-id-1 div.sk-estimator {font-family: monospace;background-color: #f0f8ff;border: 1px dotted black;border-radius: 0.25em;box-sizing: border-box;margin-bottom: 0.5em;}#sk-container-id-1 div.sk-estimator:hover {background-color: #d4ebff;}#sk-container-id-1 div.sk-parallel-item::after {content: \"\";width: 100%;border-bottom: 1px solid gray;flex-grow: 1;}#sk-container-id-1 div.sk-label:hover label.sk-toggleable__label {background-color: #d4ebff;}#sk-container-id-1 div.sk-serial::before {content: \"\";position: absolute;border-left: 1px solid gray;box-sizing: border-box;top: 0;bottom: 0;left: 50%;z-index: 0;}#sk-container-id-1 div.sk-serial {display: flex;flex-direction: column;align-items: center;background-color: white;padding-right: 0.2em;padding-left: 0.2em;position: relative;}#sk-container-id-1 div.sk-item {position: relative;z-index: 1;}#sk-container-id-1 div.sk-parallel {display: flex;align-items: stretch;justify-content: center;background-color: white;position: relative;}#sk-container-id-1 div.sk-item::before, #sk-container-id-1 div.sk-parallel-item::before {content: \"\";position: absolute;border-left: 1px solid gray;box-sizing: border-box;top: 0;bottom: 0;left: 50%;z-index: -1;}#sk-container-id-1 div.sk-parallel-item {display: flex;flex-direction: column;z-index: 1;position: relative;background-color: white;}#sk-container-id-1 div.sk-parallel-item:first-child::after {align-self: flex-end;width: 50%;}#sk-container-id-1 div.sk-parallel-item:last-child::after {align-self: flex-start;width: 50%;}#sk-container-id-1 div.sk-parallel-item:only-child::after {width: 0;}#sk-container-id-1 div.sk-dashed-wrapped {border: 1px dashed gray;margin: 0 0.4em 0.5em 0.4em;box-sizing: border-box;padding-bottom: 0.4em;background-color: white;}#sk-container-id-1 div.sk-label label {font-family: monospace;font-weight: bold;display: inline-block;line-height: 1.2em;}#sk-container-id-1 div.sk-label-container {text-align: center;}#sk-container-id-1 div.sk-container {/* jupyter's `normalize.less` sets `[hidden] { display: none; }` but bootstrap.min.css set `[hidden] { display: none !important; }` so we also need the `!important` here to be able to override the default hidden behavior on the sphinx rendered scikit-learn.org. See: https://github.com/scikit-learn/scikit-learn/issues/21755 */display: inline-block !important;position: relative;}#sk-container-id-1 div.sk-text-repr-fallback {display: none;}</style><div id=\"sk-container-id-1\" class=\"sk-top-container\"><div class=\"sk-text-repr-fallback\"><pre>LogisticRegression()</pre><b>In a Jupyter environment, please rerun this cell to show the HTML representation or trust the notebook. <br />On GitHub, the HTML representation is unable to render, please try loading this page with nbviewer.org.</b></div><div class=\"sk-container\" hidden><div class=\"sk-item\"><div class=\"sk-estimator sk-toggleable\"><input class=\"sk-toggleable__control sk-hidden--visually\" id=\"sk-estimator-id-1\" type=\"checkbox\" checked><label for=\"sk-estimator-id-1\" class=\"sk-toggleable__label sk-toggleable__label-arrow\">LogisticRegression</label><div class=\"sk-toggleable__content\"><pre>LogisticRegression()</pre></div></div></div></div></div>"
      ],
      "text/plain": [
       "LogisticRegression()"
      ]
     },
     "execution_count": 29,
     "metadata": {},
     "output_type": "execute_result"
    }
   ],
   "source": [
    "from sklearn.linear_model import LogisticRegression \n",
    "from sklearn.model_selection import train_test_split\n",
    "\n",
    "#X, Y 설정하기 \n",
    "Y = b_cancer_df['diagnosis'] \n",
    "X = b_cancer_scaled\n",
    "\n",
    "#훈련용 데이터와 평가용 데이터 분할하기 \n",
    "X_train, X_test, Y_train, Y_test = train_test_split(X, Y, test_size = 0.3, random_state = 0)\n",
    "\n",
    "#로지스틱 회귀 분석: (1) 모델 생성 \n",
    "lr_b_cancer = LogisticRegression()\n",
    "\n",
    "#로지스틱 회귀 분석: (2) 모델 훈련\n",
    "lr_b_cancer.fit(X_train, Y_train)"
   ]
  },
  {
   "cell_type": "code",
   "execution_count": 35,
   "id": "80a42465-e8bf-4d9d-9cde-76a3966137c9",
   "metadata": {},
   "outputs": [],
   "source": [
    "#로지스틱 회귀 분석: (3) 평가 데이터에 대한 예측 수행 -> 예측 결과 Y_predict 구하기 \n",
    "Y_predict = lr_b_cancer.predict(X_test)"
   ]
  },
  {
   "cell_type": "code",
   "execution_count": 36,
   "id": "af1db88c-a23c-44e8-b7b7-b2d7f9f9f0b2",
   "metadata": {},
   "outputs": [
    {
     "data": {
      "text/plain": [
       "array([[ 60,   3],\n",
       "       [  1, 107]], dtype=int64)"
      ]
     },
     "execution_count": 36,
     "metadata": {},
     "output_type": "execute_result"
    }
   ],
   "source": [
    "from sklearn.metrics import confusion_matrix, accuracy_score \n",
    "from sklearn.metrics import precision_score, recall_score, f1_score, roc_auc_score\n",
    "\n",
    "#오차 행렬\n",
    "confusion_matrix(Y_test, Y_predict)"
   ]
  },
  {
   "cell_type": "code",
   "execution_count": 37,
   "id": "662b2435-1015-4e09-b76b-67c90d58d4af",
   "metadata": {},
   "outputs": [
    {
     "name": "stdout",
     "output_type": "stream",
     "text": [
      "정확도: 0.977, 정밀도: 0.973, 재현율: 0.991, F1: 0.982\n"
     ]
    }
   ],
   "source": [
    "acccuracy = accuracy_score(Y_test, Y_predict) \n",
    "precision = precision_score(Y_test, Y_predict) \n",
    "recall = recall_score(Y_test, Y_predict) \n",
    "f1 = f1_score(Y_test, Y_predict) \n",
    "roc_auc = roc_auc_score(Y_test, Y_predict)\n",
    "\n",
    "print('정확도: {0:.3f}, 정밀도: {1:.3f}, 재현율: {2:.3f}, F1: {3:.3f}'.format(acccuracy,precision,recall,f1))"
   ]
  },
  {
   "cell_type": "code",
   "execution_count": 38,
   "id": "e247f522-e651-4977-90ac-4e3dea718e0b",
   "metadata": {},
   "outputs": [
    {
     "name": "stdout",
     "output_type": "stream",
     "text": [
      "ROC_AUC: 0.972\n"
     ]
    }
   ],
   "source": [
    "print('ROC_AUC: {0:.3f}'.format(roc_auc))"
   ]
  },
  {
   "cell_type": "code",
   "execution_count": null,
   "id": "10be9dcf-4014-4bcf-ab4b-14cea215f9b3",
   "metadata": {},
   "outputs": [],
   "source": []
  },
  {
   "cell_type": "code",
   "execution_count": null,
   "id": "e71e21a4-452e-4677-a3ea-9748f507ee09",
   "metadata": {},
   "outputs": [],
   "source": []
  },
  {
   "cell_type": "markdown",
   "id": "ffddc441-31ea-4a02-a323-498dbd6ee150",
   "metadata": {},
   "source": [
    "## 의사결정트리 기법"
   ]
  },
  {
   "cell_type": "code",
   "execution_count": null,
   "id": "0e138921-318a-4721-9062-ce5a3e09e3ce",
   "metadata": {},
   "outputs": [],
   "source": [
    "import pandas as pd\n",
    "\n",
    "df =  pd.read_csv('https://raw.githubusercontent.com/kznetwork/DataAnalysis/main/datasets/titanic_sns.csv')\n",
    "df.head()"
   ]
  },
  {
   "cell_type": "code",
   "execution_count": null,
   "id": "b5e22e98-318e-4a93-b3ff-17192015bf81",
   "metadata": {},
   "outputs": [],
   "source": [
    "feature_names = [\"pclass\", \"age\", \"Gender\"]\n",
    "dfX = df[feature_names].copy()\n",
    "dfy = df[\"survived\"].copy()\n",
    "dfX.tail()"
   ]
  },
  {
   "cell_type": "code",
   "execution_count": null,
   "id": "5f71c883-0002-428f-8397-4a415d46ada5",
   "metadata": {},
   "outputs": [],
   "source": [
    "from sklearn.preprocessing import LabelEncoder\n",
    "dfX[\"Gender\"] = LabelEncoder().fit_transform(dfX[\"Gender\"])\n",
    "dfX.tail()"
   ]
  },
  {
   "cell_type": "code",
   "execution_count": null,
   "id": "2f10b008-d7ec-4347-8a7a-70983d5ae7a2",
   "metadata": {},
   "outputs": [],
   "source": [
    "dfX[\"age\"].fillna(dfX[\"age\"].mean(), inplace=True)\n",
    "dfX.tail()"
   ]
  },
  {
   "cell_type": "code",
   "execution_count": null,
   "id": "6907e4ff-3be5-42a8-8968-40f41accb591",
   "metadata": {},
   "outputs": [],
   "source": [
    "from sklearn.preprocessing import LabelBinarizer\n",
    "import pandas as pd\n",
    "\n",
    "dfX2 = pd.DataFrame(LabelBinarizer().fit_transform(dfX[\"pclass\"]),\n",
    "                    columns=['c1', 'c2', 'c3'], index=dfX.index)\n",
    "dfX = pd.concat([dfX, dfX2], axis=1)\n",
    "del(dfX[\"pclass\"])\n",
    "dfX.tail()"
   ]
  },
  {
   "cell_type": "code",
   "execution_count": null,
   "id": "0a4f249b-8a63-4720-9d13-45150e81fc68",
   "metadata": {},
   "outputs": [],
   "source": [
    "from sklearn.metrics import confusion_matrix\n",
    "from sklearn.metrics import classification_report\n",
    "\n",
    "confusion_matrix(y_train, model.predict(X_train))\n",
    "\n",
    "confusion_matrix(y_test, model.predict(X_test))\n",
    "\n",
    "print(classification_report(y_train, model.predict(X_train)))"
   ]
  },
  {
   "cell_type": "markdown",
   "id": "5eb1f5b5-7fc1-46ca-92de-60f5cb788a0d",
   "metadata": {},
   "source": [
    "# Ensemble Learning"
   ]
  },
  {
   "cell_type": "markdown",
   "id": "df758f0d-5f70-45d3-97b9-633b961a3f16",
   "metadata": {},
   "source": [
    "## 배깅(Bagging)\n"
   ]
  },
  {
   "cell_type": "code",
   "execution_count": null,
   "id": "cd2d105e-16a1-457e-bee1-53afcfe27c8e",
   "metadata": {},
   "outputs": [],
   "source": [
    "import pandas as pd\n",
    "import numpy as np\n",
    "from sklearn.model_selection import train_test_split\n",
    "\n",
    "data=pd.read_csv(\"https://raw.githubusercontent.com/kznetwork/DataAnalysis/main/datasets/kc-house-data.csv\")\n",
    "data.head()"
   ]
  },
  {
   "cell_type": "code",
   "execution_count": null,
   "id": "f7298873-24ec-49e5-9bce-c5ee8474e667",
   "metadata": {},
   "outputs": [],
   "source": [
    "nCar=data.shape[0]\n",
    "nVar=data.shape[1]\n",
    "print(nCar, nVar)"
   ]
  },
  {
   "cell_type": "code",
   "execution_count": null,
   "id": "f404e40b-dc9a-49c6-b992-789d127f4cab",
   "metadata": {},
   "outputs": [],
   "source": [
    "data=data.drop(['id','date','zipcode','lat','long'],axis=1)"
   ]
  },
  {
   "cell_type": "code",
   "execution_count": null,
   "id": "5ffed63b-fb42-4f8b-9bf9-d8ccd0a6ec5e",
   "metadata": {},
   "outputs": [],
   "source": [
    "feature_columns=list(data.columns.difference(['price']))\n",
    "X=data[feature_columns]\n",
    "y=data['price']"
   ]
  },
  {
   "cell_type": "code",
   "execution_count": null,
   "id": "dc5225d3-4095-479c-8967-98e8ddb2de95",
   "metadata": {},
   "outputs": [],
   "source": [
    "X"
   ]
  },
  {
   "cell_type": "code",
   "execution_count": null,
   "id": "829d2fae-9ec1-4ae6-ba2a-ba9c5da7b283",
   "metadata": {},
   "outputs": [],
   "source": [
    "y"
   ]
  },
  {
   "cell_type": "code",
   "execution_count": null,
   "id": "de48d6a0-5176-4881-a240-2c986e6cea82",
   "metadata": {},
   "outputs": [],
   "source": [
    "train_x,test_x,train_y,test_y=train_test_split(X,y,test_size=0.3,random_state=42)\n",
    "print(train_x.shape,test_x.shape,train_y.shape,test_y.shape)"
   ]
  },
  {
   "cell_type": "code",
   "execution_count": null,
   "id": "38d2c4e5-f97c-48cc-8ec3-133df3565f72",
   "metadata": {},
   "outputs": [],
   "source": [
    "# 라이브러리 임포트\n",
    "from sklearn.linear_model import LinearRegression\n",
    "import math\n",
    "from sklearn.metrics import mean_squared_error\n",
    "# 선형회귀모델생성\n",
    "regression_model=LinearRegression()\n",
    "# 훈련\n",
    "linear_model1=regression_model.fit(train_x, train_y)\n",
    "# 예측\n",
    "predict1=linear_model1.predict(test_x)\n",
    "# 결과 인쇄\n",
    "print('RMSE: {}'.format(math.sqrt(mean_squared_error(predict1, test_y))))"
   ]
  },
  {
   "cell_type": "markdown",
   "id": "31b561a6-0c6b-4aa4-b838-4200954bf765",
   "metadata": {},
   "source": [
    "## Random Forest"
   ]
  },
  {
   "cell_type": "code",
   "execution_count": null,
   "id": "477a12f7-8c1e-422d-b625-ac4720e47354",
   "metadata": {},
   "outputs": [],
   "source": [
    "from sklearn.datasets import load_iris\n",
    "from sklearn import tree\n",
    "from sklearn.metrics import accuracy_score\n",
    "import numpy as np\n",
    "import pandas as pd\n",
    "\n",
    "#loading the iris dataset\n",
    "iris = load_iris()\n",
    "\n",
    "#training data 설정 \n",
    "x_train = iris.data[:-30]\n",
    "y_train = iris.target[:-30]\n",
    "#test data 설정\n",
    "x_test = iris.data[-30:] # test feature data  \n",
    "y_test = iris.target[-30:] # test target data\n",
    "\n",
    "print(y_train)\n",
    "\n",
    "print(y_test)"
   ]
  },
  {
   "cell_type": "code",
   "execution_count": null,
   "id": "80b33c81-f0f5-410b-a087-7c8f7cdb7852",
   "metadata": {},
   "outputs": [],
   "source": [
    "#RandomForestClassifier libary를 import\n",
    "from sklearn.ensemble import RandomForestClassifier\n",
    "#tree 의 개수 Random Forest 분류 모듈 생성\n",
    "rfc = RandomForestClassifier(n_estimators=10) \n",
    "rfc"
   ]
  },
  {
   "cell_type": "code",
   "execution_count": null,
   "id": "cf747018-b919-43ca-b2bf-20694d2c37f4",
   "metadata": {},
   "outputs": [],
   "source": [
    "rfc.fit(x_train, y_train)\n",
    "#Test data를 입력해 target data를 예측 \n",
    "prediction = rfc.predict(x_test)\n",
    "#예측 결과 precision과 실제 test data의 target 을 비교 \n",
    "print (prediction==y_test)"
   ]
  },
  {
   "cell_type": "code",
   "execution_count": null,
   "id": "fbb59d47-62de-42a5-98f5-fbdb8f8d64c7",
   "metadata": {},
   "outputs": [],
   "source": [
    "#Random forest 정확도 츶정\n",
    "rfc.score(x_test, y_test)"
   ]
  },
  {
   "cell_type": "code",
   "execution_count": null,
   "id": "f0a841c0-b192-4f09-a017-90bba2a58d6b",
   "metadata": {},
   "outputs": [],
   "source": [
    "from sklearn.metrics import accuracy_score\n",
    "from sklearn.metrics import classification_report\n",
    "\n",
    "\n",
    "print (\"Accuracy is : \",accuracy_score(prediction, y_test))\n",
    "print (\"=======================================================\")\n",
    "print (classification_report(prediction, y_test))"
   ]
  },
  {
   "cell_type": "code",
   "execution_count": null,
   "id": "6b5b0663-9a2b-48d1-a87a-bb338cac5d8f",
   "metadata": {},
   "outputs": [],
   "source": [
    "from sklearn.model_selection import train_test_split\n",
    "x = iris.data\n",
    "y = iris.target\n",
    "X_train, X_test, Y_train, Y_test = train_test_split(x, y, test_size=0.2)\n",
    "print (y_test)\n",
    "print (Y_test)"
   ]
  },
  {
   "cell_type": "code",
   "execution_count": null,
   "id": "1ce97ed8-3129-4ef9-af68-169c8363b6d3",
   "metadata": {},
   "outputs": [],
   "source": [
    "clf = RandomForestClassifier(n_estimators=10)\n",
    "clf.fit(X_train, Y_train)\n",
    "prediction_1 = rfc.predict(X_test)\n",
    "#print (prediction_1 == Y_test)\n",
    "print (\"Accuracy is : \",accuracy_score(prediction_1, Y_test))\n",
    "print (\"=======================================================\")\n",
    "print (classification_report(prediction_1, Y_test))"
   ]
  },
  {
   "cell_type": "code",
   "execution_count": null,
   "id": "ef897d35-8b87-4d2c-a41c-c555a8e4db44",
   "metadata": {},
   "outputs": [],
   "source": [
    "# Initialize the model\n",
    "clf_2 = RandomForestClassifier(n_estimators=200, # Number of trees\n",
    "                               max_features=4,    # Num features considered\n",
    "                                  oob_score=True)    # Use OOB scoring*\n",
    "clf_2.fit(X_train, Y_train)\n",
    "prediction_2 = clf_2.predict(X_test)\n",
    "print (prediction_2 == Y_test)\n",
    "print (\"Accuracy is : \",accuracy_score(prediction_2, Y_test))\n",
    "print (\"=======================================================\")\n",
    "print (classification_report(prediction_2, Y_test))"
   ]
  },
  {
   "cell_type": "code",
   "execution_count": null,
   "id": "b8c5f995-ebad-4b2a-bfbc-886db7f792e8",
   "metadata": {},
   "outputs": [],
   "source": [
    "for feature, imp in zip(iris.feature_names, clf_2.feature_importances_):\n",
    "    print(feature, imp)"
   ]
  },
  {
   "cell_type": "markdown",
   "id": "3dc9f05e-23b6-4922-9a02-e9ca1127dffc",
   "metadata": {},
   "source": [
    "### 특성 중요도"
   ]
  },
  {
   "cell_type": "code",
   "execution_count": null,
   "id": "20f662de-a0dd-45fe-8562-afc510b7f7bc",
   "metadata": {},
   "outputs": [],
   "source": [
    "pip install mglearn"
   ]
  },
  {
   "cell_type": "code",
   "execution_count": null,
   "id": "a7e6db18-f593-495e-8dd4-774dadde6414",
   "metadata": {},
   "outputs": [],
   "source": [
    "from sklearn.datasets import load_breast_cancer\n",
    "from sklearn.ensemble import RandomForestClassifier\n",
    "from sklearn.model_selection import train_test_split\n",
    "import matplotlib.pyplot as plt\n",
    "import mglearn\n",
    "import numpy as np\n",
    "\n",
    "cancer = load_breast_cancer()\n",
    "\n",
    "# 훈련/테스트 세트로 나누기\n",
    "X_train, X_test, y_train, y_test = train_test_split(cancer.data,cancer.target, random_state=0)\n",
    "forest = RandomForestClassifier(n_estimators=100,random_state=0)\n",
    "forest.fit(X_train,y_train)\n",
    "\n",
    "print(\"훈련 세트 정확도 : {:.3f}\".format(forest.score(X_train,y_train)))\n",
    "print(\"테스트 세트 정확도 : {:.3f}\".format(forest.score(X_test,y_test)))\n",
    "\n",
    "# 특성 중요도\n",
    "print(\"특성 중요도 : \\n{}\".format(forest.feature_importances_))"
   ]
  },
  {
   "cell_type": "code",
   "execution_count": null,
   "id": "c69d4e56-ce76-4d15-827d-63a4de3bf02c",
   "metadata": {},
   "outputs": [],
   "source": [
    "# 특성 중요도 시각화 하기\n",
    "\n",
    "def plot_feature_importances_cancer(model):\n",
    "    n_features = cancer.data.shape[1]\n",
    "    plt.barh(range(n_features), model.feature_importances_, align='center')\n",
    "    plt.yticks(np.arange(n_features), cancer.feature_names)\n",
    "    plt.xlabel(\"attr importances\")\n",
    "    plt.ylabel(\"attr\")\n",
    "    plt.ylim(-1, n_features)\n",
    "    \n",
    "plt.show()\n",
    "\n",
    "plot_feature_importances_cancer(forest)"
   ]
  },
  {
   "cell_type": "markdown",
   "id": "411b1922-0946-4979-8652-46992e8f0fe6",
   "metadata": {},
   "source": [
    "## Boosting"
   ]
  },
  {
   "cell_type": "markdown",
   "id": "df4d2b84-36ba-4023-9386-83e8bd3eb90a",
   "metadata": {},
   "source": [
    "### AdaBoost 사용해 보기"
   ]
  },
  {
   "cell_type": "code",
   "execution_count": null,
   "id": "1d611b9f-c3e6-43d3-9734-71e1fa65cdc4",
   "metadata": {},
   "outputs": [],
   "source": [
    "# 1. 에이다 부스트\n",
    "# 라이브러리 임포트\n",
    "from sklearn.ensemble import AdaBoostClassifier\n",
    "from sklearn import datasets\n",
    "# 데이터 로드-아이리스\n",
    "iris=datasets.load_iris()\n",
    "# 특성 초기화\n",
    "data=iris.data\n",
    "target=iris.target\n",
    "# 부스팅 관련 분류기 객체 생성\n",
    "adaboost=AdaBoostClassifier(random_state=0)\n",
    "# 훈련\n",
    "rs_ada=adaboost.fit(data, target)\n",
    "rs_ada.feature_importances_"
   ]
  },
  {
   "cell_type": "markdown",
   "id": "7f981c29-1f20-4db3-bdb0-8543bbfe814b",
   "metadata": {},
   "source": [
    "### Gradient Boost(GBM) 사용해 보기\n"
   ]
  },
  {
   "cell_type": "code",
   "execution_count": null,
   "id": "6a75be08-0f2d-4db4-9d6d-99edf1f5c5b1",
   "metadata": {},
   "outputs": [],
   "source": [
    "# 라이브러리 임포트\n",
    "from sklearn.ensemble import GradientBoostingClassifier\n",
    "from sklearn import datasets\n",
    "# 데이터 로드-아이리스\n",
    "iris=datasets.load_iris()\n",
    "# 특성 초기화\n",
    "data=iris.data\n",
    "target=iris.target\n",
    "# 부스팅 관련 분류기 객체 생성\n",
    "gradientboost=GradientBoostingClassifier(random_state=0)\n",
    "# 훈련\n",
    "rs_gb=gradientboost.fit(data, target)\n",
    "rs_gb.feature_importances_"
   ]
  },
  {
   "cell_type": "code",
   "execution_count": null,
   "id": "0891c0a3-211b-4808-8300-3d501af7c96c",
   "metadata": {},
   "outputs": [],
   "source": [
    "from sklearn.datasets import load_breast_cancer\n",
    "from sklearn.ensemble import GradientBoostingClassifier\n",
    "from sklearn.model_selection import train_test_split\n",
    "import matplotlib.pyplot as plt\n",
    "import mglearn\n",
    "import numpy as np\n",
    "\n",
    "cancer = load_breast_cancer()\n",
    "\n",
    "# 훈련/테스트 세트로 나누기\n",
    "X_train, X_test, y_train, y_test = train_test_split(cancer.data,cancer.target, random_state=0)\n",
    "\n",
    "gbrt = GradientBoostingClassifier(random_state=0)\n",
    "\n",
    "gbrt.fit(X_train,y_train)\n",
    "\n",
    "print(\"훈련 세트 정확도 : {:.3f}\".format(gbrt.score(X_train,y_train)))\n",
    "print(\"테스트 세트 정확도 : {:.3f}\".format(gbrt.score(X_test,y_test)))\n"
   ]
  },
  {
   "cell_type": "code",
   "execution_count": null,
   "id": "ed74ab09-e2e8-475e-a4b4-410dd76a0b65",
   "metadata": {},
   "outputs": [],
   "source": [
    "from sklearn.datasets import load_breast_cancer\n",
    "from sklearn.ensemble import GradientBoostingClassifier\n",
    "from sklearn.model_selection import train_test_split\n",
    "\n",
    "cancer = load_breast_cancer()\n",
    "\n",
    "# 훈련/테스트 세트로 나누기\n",
    "X_train, X_test, y_train, y_test = train_test_split(cancer.data,cancer.target, random_state=0) \n",
    "\n",
    "gbrt = GradientBoostingClassifier(random_state=0)\n",
    "\n",
    "gbrt.fit(X_train,y_train)\n",
    "\n",
    "print(\"훈련 세트 정확도 : {:.3f}\".format(gbrt.score(X_train,y_train)))\n",
    "print(\"테스트 세트 정확도 : {:.3f}\".format(gbrt.score(X_test,y_test)))\n",
    "\n",
    "# 훈련 세트 정확도 : 1.000\n",
    "# 테스트 세트 정확도 : 0.958\n",
    "# 훈련 세트의 정확도가 100%이므로 과대적합되었다.\n",
    "# 과대적합을 막기위해 사전 가지치기를 합니다.\n",
    "\n",
    "gbrt = GradientBoostingClassifier(random_state=0,max_depth=1)\n",
    "\n",
    "gbrt.fit(X_train,y_train)\n",
    "\n",
    "print(\"훈련 세트 정확도 : {:.3f}\".format(gbrt.score(X_train,y_train)))\n",
    "print(\"테스트 세트 정확도 : {:.3f}\".format(gbrt.score(X_test,y_test)))"
   ]
  },
  {
   "cell_type": "code",
   "execution_count": null,
   "id": "c6c1f413-8cec-449f-8e40-1792bf559e06",
   "metadata": {},
   "outputs": [],
   "source": [
    "# 과대적합을 막기위해 학습률을 낮춘다\n",
    "\n",
    "gbrt = GradientBoostingClassifier(random_state=0,learning_rate=0.01)\n",
    "\n",
    "gbrt.fit(X_train,y_train) \n",
    "\n",
    "print(\"훈련 세트 정확도 : {:.3f}\".format(gbrt.score(X_train,y_train)))\n",
    "print(\"테스트 세트 정확도 : {:.3f}\".format(gbrt.score(X_test,y_test)))"
   ]
  },
  {
   "cell_type": "code",
   "execution_count": null,
   "id": "b5cfbfb6-41f7-4672-a2ee-00ef448bfe8b",
   "metadata": {},
   "outputs": [],
   "source": [
    "from sklearn.datasets import load_breast_cancer\n",
    "from sklearn.ensemble import GradientBoostingClassifier\n",
    "from sklearn.model_selection import train_test_split\n",
    "import matplotlib.pyplot as plt\n",
    "import numpy as np\n",
    "\n",
    "cancer = load_breast_cancer()\n",
    "\n",
    "# 훈련/테스트 세트로 나누기\n",
    "X_train, X_test, y_train, y_test = train_test_split(cancer.data, cancer.target, random_state=0)\n",
    "\n",
    "# 훈련 세트의 정확도가 100%이므로 과대적합되었다.\n",
    "# 과대적합을 막기위해 사전 가지치기를 합니다.\n",
    "gbrt = GradientBoostingClassifier(random_state=0, max_depth=1)\n",
    "\n",
    "gbrt.fit(X_train, y_train)\n",
    "\n",
    "print(\"훈련 세트 정확도 : {:.3f}\".format(gbrt.score(X_train, y_train)))\n",
    "print(\"테스트 세트 정확도 : {:.3f}\".format(gbrt.score(X_test, y_test)))\n",
    "\n",
    "# 훈련 세트 정확도 : 0.991\n",
    "# 테스트 세트 정확도 : 0.972\n",
    "# 특성 중요도\n",
    "\n",
    "print(\"특성 중요도 : \\n{}\".format(gbrt.feature_importances_))"
   ]
  },
  {
   "cell_type": "code",
   "execution_count": null,
   "id": "9a229b1b-fcaf-4833-8b7e-94556ce3543b",
   "metadata": {},
   "outputs": [],
   "source": [
    "# 특성 중요도 시각화 하기\n",
    "\n",
    "def plot_feature_importances_cancer(model):\n",
    "    n_features = cancer.data.shape[1]\n",
    "    plt.barh(range(n_features), model.feature_importances_, align='center')\n",
    "    plt.yticks(np.arange(n_features), cancer.feature_names)\n",
    "    plt.xlabel(\"attr importances\")\n",
    "    plt.ylabel(\"attr\")\n",
    "    plt.ylim(-1, n_features)\n",
    "\n",
    "plt.show()\n",
    "\n",
    "plot_feature_importances_cancer(gbrt)\n"
   ]
  },
  {
   "cell_type": "code",
   "execution_count": null,
   "id": "bdd102ed-7032-4c14-8141-b5427baf0913",
   "metadata": {},
   "outputs": [],
   "source": []
  },
  {
   "cell_type": "code",
   "execution_count": null,
   "id": "2fb4d797-4fd3-41c5-a4f3-906a1b05d53f",
   "metadata": {},
   "outputs": [],
   "source": []
  },
  {
   "cell_type": "code",
   "execution_count": null,
   "id": "10d2e6bc-84d2-4052-9a51-60ab2fae577e",
   "metadata": {},
   "outputs": [],
   "source": []
  },
  {
   "cell_type": "code",
   "execution_count": null,
   "id": "d43d702d-e5ec-470b-9846-2cc8cd167c42",
   "metadata": {},
   "outputs": [],
   "source": []
  },
  {
   "cell_type": "code",
   "execution_count": null,
   "id": "a4487604-749f-4c25-8440-8ab0eedb8a91",
   "metadata": {},
   "outputs": [],
   "source": []
  },
  {
   "cell_type": "code",
   "execution_count": null,
   "id": "682105d0-4b16-4cdb-8507-02b78259de03",
   "metadata": {},
   "outputs": [],
   "source": []
  },
  {
   "cell_type": "code",
   "execution_count": null,
   "id": "b72ea0fe-cb08-46b6-9b95-4cfd8149157d",
   "metadata": {},
   "outputs": [],
   "source": []
  },
  {
   "cell_type": "code",
   "execution_count": null,
   "id": "5ba46325-ab1f-4132-9b9b-a3652505a55a",
   "metadata": {},
   "outputs": [],
   "source": []
  },
  {
   "cell_type": "code",
   "execution_count": null,
   "id": "1a79f14d-5ab1-4bf7-8252-4839b4233d77",
   "metadata": {},
   "outputs": [],
   "source": []
  },
  {
   "cell_type": "code",
   "execution_count": null,
   "id": "5cc80cd6-ae0d-42b1-a626-b118bdc17e30",
   "metadata": {},
   "outputs": [],
   "source": []
  },
  {
   "cell_type": "code",
   "execution_count": null,
   "id": "0c000c39-b5a2-44dc-a6f1-bae73e406cad",
   "metadata": {},
   "outputs": [],
   "source": []
  },
  {
   "cell_type": "code",
   "execution_count": null,
   "id": "bd53386c-4bcd-4855-94ad-80c859309896",
   "metadata": {},
   "outputs": [],
   "source": []
  },
  {
   "cell_type": "code",
   "execution_count": null,
   "id": "dfa21db8-f992-47cf-8982-d6ce85c5a573",
   "metadata": {},
   "outputs": [],
   "source": []
  },
  {
   "cell_type": "code",
   "execution_count": null,
   "id": "9f5b3374-f9c7-488b-9247-a7567c8c389b",
   "metadata": {},
   "outputs": [],
   "source": []
  },
  {
   "cell_type": "code",
   "execution_count": null,
   "id": "ea408da4-f105-40cb-8a8a-92cd0fd137c3",
   "metadata": {},
   "outputs": [],
   "source": []
  },
  {
   "cell_type": "code",
   "execution_count": null,
   "id": "1f2b9575-b978-44ab-b322-b0f737aa92b6",
   "metadata": {},
   "outputs": [],
   "source": []
  }
 ],
 "metadata": {
  "hide_input": false,
  "kernelspec": {
   "display_name": "py_38_all_adsp",
   "language": "python",
   "name": "py_38_all_adsp"
  },
  "language_info": {
   "codemirror_mode": {
    "name": "ipython",
    "version": 3
   },
   "file_extension": ".py",
   "mimetype": "text/x-python",
   "name": "python",
   "nbconvert_exporter": "python",
   "pygments_lexer": "ipython3",
   "version": "3.8.12"
  },
  "toc": {
   "base_numbering": 1,
   "nav_menu": {},
   "number_sections": true,
   "sideBar": true,
   "skip_h1_title": false,
   "title_cell": "Table of Contents",
   "title_sidebar": "Contents",
   "toc_cell": false,
   "toc_position": {},
   "toc_section_display": true,
   "toc_window_display": false
  },
  "varInspector": {
   "cols": {
    "lenName": 16,
    "lenType": 16,
    "lenVar": 40
   },
   "kernels_config": {
    "python": {
     "delete_cmd_postfix": "",
     "delete_cmd_prefix": "del ",
     "library": "var_list.py",
     "varRefreshCmd": "print(var_dic_list())"
    },
    "r": {
     "delete_cmd_postfix": ") ",
     "delete_cmd_prefix": "rm(",
     "library": "var_list.r",
     "varRefreshCmd": "cat(var_dic_list()) "
    }
   },
   "types_to_exclude": [
    "module",
    "function",
    "builtin_function_or_method",
    "instance",
    "_Feature"
   ],
   "window_display": false
  }
 },
 "nbformat": 4,
 "nbformat_minor": 5
}
